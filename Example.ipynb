{
 "cells": [
  {
   "cell_type": "code",
   "execution_count": 1,
   "id": "creative-detail",
   "metadata": {},
   "outputs": [
    {
     "name": "stderr",
     "output_type": "stream",
     "text": [
      "Global seed set to 42\n"
     ]
    },
    {
     "name": "stdout",
     "output_type": "stream",
     "text": [
      "Device: cuda:0\n"
     ]
    }
   ],
   "source": [
    "import torch\n",
    "import pandas as pd\n",
    "from modules.MyTrainer import NILMTrainer\n",
    "from modules.helpers import create_tree_dir, save_report, train_model, display_res,train_eval\n",
    "from torch.utils.data import Dataset, DataLoader\n",
    "\n",
    "from modules.MyDataSet import MyChunk, MyChunkList\n",
    "\n",
    "with torch.no_grad():\n",
    "    torch.cuda.empty_cache() "
   ]
  },
  {
   "cell_type": "markdown",
   "id": "detailed-consultation",
   "metadata": {},
   "source": [
    "# Project Settings"
   ]
  },
  {
   "cell_type": "code",
   "execution_count": 2,
   "id": "fallen-preference",
   "metadata": {},
   "outputs": [
    {
     "name": "stdout",
     "output_type": "stream",
     "text": [
      "root\n",
      "all clean\n",
      "/mnt/B40864F10864B450/WorkSpace/PHD/PHD_exps/NewPaper/torch_nilm/output2\n",
      "1\n"
     ]
    }
   ],
   "source": [
    "clean = True\n",
    "ROOT = 'output'\n",
    "data_dir = '/mnt/B40864F10864B450/WorkSpace/PHD/PHD_exps/data'\n",
    "train_file_dir = 'dates/train/'\n",
    "test_file_dir = 'dates/test/'\n",
    "\n",
    "dev_list = ['fridge', \n",
    "#             'kettle', \n",
    "#             'washing machine',\n",
    "#             'washer dryer',\n",
    "#             'tumble dryer',\n",
    "#             'dish washer',\n",
    "#             'microwave',\n",
    "#             'television',\n",
    "#             'computer',\n",
    "#             'electric space heater'\n",
    "           ]\n",
    "mod_list = [\n",
    "#             'SF2P',\n",
    "#             'S2P',\n",
    "#             'SimpleGru',\n",
    "#             'FFED',\n",
    "            'SAED',\n",
    "#             'FNET',\n",
    "#             'WGRU',\n",
    "            ]\n",
    "cat_list = [x for x in ['Single', 'Multi']]\n",
    "tree_levels = {'root': ROOT, 'l1': ['results'], 'l2': dev_list, 'l3': mod_list, 'experiments':cat_list}\n",
    "create_tree_dir(tree_levels=tree_levels, clean=clean)"
   ]
  },
  {
   "cell_type": "markdown",
   "id": "metallic-rocket",
   "metadata": {},
   "source": [
    "# Experiment settings"
   ]
  },
  {
   "cell_type": "code",
   "execution_count": 3,
   "id": "rapid-clause",
   "metadata": {},
   "outputs": [],
   "source": [
    "exp_type = 'Single'#'Multi'\n",
    "\n",
    "EPOCHS = 1\n",
    "ITERATIONS = 1\n",
    "\n",
    "SAMPLE_PERIOD = 6\n",
    "WINDOW = 50\n",
    "device = 'fridge'\n",
    "BATCH = 1024\n",
    "\n",
    "model_hparams={\n",
    "              'SimpleGru':{},\n",
    "              'SAED':{'window_size':WINDOW},\n",
    "              'FFED':{},\n",
    "              'WGRU':{'dropout':0.25},\n",
    "              'S2P': {'window_size':WINDOW, 'dropout':0.25},\n",
    "              'SF2P': {'window_size':WINDOW, 'dropout':0.25},\n",
    "              'FNET': {'depth': 2, 'kernel_size':5, 'cnn_dim': 64,\n",
    "                       'input_dim':WINDOW, 'hidden_dim':WINDOW*8, 'dropout':0.25}\n",
    "               }"
   ]
  },
  {
   "cell_type": "code",
   "execution_count": 4,
   "id": "earlier-premium",
   "metadata": {},
   "outputs": [
    {
     "data": {
      "text/html": [
       "<div>\n",
       "<style scoped>\n",
       "    .dataframe tbody tr th:only-of-type {\n",
       "        vertical-align: middle;\n",
       "    }\n",
       "\n",
       "    .dataframe tbody tr th {\n",
       "        vertical-align: top;\n",
       "    }\n",
       "\n",
       "    .dataframe thead th {\n",
       "        text-align: right;\n",
       "    }\n",
       "</style>\n",
       "<table border=\"1\" class=\"dataframe\">\n",
       "  <thead>\n",
       "    <tr style=\"text-align: right;\">\n",
       "      <th></th>\n",
       "      <th>test_house</th>\n",
       "      <th>test_set</th>\n",
       "      <th>test_date</th>\n",
       "    </tr>\n",
       "  </thead>\n",
       "  <tbody>\n",
       "    <tr>\n",
       "      <th>0</th>\n",
       "      <td>2</td>\n",
       "      <td>UKDALE</td>\n",
       "      <td>[2013-05-22, 2013-06-22]</td>\n",
       "    </tr>\n",
       "    <tr>\n",
       "      <th>1</th>\n",
       "      <td>4</td>\n",
       "      <td>UKDALE</td>\n",
       "      <td>[2013-05-22, 2013-06-22]</td>\n",
       "    </tr>\n",
       "    <tr>\n",
       "      <th>2</th>\n",
       "      <td>5</td>\n",
       "      <td>UKDALE</td>\n",
       "      <td>[2014-08-01, 2014-09-01]</td>\n",
       "    </tr>\n",
       "    <tr>\n",
       "      <th>3</th>\n",
       "      <td>5</td>\n",
       "      <td>REFIT</td>\n",
       "      <td>[2014-09-01, 2014-10-01]</td>\n",
       "    </tr>\n",
       "    <tr>\n",
       "      <th>4</th>\n",
       "      <td>6</td>\n",
       "      <td>REFIT</td>\n",
       "      <td>[2014-09-01, 2014-10-01]</td>\n",
       "    </tr>\n",
       "    <tr>\n",
       "      <th>5</th>\n",
       "      <td>20</td>\n",
       "      <td>REFIT</td>\n",
       "      <td>[2015-01-01, 2015-02-01]</td>\n",
       "    </tr>\n",
       "  </tbody>\n",
       "</table>\n",
       "</div>"
      ],
      "text/plain": [
       "  test_house test_set                 test_date\n",
       "0          2   UKDALE  [2013-05-22, 2013-06-22]\n",
       "1          4   UKDALE  [2013-05-22, 2013-06-22]\n",
       "2          5   UKDALE  [2014-08-01, 2014-09-01]\n",
       "3          5    REFIT  [2014-09-01, 2014-10-01]\n",
       "4          6    REFIT  [2014-09-01, 2014-10-01]\n",
       "5         20    REFIT  [2015-01-01, 2015-02-01]"
      ]
     },
     "execution_count": 4,
     "metadata": {},
     "output_type": "execute_result"
    }
   ],
   "source": [
    "test_houses = []\n",
    "test_sets = []\n",
    "test_dates = []\n",
    "test_file = open('{}base{}TestSetsInfo_{}'.format(test_file_dir, exp_type, device), 'r')\n",
    "for line in test_file:    \n",
    "    toks = line.split(',')\n",
    "    test_sets.append(toks[0])\n",
    "    test_houses.append(toks[1])\n",
    "    test_dates.append([str(toks[2]),str(toks[3].rstrip(\"\\n\"))])\n",
    "test_file.close()\n",
    "data = {'test_house': test_houses, 'test_set': test_sets, 'test_date': test_dates}\n",
    "tests_params = pd.DataFrame(data)\n",
    "tests_params"
   ]
  },
  {
   "cell_type": "markdown",
   "id": "musical-inspector",
   "metadata": {},
   "source": [
    "# TrainLoader"
   ]
  },
  {
   "cell_type": "code",
   "execution_count": 5,
   "id": "material-convention",
   "metadata": {},
   "outputs": [
    {
     "name": "stdout",
     "output_type": "stream",
     "text": [
      "/mnt/B40864F10864B450/WorkSpace/PHD/PHD_exps/data/UKDALE/UKDALE.h5\n"
     ]
    },
    {
     "name": "stderr",
     "output_type": "stream",
     "text": [
      "/home/nick/anaconda3/envs/pytorch_nilm/lib/python3.8/site-packages/nilmtk/utils.py:502: UserWarning: Found duplicate index. Keeping first value\n",
      "  warnings.warn(\"Found duplicate index. Keeping first value\")\n",
      "<ipython-input-5-57e6eaaa0720>:13: FutureWarning: Converting timezone-aware DatetimeArray to timezone-naive ndarray with 'datetime64[ns]' dtype. In the future, this will return an ndarray with 'object' dtype where each element is a 'pandas.Timestamp' with the correct 'tz'.\n",
      "\tTo accept the future behavior, pass 'dtype=object'.\n",
      "\tTo keep the old behavior, pass 'dtype=\"datetime64[ns]\"'.\n",
      "  train_dataset = MyChunk(path=path, building=int(train_house), window_size=WINDOW,\n"
     ]
    }
   ],
   "source": [
    "train_file = open('{}base{}TrainSetsInfo_{}'.format(train_file_dir, exp_type, device), 'r')\n",
    "if exp_type=='Single':\n",
    "    for line in train_file:    \n",
    "        toks = line.split(',')\n",
    "        train_set = toks[0]\n",
    "        train_house = toks[1]\n",
    "        train_dates = [str(toks[2]),str(toks[3].rstrip(\"\\n\"))]\n",
    "        break\n",
    "    train_file.close()\n",
    "    \n",
    "    path = data_dir + '/{}/{}.h5'.format(train_set, train_set)\n",
    "    print(path)\n",
    "    train_dataset = MyChunk(path=path, building=int(train_house), window_size=WINDOW,\n",
    "                      device=device, dates=train_dates, sample_period=SAMPLE_PERIOD)\n",
    "else:\n",
    "    for line in train_file:    \n",
    "        toks = line.split(',')\n",
    "        train_set = toks[0]\n",
    "        break\n",
    "    train_file.close()\n",
    "    train_dataset = MyChunkList(device,filename=train_file,\n",
    "                                window_size=WINDOW, sample_period=SAMPLE_PERIOD)\n",
    "    \n",
    "train_loader = DataLoader(train_dataset, batch_size=BATCH, \n",
    "                          shuffle=False, num_workers=8)\n",
    "mmax = train_dataset.mmax"
   ]
  },
  {
   "cell_type": "markdown",
   "id": "included-paper",
   "metadata": {},
   "source": [
    "# Run Experiment"
   ]
  },
  {
   "cell_type": "code",
   "execution_count": 6,
   "id": "split-isolation",
   "metadata": {
    "scrolled": false
   },
   "outputs": [
    {
     "name": "stderr",
     "output_type": "stream",
     "text": [
      "GPU available: True, used: True\n",
      "TPU available: None, using: 0 TPU cores\n",
      "LOCAL_RANK: 0 - CUDA_VISIBLE_DEVICES: [0]\n"
     ]
    },
    {
     "name": "stdout",
     "output_type": "stream",
     "text": [
      "fridge_Single_Train_UKDALE_\n",
      "########################################\n",
      "MODEL:  SAED\n",
      "########################################\n",
      "####################\n",
      "Iteration:  1\n",
      "####################\n"
     ]
    },
    {
     "name": "stderr",
     "output_type": "stream",
     "text": [
      "\n",
      "  | Name  | Type | Params\n",
      "-------------------------------\n",
      "0 | model | SAED | 44.9 K\n",
      "-------------------------------\n",
      "44.9 K    Trainable params\n",
      "0         Non-trainable params\n",
      "44.9 K    Total params\n",
      "0.180     Total estimated model params size (MB)\n"
     ]
    },
    {
     "data": {
      "application/vnd.jupyter.widget-view+json": {
       "model_id": "a2bfeff6fe324e0a9dda2423cd4f5640",
       "version_major": 2,
       "version_minor": 0
      },
      "text/plain": [
       "Training: 0it [00:00, ?it/s]"
      ]
     },
     "metadata": {},
     "output_type": "display_data"
    },
    {
     "name": "stderr",
     "output_type": "stream",
     "text": [
      "/home/nick/anaconda3/envs/pytorch_nilm/lib/python3.8/site-packages/pytorch_lightning/utilities/distributed.py:52: UserWarning: The {log:dict keyword} was deprecated in 0.9.1 and will be removed in 1.0.0\n",
      "Please use self.log(...) inside the lightningModule instead.\n",
      "# log on a step or aggregate epoch metric to the logger and/or progress bar (inside LightningModule)\n",
      "self.log('train_loss', loss, on_step=True, on_epoch=True, prog_bar=True)\n",
      "  warnings.warn(*args, **kwargs)\n"
     ]
    },
    {
     "name": "stdout",
     "output_type": "stream",
     "text": [
      "################################################################################\n",
      "Evaluate house 2 of UKDALE for ['2013-05-22', '2013-06-22']\n",
      "################################################################################\n"
     ]
    },
    {
     "name": "stderr",
     "output_type": "stream",
     "text": [
      "/mnt/B40864F10864B450/WorkSpace/PHD/PHD_exps/NewPaper/torch_nilm/modules/helpers.py:148: FutureWarning: Converting timezone-aware DatetimeArray to timezone-naive ndarray with 'datetime64[ns]' dtype. In the future, this will return an ndarray with 'object' dtype where each element is a 'pandas.Timestamp' with the correct 'tz'.\n",
      "\tTo accept the future behavior, pass 'dtype=object'.\n",
      "\tTo keep the old behavior, pass 'dtype=\"datetime64[ns]\"'.\n",
      "  test_dataset = MyChunk(path=path, building=int(building), window_size=window_size,\n",
      "LOCAL_RANK: 0 - CUDA_VISIBLE_DEVICES: [0]\n"
     ]
    },
    {
     "data": {
      "application/vnd.jupyter.widget-view+json": {
       "model_id": "cfbb1c0d827c4296b479eb991896df96",
       "version_major": 2,
       "version_minor": 0
      },
      "text/plain": [
       "Testing: 0it [00:00, ?it/s]"
      ]
     },
     "metadata": {},
     "output_type": "display_data"
    },
    {
     "name": "stdout",
     "output_type": "stream",
     "text": [
      "#### model name: SAED ####\n",
      "metrics: {'recall': 0.27, 'precision': 0.681, 'f1': 0.387, 'accuracy': 0.671, 'MAE': 29.817, 'RETE': 0.344}\n",
      "--------------------------------------------------------------------------------\n",
      "DATALOADER:0 TEST RESULTS\n",
      "{'metrics': {'MAE': 29.817,\n",
      "             'RETE': 0.344,\n",
      "             'accuracy': 0.671,\n",
      "             'f1': 0.387,\n",
      "             'precision': 0.681,\n",
      "             'recall': 0.27},\n",
      " 'model': 'SAED',\n",
      " 'preds': array([0.00409674, 0.00407924, 0.00405139, ..., 0.0007396 , 0.00074128,\n",
      "       0.00074039]),\n",
      " 'test_test_avg_loss': 5.012438850826584e-05}\n",
      "--------------------------------------------------------------------------------\n",
      "Report saved at:  /mnt/B40864F10864B450/WorkSpace/PHD/PHD_exps/NewPaper/torch_nilm/output2/results/fridge/SAED/Single/fridge_Single_Train_UKDALE_test_2_UKDALE/\n"
     ]
    },
    {
     "name": "stderr",
     "output_type": "stream",
     "text": [
      "/home/nick/anaconda3/envs/pytorch_nilm/lib/python3.8/site-packages/pytorch_lightning/utilities/distributed.py:52: UserWarning: The testing_epoch_end should not return anything as of 9.1. To log, use self.log(...) or self.write(...) directly in the LightningModule\n",
      "  warnings.warn(*args, **kwargs)\n"
     ]
    },
    {
     "name": "stdout",
     "output_type": "stream",
     "text": [
      "################################################################################\n",
      "Evaluate house 4 of UKDALE for ['2013-05-22', '2013-06-22']\n",
      "################################################################################\n"
     ]
    },
    {
     "name": "stderr",
     "output_type": "stream",
     "text": [
      "/mnt/B40864F10864B450/WorkSpace/PHD/PHD_exps/NewPaper/torch_nilm/modules/helpers.py:148: FutureWarning: Converting timezone-aware DatetimeArray to timezone-naive ndarray with 'datetime64[ns]' dtype. In the future, this will return an ndarray with 'object' dtype where each element is a 'pandas.Timestamp' with the correct 'tz'.\n",
      "\tTo accept the future behavior, pass 'dtype=object'.\n",
      "\tTo keep the old behavior, pass 'dtype=\"datetime64[ns]\"'.\n",
      "  test_dataset = MyChunk(path=path, building=int(building), window_size=window_size,\n",
      "LOCAL_RANK: 0 - CUDA_VISIBLE_DEVICES: [0]\n"
     ]
    },
    {
     "data": {
      "application/vnd.jupyter.widget-view+json": {
       "model_id": "02aec01b29844e6c8b609c42bd1008d0",
       "version_major": 2,
       "version_minor": 0
      },
      "text/plain": [
       "Testing: 0it [00:00, ?it/s]"
      ]
     },
     "metadata": {},
     "output_type": "display_data"
    },
    {
     "name": "stdout",
     "output_type": "stream",
     "text": [
      "#### model name: SAED ####\n",
      "metrics: {'recall': 0.502, 'precision': 0.615, 'f1': 0.553, 'accuracy': 0.671, 'MAE': 36.864, 'RETE': 0.092}\n",
      "--------------------------------------------------------------------------------\n",
      "DATALOADER:0 TEST RESULTS\n",
      "{'metrics': {'MAE': 36.864,\n",
      "             'RETE': 0.092,\n",
      "             'accuracy': 0.671,\n",
      "             'f1': 0.553,\n",
      "             'precision': 0.615,\n",
      "             'recall': 0.502},\n",
      " 'model': 'SAED',\n",
      " 'preds': array([0.01048727, 0.01048739, 0.01048401, ..., 0.00803634, 0.00803806,\n",
      "       0.00804898]),\n",
      " 'test_test_avg_loss': 5.21758156537544e-05}\n",
      "--------------------------------------------------------------------------------\n",
      "Report saved at:  /mnt/B40864F10864B450/WorkSpace/PHD/PHD_exps/NewPaper/torch_nilm/output2/results/fridge/SAED/Single/fridge_Single_Train_UKDALE_test_4_UKDALE/\n",
      "################################################################################\n",
      "Evaluate house 5 of UKDALE for ['2014-08-01', '2014-09-01']\n",
      "################################################################################\n"
     ]
    },
    {
     "name": "stderr",
     "output_type": "stream",
     "text": [
      "/mnt/B40864F10864B450/WorkSpace/PHD/PHD_exps/NewPaper/torch_nilm/modules/helpers.py:148: FutureWarning: Converting timezone-aware DatetimeArray to timezone-naive ndarray with 'datetime64[ns]' dtype. In the future, this will return an ndarray with 'object' dtype where each element is a 'pandas.Timestamp' with the correct 'tz'.\n",
      "\tTo accept the future behavior, pass 'dtype=object'.\n",
      "\tTo keep the old behavior, pass 'dtype=\"datetime64[ns]\"'.\n",
      "  test_dataset = MyChunk(path=path, building=int(building), window_size=window_size,\n",
      "LOCAL_RANK: 0 - CUDA_VISIBLE_DEVICES: [0]\n"
     ]
    },
    {
     "data": {
      "application/vnd.jupyter.widget-view+json": {
       "model_id": "91d09a3c18174e4b96721a7f783c143c",
       "version_major": 2,
       "version_minor": 0
      },
      "text/plain": [
       "Testing: 0it [00:00, ?it/s]"
      ]
     },
     "metadata": {},
     "output_type": "display_data"
    },
    {
     "name": "stdout",
     "output_type": "stream",
     "text": [
      "#### model name: SAED ####\n",
      "metrics: {'recall': 0.859, 'precision': 0.417, 'f1': 0.561, 'accuracy': 0.516, 'MAE': 53.458, 'RETE': 0.312}\n",
      "--------------------------------------------------------------------------------\n",
      "DATALOADER:0 TEST RESULTS\n",
      "{'metrics': {'MAE': 53.458,\n",
      "             'RETE': 0.312,\n",
      "             'accuracy': 0.516,\n",
      "             'f1': 0.561,\n",
      "             'precision': 0.417,\n",
      "             'recall': 0.859},\n",
      " 'model': 'SAED',\n",
      " 'preds': array([0.00875082, 0.00875548, 0.00875291, ..., 0.00925478, 0.00925565,\n",
      "       0.00925727]),\n",
      " 'test_test_avg_loss': 7.812755211489275e-05}\n",
      "--------------------------------------------------------------------------------\n",
      "Report saved at:  /mnt/B40864F10864B450/WorkSpace/PHD/PHD_exps/NewPaper/torch_nilm/output2/results/fridge/SAED/Single/fridge_Single_Train_UKDALE_test_5_UKDALE/\n",
      "################################################################################\n",
      "Evaluate house 5 of REFIT for ['2014-09-01', '2014-10-01']\n",
      "################################################################################\n"
     ]
    },
    {
     "name": "stderr",
     "output_type": "stream",
     "text": [
      "/home/nick/anaconda3/envs/pytorch_nilm/lib/python3.8/site-packages/nilmtk/elecmeter.py:428: UserWarning: The provided sample_period (6) is shorter than the meter's sample_period (7)\n",
      "  warn(\"The provided sample_period ({}) is shorter than the meter's sample_period ({})\".format(\n",
      "/mnt/B40864F10864B450/WorkSpace/PHD/PHD_exps/NewPaper/torch_nilm/modules/helpers.py:148: FutureWarning: Converting timezone-aware DatetimeArray to timezone-naive ndarray with 'datetime64[ns]' dtype. In the future, this will return an ndarray with 'object' dtype where each element is a 'pandas.Timestamp' with the correct 'tz'.\n",
      "\tTo accept the future behavior, pass 'dtype=object'.\n",
      "\tTo keep the old behavior, pass 'dtype=\"datetime64[ns]\"'.\n",
      "  test_dataset = MyChunk(path=path, building=int(building), window_size=window_size,\n",
      "LOCAL_RANK: 0 - CUDA_VISIBLE_DEVICES: [0]\n"
     ]
    },
    {
     "data": {
      "application/vnd.jupyter.widget-view+json": {
       "model_id": "4e21b87400a541bf8363c4b0c4c34b25",
       "version_major": 2,
       "version_minor": 0
      },
      "text/plain": [
       "Testing: 0it [00:00, ?it/s]"
      ]
     },
     "metadata": {},
     "output_type": "display_data"
    },
    {
     "name": "stdout",
     "output_type": "stream",
     "text": [
      "#### model name: SAED ####\n",
      "metrics: {'recall': 0.766, 'precision': 0.579, 'f1': 0.66, 'accuracy': 0.556, 'MAE': 57.292, 'RETE': 0.138}\n",
      "--------------------------------------------------------------------------------\n",
      "DATALOADER:0 TEST RESULTS\n",
      "{'metrics': {'MAE': 57.292,\n",
      "             'RETE': 0.138,\n",
      "             'accuracy': 0.556,\n",
      "             'f1': 0.66,\n",
      "             'precision': 0.579,\n",
      "             'recall': 0.766},\n",
      " 'model': 'SAED',\n",
      " 'preds': array([0.00638887, 0.00638887, 0.00638887, ..., 0.01105971, 0.01107972,\n",
      "       0.01110147]),\n",
      " 'test_test_avg_loss': 0.00013228868192527443}\n",
      "--------------------------------------------------------------------------------\n",
      "Report saved at:  /mnt/B40864F10864B450/WorkSpace/PHD/PHD_exps/NewPaper/torch_nilm/output2/results/fridge/SAED/Single/fridge_Single_Train_UKDALE_test_5_REFIT/\n",
      "################################################################################\n",
      "Evaluate house 6 of REFIT for ['2014-09-01', '2014-10-01']\n",
      "################################################################################\n"
     ]
    },
    {
     "name": "stderr",
     "output_type": "stream",
     "text": [
      "/home/nick/anaconda3/envs/pytorch_nilm/lib/python3.8/site-packages/nilmtk/elecmeter.py:428: UserWarning: The provided sample_period (6) is shorter than the meter's sample_period (7)\n",
      "  warn(\"The provided sample_period ({}) is shorter than the meter's sample_period ({})\".format(\n",
      "/mnt/B40864F10864B450/WorkSpace/PHD/PHD_exps/NewPaper/torch_nilm/modules/helpers.py:148: FutureWarning: Converting timezone-aware DatetimeArray to timezone-naive ndarray with 'datetime64[ns]' dtype. In the future, this will return an ndarray with 'object' dtype where each element is a 'pandas.Timestamp' with the correct 'tz'.\n",
      "\tTo accept the future behavior, pass 'dtype=object'.\n",
      "\tTo keep the old behavior, pass 'dtype=\"datetime64[ns]\"'.\n",
      "  test_dataset = MyChunk(path=path, building=int(building), window_size=window_size,\n",
      "LOCAL_RANK: 0 - CUDA_VISIBLE_DEVICES: [0]\n"
     ]
    },
    {
     "data": {
      "application/vnd.jupyter.widget-view+json": {
       "model_id": "177646578c3f472aab5b5ee91144bde9",
       "version_major": 2,
       "version_minor": 0
      },
      "text/plain": [
       "Testing: 0it [00:00, ?it/s]"
      ]
     },
     "metadata": {},
     "output_type": "display_data"
    },
    {
     "name": "stdout",
     "output_type": "stream",
     "text": [
      "#### model name: SAED ####\n",
      "metrics: {'recall': 0.59, 'precision': 0.433, 'f1': 0.499, 'accuracy': 0.543, 'MAE': 35.791, 'RETE': 0.559}\n",
      "--------------------------------------------------------------------------------\n",
      "DATALOADER:0 TEST RESULTS\n",
      "{'metrics': {'MAE': 35.791,\n",
      "             'RETE': 0.559,\n",
      "             'accuracy': 0.543,\n",
      "             'f1': 0.499,\n",
      "             'precision': 0.433,\n",
      "             'recall': 0.59},\n",
      " 'model': 'SAED',\n",
      " 'preds': array([0.00421353, 0.00414762, 0.00411379, ..., 0.01130242, 0.01130203,\n",
      "       0.01131338]),\n",
      " 'test_test_avg_loss': 5.631013846141286e-05}\n",
      "--------------------------------------------------------------------------------\n",
      "Report saved at:  /mnt/B40864F10864B450/WorkSpace/PHD/PHD_exps/NewPaper/torch_nilm/output2/results/fridge/SAED/Single/fridge_Single_Train_UKDALE_test_6_REFIT/\n",
      "################################################################################\n",
      "Evaluate house 20 of REFIT for ['2015-01-01', '2015-02-01']\n",
      "################################################################################\n"
     ]
    },
    {
     "name": "stderr",
     "output_type": "stream",
     "text": [
      "/home/nick/anaconda3/envs/pytorch_nilm/lib/python3.8/site-packages/nilmtk/elecmeter.py:428: UserWarning: The provided sample_period (6) is shorter than the meter's sample_period (7)\n",
      "  warn(\"The provided sample_period ({}) is shorter than the meter's sample_period ({})\".format(\n",
      "/mnt/B40864F10864B450/WorkSpace/PHD/PHD_exps/NewPaper/torch_nilm/modules/helpers.py:148: FutureWarning: Converting timezone-aware DatetimeArray to timezone-naive ndarray with 'datetime64[ns]' dtype. In the future, this will return an ndarray with 'object' dtype where each element is a 'pandas.Timestamp' with the correct 'tz'.\n",
      "\tTo accept the future behavior, pass 'dtype=object'.\n",
      "\tTo keep the old behavior, pass 'dtype=\"datetime64[ns]\"'.\n",
      "  test_dataset = MyChunk(path=path, building=int(building), window_size=window_size,\n",
      "LOCAL_RANK: 0 - CUDA_VISIBLE_DEVICES: [0]\n"
     ]
    },
    {
     "data": {
      "application/vnd.jupyter.widget-view+json": {
       "model_id": "db32e1ce455641f1834ea274bf6fd852",
       "version_major": 2,
       "version_minor": 0
      },
      "text/plain": [
       "Testing: 0it [00:00, ?it/s]"
      ]
     },
     "metadata": {},
     "output_type": "display_data"
    },
    {
     "name": "stdout",
     "output_type": "stream",
     "text": [
      "#### model name: SAED ####\n",
      "metrics: {'recall': 0.442, 'precision': 0.538, 'f1': 0.485, 'accuracy': 0.658, 'MAE': 39.493, 'RETE': 0.09}\n",
      "--------------------------------------------------------------------------------\n",
      "DATALOADER:0 TEST RESULTS\n",
      "{'metrics': {'MAE': 39.493,\n",
      "             'RETE': 0.09,\n",
      "             'accuracy': 0.658,\n",
      "             'f1': 0.485,\n",
      "             'precision': 0.538,\n",
      "             'recall': 0.442},\n",
      " 'model': 'SAED',\n",
      " 'preds': array([0.00469886, 0.00468588, 0.00469715, ..., 0.00458437, 0.00457674,\n",
      "       0.00459623]),\n",
      " 'test_test_avg_loss': 5.412155587691814e-05}\n",
      "--------------------------------------------------------------------------------\n",
      "Report saved at:  /mnt/B40864F10864B450/WorkSpace/PHD/PHD_exps/NewPaper/torch_nilm/output2/results/fridge/SAED/Single/fridge_Single_Train_UKDALE_test_20_REFIT/\n"
     ]
    }
   ],
   "source": [
    "experiment_name = '_'.join([device, exp_type,'Train',train_set,'',])\n",
    "print(experiment_name)\n",
    "eval_params={'device':device,\n",
    "             'mmax':mmax,\n",
    "             'groundtruth':''}\n",
    "for model_name in mod_list:\n",
    "    print('#'*40)\n",
    "    print('MODEL: ', model_name)\n",
    "    print('#'*40)\n",
    "    for iteration in range(1,ITERATIONS+1):\n",
    "        print('#'*20)\n",
    "        print('Iteration: ', iteration)\n",
    "        print('#'*20)\n",
    "        experiment_name = '_'.join([device, exp_type,'Train',train_set,'',])\n",
    "        train_eval(model_name, \n",
    "                   train_loader, \n",
    "                   exp_type, \n",
    "                   tests_params,\n",
    "                   SAMPLE_PERIOD, \n",
    "                   BATCH, \n",
    "                   experiment_name, \n",
    "                   iteration,\n",
    "                   device,\n",
    "                   mmax,\n",
    "                   WINDOW, \n",
    "                   ROOT, \n",
    "                   data_dir,\n",
    "                   epochs=EPOCHS,\n",
    "                   eval_params=eval_params,\n",
    "                   model_hparams=model_hparams[model_name])"
   ]
  },
  {
   "cell_type": "code",
   "execution_count": 7,
   "id": "paperback-plaza",
   "metadata": {},
   "outputs": [],
   "source": [
    "display_res(ROOT, model_name, device, exp_type,experiment_name,\n",
    "            1,low_lim=5000, upper_lim=10000)"
   ]
  },
  {
   "cell_type": "code",
   "execution_count": null,
   "id": "hawaiian-forestry",
   "metadata": {},
   "outputs": [],
   "source": []
  }
 ],
 "metadata": {
  "kernelspec": {
   "display_name": "Python 3",
   "language": "python",
   "name": "python3"
  },
  "language_info": {
   "codemirror_mode": {
    "name": "ipython",
    "version": 3
   },
   "file_extension": ".py",
   "mimetype": "text/x-python",
   "name": "python",
   "nbconvert_exporter": "python",
   "pygments_lexer": "ipython3",
   "version": "3.8.8"
  }
 },
 "nbformat": 4,
 "nbformat_minor": 5
}
