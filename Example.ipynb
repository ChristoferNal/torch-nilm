{
 "cells": [
  {
   "cell_type": "code",
   "execution_count": 1,
   "id": "shared-template",
   "metadata": {},
   "outputs": [
    {
     "name": "stderr",
     "output_type": "stream",
     "text": [
      "Global seed set to 42\n"
     ]
    },
    {
     "name": "stdout",
     "output_type": "stream",
     "text": [
      "Device: cuda:0\n"
     ]
    }
   ],
   "source": [
    "import torch\n",
    "import pandas as pd\n",
    "from modules.MyTrainer import NILMTrainer\n",
    "from modules.helpers import create_tree_dir, save_report, train_model, display_res,train_eval\n",
    "from torch.utils.data import Dataset, DataLoader\n",
    "\n",
    "from modules.MyDataSet import MyChunk, MyChunkList\n",
    "\n",
    "with torch.no_grad():\n",
    "    torch.cuda.empty_cache() "
   ]
  },
  {
   "cell_type": "markdown",
   "id": "prospective-adelaide",
   "metadata": {},
   "source": [
    "# Project Settings"
   ]
  },
  {
   "cell_type": "code",
   "execution_count": 2,
   "id": "fantastic-boards",
   "metadata": {},
   "outputs": [
    {
     "name": "stdout",
     "output_type": "stream",
     "text": [
      "root\n",
      "all clean\n",
      "/mnt/B40864F10864B450/WorkSpace/PHD/PHD_exps/NewPaper/torch_nilm/output\n",
      "1\n"
     ]
    }
   ],
   "source": [
    "clean = True\n",
    "ROOT = 'output'\n",
    "data_dir = '/mnt/B40864F10864B450/WorkSpace/PHD/PHD_exps/data'\n",
    "train_file_dir = 'dates/train/'\n",
    "test_file_dir = 'dates/test/'\n",
    "\n",
    "dev_list = ['fridge', \n",
    "#             'kettle', \n",
    "#             'washing machine',\n",
    "#             'washer dryer',\n",
    "#             'tumble dryer',\n",
    "#             'dish washer',\n",
    "#             'microwave',\n",
    "#             'television',\n",
    "#             'computer',\n",
    "#             'electric space heater'\n",
    "           ]\n",
    "mod_list = [\n",
    "#             'SF2P',\n",
    "#             'S2P',\n",
    "#             'SimpleGru',\n",
    "#             'FFED',\n",
    "#             'SAED',\n",
    "#             'FNET',\n",
    "#             'WGRU',\n",
    "            'ConvFourier'\n",
    "            ]\n",
    "cat_list = [x for x in ['Single', 'Multi']]\n",
    "tree_levels = {'root': ROOT, 'l1': ['results'], 'l2': dev_list, 'l3': mod_list, 'experiments':cat_list}\n",
    "create_tree_dir(tree_levels=tree_levels, clean=clean)"
   ]
  },
  {
   "cell_type": "markdown",
   "id": "constant-center",
   "metadata": {},
   "source": [
    "# Experiment settings"
   ]
  },
  {
   "cell_type": "code",
   "execution_count": 3,
   "id": "metropolitan-batch",
   "metadata": {},
   "outputs": [],
   "source": [
    "exp_type = 'Single'#'Multi'\n",
    "\n",
    "EPOCHS = 5\n",
    "ITERATIONS = 1\n",
    "\n",
    "SAMPLE_PERIOD = 6\n",
    "WINDOW = 50\n",
    "device = 'fridge'\n",
    "BATCH = 1024\n",
    "\n",
    "model_hparams={\n",
    "              'SimpleGru':{},\n",
    "              'SAED':{'window_size':WINDOW},\n",
    "              'FFED':{},\n",
    "              'WGRU':{'dropout':0.25},\n",
    "              'S2P': {'window_size':WINDOW, 'dropout':0.25},\n",
    "              'ConvFourier': {'window_size':WINDOW, 'dropout':0.25},\n",
    "              'SF2P': {'window_size':WINDOW, 'dropout':0.25},\n",
    "              'FNET': {'depth': 2, 'kernel_size':5, 'cnn_dim': 64,\n",
    "                       'input_dim':WINDOW, 'hidden_dim':WINDOW*8, 'dropout':0.25}\n",
    "               }"
   ]
  },
  {
   "cell_type": "code",
   "execution_count": 4,
   "id": "vocal-theory",
   "metadata": {},
   "outputs": [
    {
     "data": {
      "text/html": [
       "<div>\n",
       "<style scoped>\n",
       "    .dataframe tbody tr th:only-of-type {\n",
       "        vertical-align: middle;\n",
       "    }\n",
       "\n",
       "    .dataframe tbody tr th {\n",
       "        vertical-align: top;\n",
       "    }\n",
       "\n",
       "    .dataframe thead th {\n",
       "        text-align: right;\n",
       "    }\n",
       "</style>\n",
       "<table border=\"1\" class=\"dataframe\">\n",
       "  <thead>\n",
       "    <tr style=\"text-align: right;\">\n",
       "      <th></th>\n",
       "      <th>test_house</th>\n",
       "      <th>test_set</th>\n",
       "      <th>test_date</th>\n",
       "    </tr>\n",
       "  </thead>\n",
       "  <tbody>\n",
       "    <tr>\n",
       "      <th>0</th>\n",
       "      <td>1</td>\n",
       "      <td>UKDALE</td>\n",
       "      <td>[2014-09-01, 2014-10-01]</td>\n",
       "    </tr>\n",
       "    <tr>\n",
       "      <th>1</th>\n",
       "      <td>2</td>\n",
       "      <td>UKDALE</td>\n",
       "      <td>[2013-05-22, 2013-06-22]</td>\n",
       "    </tr>\n",
       "    <tr>\n",
       "      <th>2</th>\n",
       "      <td>4</td>\n",
       "      <td>UKDALE</td>\n",
       "      <td>[2013-05-22, 2013-06-22]</td>\n",
       "    </tr>\n",
       "    <tr>\n",
       "      <th>3</th>\n",
       "      <td>5</td>\n",
       "      <td>UKDALE</td>\n",
       "      <td>[2014-08-01, 2014-09-01]</td>\n",
       "    </tr>\n",
       "    <tr>\n",
       "      <th>4</th>\n",
       "      <td>5</td>\n",
       "      <td>REFIT</td>\n",
       "      <td>[2014-09-01, 2014-10-01]</td>\n",
       "    </tr>\n",
       "    <tr>\n",
       "      <th>5</th>\n",
       "      <td>6</td>\n",
       "      <td>REFIT</td>\n",
       "      <td>[2014-09-01, 2014-10-01]</td>\n",
       "    </tr>\n",
       "    <tr>\n",
       "      <th>6</th>\n",
       "      <td>20</td>\n",
       "      <td>REFIT</td>\n",
       "      <td>[2015-01-01, 2015-02-01]</td>\n",
       "    </tr>\n",
       "  </tbody>\n",
       "</table>\n",
       "</div>"
      ],
      "text/plain": [
       "  test_house test_set                 test_date\n",
       "0          1   UKDALE  [2014-09-01, 2014-10-01]\n",
       "1          2   UKDALE  [2013-05-22, 2013-06-22]\n",
       "2          4   UKDALE  [2013-05-22, 2013-06-22]\n",
       "3          5   UKDALE  [2014-08-01, 2014-09-01]\n",
       "4          5    REFIT  [2014-09-01, 2014-10-01]\n",
       "5          6    REFIT  [2014-09-01, 2014-10-01]\n",
       "6         20    REFIT  [2015-01-01, 2015-02-01]"
      ]
     },
     "execution_count": 4,
     "metadata": {},
     "output_type": "execute_result"
    }
   ],
   "source": [
    "test_houses = []\n",
    "test_sets = []\n",
    "test_dates = []\n",
    "test_file = open('{}base{}TestSetsInfo_{}'.format(test_file_dir, exp_type, device), 'r')\n",
    "for line in test_file:    \n",
    "    toks = line.split(',')\n",
    "    test_sets.append(toks[0])\n",
    "    test_houses.append(toks[1])\n",
    "    test_dates.append([str(toks[2]),str(toks[3].rstrip(\"\\n\"))])\n",
    "test_file.close()\n",
    "data = {'test_house': test_houses, 'test_set': test_sets, 'test_date': test_dates}\n",
    "tests_params = pd.DataFrame(data)\n",
    "tests_params"
   ]
  },
  {
   "cell_type": "markdown",
   "id": "liable-forwarding",
   "metadata": {},
   "source": [
    "# TrainLoader"
   ]
  },
  {
   "cell_type": "code",
   "execution_count": 5,
   "id": "typical-season",
   "metadata": {},
   "outputs": [
    {
     "name": "stdout",
     "output_type": "stream",
     "text": [
      "/mnt/B40864F10864B450/WorkSpace/PHD/PHD_exps/data/UKDALE/UKDALE.h5\n"
     ]
    },
    {
     "name": "stderr",
     "output_type": "stream",
     "text": [
      "/home/nick/anaconda3/envs/pytorch_nilm/lib/python3.8/site-packages/nilmtk/utils.py:502: UserWarning: Found duplicate index. Keeping first value\n",
      "  warnings.warn(\"Found duplicate index. Keeping first value\")\n",
      "<ipython-input-5-57e6eaaa0720>:13: FutureWarning: Converting timezone-aware DatetimeArray to timezone-naive ndarray with 'datetime64[ns]' dtype. In the future, this will return an ndarray with 'object' dtype where each element is a 'pandas.Timestamp' with the correct 'tz'.\n",
      "\tTo accept the future behavior, pass 'dtype=object'.\n",
      "\tTo keep the old behavior, pass 'dtype=\"datetime64[ns]\"'.\n",
      "  train_dataset = MyChunk(path=path, building=int(train_house), window_size=WINDOW,\n"
     ]
    }
   ],
   "source": [
    "train_file = open('{}base{}TrainSetsInfo_{}'.format(train_file_dir, exp_type, device), 'r')\n",
    "if exp_type=='Single':\n",
    "    for line in train_file:    \n",
    "        toks = line.split(',')\n",
    "        train_set = toks[0]\n",
    "        train_house = toks[1]\n",
    "        train_dates = [str(toks[2]),str(toks[3].rstrip(\"\\n\"))]\n",
    "        break\n",
    "    train_file.close()\n",
    "    \n",
    "    path = data_dir + '/{}/{}.h5'.format(train_set, train_set)\n",
    "    print(path)\n",
    "    train_dataset = MyChunk(path=path, building=int(train_house), window_size=WINDOW,\n",
    "                      device=device, dates=train_dates, sample_period=SAMPLE_PERIOD)\n",
    "else:\n",
    "    for line in train_file:    \n",
    "        toks = line.split(',')\n",
    "        train_set = toks[0]\n",
    "        break\n",
    "    train_file.close()\n",
    "    train_dataset = MyChunkList(device,filename=train_file,\n",
    "                                window_size=WINDOW, sample_period=SAMPLE_PERIOD)\n",
    "    \n",
    "train_loader = DataLoader(train_dataset, batch_size=BATCH, \n",
    "                          shuffle=False, num_workers=8)\n",
    "mmax = train_dataset.mmax"
   ]
  },
  {
   "cell_type": "markdown",
   "id": "least-agent",
   "metadata": {},
   "source": [
    "# Run Experiment"
   ]
  },
  {
   "cell_type": "code",
   "execution_count": null,
   "id": "confident-collector",
   "metadata": {
    "scrolled": false
   },
   "outputs": [
    {
     "name": "stderr",
     "output_type": "stream",
     "text": [
      "GPU available: True, used: True\n",
      "TPU available: None, using: 0 TPU cores\n",
      "LOCAL_RANK: 0 - CUDA_VISIBLE_DEVICES: [0]\n"
     ]
    },
    {
     "name": "stdout",
     "output_type": "stream",
     "text": [
      "fridge_Single_Train_UKDALE_\n",
      "########################################\n",
      "MODEL:  ConvFourier\n",
      "########################################\n",
      "####################\n",
      "Iteration:  1\n",
      "####################\n"
     ]
    },
    {
     "name": "stderr",
     "output_type": "stream",
     "text": [
      "\n",
      "  | Name  | Type        | Params\n",
      "--------------------------------------\n",
      "0 | model | ConvFourier | 1.3 M \n",
      "--------------------------------------\n",
      "1.3 M     Trainable params\n",
      "0         Non-trainable params\n",
      "1.3 M     Total params\n",
      "5.132     Total estimated model params size (MB)\n"
     ]
    },
    {
     "data": {
      "application/vnd.jupyter.widget-view+json": {
       "model_id": "a51eddfa8a0949fa8a3b78d6202c5339",
       "version_major": 2,
       "version_minor": 0
      },
      "text/plain": [
       "Training: 0it [00:00, ?it/s]"
      ]
     },
     "metadata": {},
     "output_type": "display_data"
    },
    {
     "name": "stderr",
     "output_type": "stream",
     "text": [
      "/home/nick/anaconda3/envs/pytorch_nilm/lib/python3.8/site-packages/pytorch_lightning/utilities/distributed.py:52: UserWarning: The {log:dict keyword} was deprecated in 0.9.1 and will be removed in 1.0.0\n",
      "Please use self.log(...) inside the lightningModule instead.\n",
      "# log on a step or aggregate epoch metric to the logger and/or progress bar (inside LightningModule)\n",
      "self.log('train_loss', loss, on_step=True, on_epoch=True, prog_bar=True)\n",
      "  warnings.warn(*args, **kwargs)\n"
     ]
    }
   ],
   "source": [
    "experiments = []\n",
    "experiment_name = '_'.join([device, exp_type,'Train',train_set,'',])\n",
    "print(experiment_name)\n",
    "eval_params={'device':device,\n",
    "             'mmax':mmax,\n",
    "             'groundtruth':''}\n",
    "for model_name in mod_list:\n",
    "    print('#'*40)\n",
    "    print('MODEL: ', model_name)\n",
    "    print('#'*40)\n",
    "    for iteration in range(1,ITERATIONS+1):\n",
    "        print('#'*20)\n",
    "        print('Iteration: ', iteration)\n",
    "        print('#'*20)\n",
    "        experiment_name = '_'.join([device, exp_type,'Train',train_set,'',])\n",
    "        experiments.append(experiment_name)\n",
    "        train_eval(model_name, \n",
    "                   train_loader, \n",
    "                   exp_type, \n",
    "                   tests_params,\n",
    "                   SAMPLE_PERIOD, \n",
    "                   BATCH, \n",
    "                   experiment_name, \n",
    "                   iteration,\n",
    "                   device,\n",
    "                   mmax,\n",
    "                   WINDOW, \n",
    "                   ROOT, \n",
    "                   data_dir,\n",
    "                   epochs=EPOCHS,\n",
    "                   eval_params=eval_params,\n",
    "                   model_hparams=model_hparams[model_name])"
   ]
  },
  {
   "cell_type": "code",
   "execution_count": null,
   "id": "proprietary-speaker",
   "metadata": {},
   "outputs": [],
   "source": [
    "display_res(ROOT, model_name, device, exp_type,'fridge_Single_Train_UKDALE_test_1_UKDALE',\n",
    "            1,low_lim=40000, upper_lim=50000)"
   ]
  },
  {
   "cell_type": "code",
   "execution_count": null,
   "id": "virgin-ratio",
   "metadata": {},
   "outputs": [],
   "source": [
    "display_res(ROOT, model_name, device, exp_type,'fridge_Single_Train_UKDALE_test_2_UKDALE',\n",
    "            1,low_lim=40000, upper_lim=50000)"
   ]
  },
  {
   "cell_type": "code",
   "execution_count": null,
   "id": "derived-roads",
   "metadata": {},
   "outputs": [],
   "source": [
    "display_res(ROOT, model_name, device, exp_type,'fridge_Single_Train_UKDALE_test_4_UKDALE',\n",
    "            1,low_lim=40000, upper_lim=50000)"
   ]
  },
  {
   "cell_type": "code",
   "execution_count": null,
   "id": "mental-distinction",
   "metadata": {},
   "outputs": [],
   "source": []
  }
 ],
 "metadata": {
  "kernelspec": {
   "display_name": "Python 3",
   "language": "python",
   "name": "python3"
  },
  "language_info": {
   "codemirror_mode": {
    "name": "ipython",
    "version": 3
   },
   "file_extension": ".py",
   "mimetype": "text/x-python",
   "name": "python",
   "nbconvert_exporter": "python",
   "pygments_lexer": "ipython3",
   "version": "3.8.8"
  }
 },
 "nbformat": 4,
 "nbformat_minor": 5
}
