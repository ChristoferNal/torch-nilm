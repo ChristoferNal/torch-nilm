{
 "cells": [
  {
   "cell_type": "code",
   "execution_count": 1,
   "id": "committed-circle",
   "metadata": {},
   "outputs": [
    {
     "name": "stderr",
     "output_type": "stream",
     "text": [
      "/mnt/B40864F10864B450/WorkSpace/PHD/PHD_exps/NewPaper/torch_nilm/MyDataSet.py:166: SyntaxWarning: assertion is always true, perhaps remove parentheses?\n",
      "  assert(len(mainlist) == len(meterlist), \"Number of main and meter channels should be equal\")\n"
     ]
    }
   ],
   "source": [
    "import os\n",
    "import metrics\n",
    "import numpy as np\n",
    "import pandas as pd\n",
    "import nilmtk\n",
    "\n",
    "import torch\n",
    "from torch import nn\n",
    "import torch.nn.functional as F\n",
    "from torch.utils.data import Dataset, DataLoader\n",
    "import matplotlib.pyplot as plt\n",
    "from nilmtk import DataSet, MeterGroup\n",
    "from nilmtk.datastore import HDFDataStore\n",
    "\n",
    "from MyDataSet import MyChunk\n",
    "with torch.no_grad():\n",
    "    torch.cuda.empty_cache() "
   ]
  },
  {
   "cell_type": "code",
   "execution_count": 2,
   "id": "bacterial-warren",
   "metadata": {},
   "outputs": [
    {
     "data": {
      "text/plain": [
       "array([0.95816271, 0.18889396, 0.20192973, ..., 0.03534926, 0.25871938,\n",
       "       0.39253458])"
      ]
     },
     "execution_count": 2,
     "metadata": {},
     "output_type": "execute_result"
    }
   ],
   "source": [
    "window_size = 50\n",
    "length = 1800 # = 3hours with sampling of 6sec\n",
    "meter = np.random.rand(1800,)\n",
    "main = np.arange(1800)\n",
    "meter = meter[window_size-1:]\n",
    "meter"
   ]
  },
  {
   "cell_type": "code",
   "execution_count": 3,
   "id": "breeding-entertainment",
   "metadata": {},
   "outputs": [
    {
     "data": {
      "text/plain": [
       "array([[   0,    1,    2, ...,   47,   48,   49],\n",
       "       [   1,    2,    3, ...,   48,   49,   50],\n",
       "       [   2,    3,    4, ...,   49,   50,   51],\n",
       "       ...,\n",
       "       [1748, 1749, 1750, ..., 1795, 1796, 1797],\n",
       "       [1749, 1750, 1751, ..., 1796, 1797, 1798],\n",
       "       [1750, 1751, 1752, ..., 1797, 1798, 1799]])"
      ]
     },
     "execution_count": 3,
     "metadata": {},
     "output_type": "execute_result"
    }
   ],
   "source": [
    "indexer = np.arange(window_size)[None, :] + np.arange(length-window_size+1)[:, None]\n",
    "indexer"
   ]
  },
  {
   "cell_type": "code",
   "execution_count": 4,
   "id": "deluxe-offset",
   "metadata": {},
   "outputs": [
    {
     "data": {
      "text/plain": [
       "array([[ 0,  1,  2,  3,  4,  5,  6,  7,  8,  9, 10, 11, 12, 13, 14, 15,\n",
       "        16, 17, 18, 19, 20, 21, 22, 23, 24, 25, 26, 27, 28, 29, 30, 31,\n",
       "        32, 33, 34, 35, 36, 37, 38, 39, 40, 41, 42, 43, 44, 45, 46, 47,\n",
       "        48, 49],\n",
       "       [ 1,  2,  3,  4,  5,  6,  7,  8,  9, 10, 11, 12, 13, 14, 15, 16,\n",
       "        17, 18, 19, 20, 21, 22, 23, 24, 25, 26, 27, 28, 29, 30, 31, 32,\n",
       "        33, 34, 35, 36, 37, 38, 39, 40, 41, 42, 43, 44, 45, 46, 47, 48,\n",
       "        49, 50]])"
      ]
     },
     "execution_count": 4,
     "metadata": {},
     "output_type": "execute_result"
    }
   ],
   "source": [
    "indexer[0:2]"
   ]
  },
  {
   "cell_type": "code",
   "execution_count": 5,
   "id": "civilian-option",
   "metadata": {},
   "outputs": [
    {
     "name": "stdout",
     "output_type": "stream",
     "text": [
      "(1751, 50)\n",
      "(1751, 50, 1)\n"
     ]
    }
   ],
   "source": [
    "main = main[indexer]\n",
    "print(main.shape)\n",
    "print(np.reshape(main,(main.shape[0], main.shape[1],1)).shape)"
   ]
  },
  {
   "cell_type": "code",
   "execution_count": 6,
   "id": "electric-purpose",
   "metadata": {},
   "outputs": [
    {
     "name": "stdout",
     "output_type": "stream",
     "text": [
      "[[ 0  1  2  3  4  5  6  7  8  9 10 11 12 13 14 15 16 17 18 19 20 21 22 23\n",
      "  24 25 26 27 28 29 30 31 32 33 34 35 36 37 38 39 40 41 42 43 44 45 46 47\n",
      "  48 49]]\n",
      "[0.35206366]\n"
     ]
    }
   ],
   "source": [
    "n = 1\n",
    "print(main[:n])\n",
    "print(meter[:n])"
   ]
  },
  {
   "cell_type": "code",
   "execution_count": 7,
   "id": "macro-heading",
   "metadata": {},
   "outputs": [
    {
     "data": {
      "text/plain": [
       "(1751, 1)"
      ]
     },
     "execution_count": 7,
     "metadata": {},
     "output_type": "execute_result"
    }
   ],
   "source": [
    "np.arange(length-window_size+1)[:, None].shape"
   ]
  },
  {
   "cell_type": "code",
   "execution_count": 8,
   "id": "c5333494",
   "metadata": {},
   "outputs": [
    {
     "name": "stdout",
     "output_type": "stream",
     "text": [
      "'Dataset and Model Test.ipynb'\t metrics.py     __pycache__   S2P.py\r\n",
      " lightning_logs\t\t\t MyDataSet.py   README.md\r\n"
     ]
    }
   ],
   "source": [
    "!ls"
   ]
  },
  {
   "cell_type": "code",
   "execution_count": 17,
   "id": "sudden-service",
   "metadata": {},
   "outputs": [
    {
     "name": "stderr",
     "output_type": "stream",
     "text": [
      "/home/nick/anaconda3/envs/pytorch_nilm/lib/python3.8/site-packages/nilmtk/utils.py:502: UserWarning: Found duplicate index. Keeping first value\n",
      "  warnings.warn(\"Found duplicate index. Keeping first value\")\n"
     ]
    }
   ],
   "source": [
    "sample_period = 10\n",
    "d_name = 'UKDALE'\n",
    "# device = 'kettle'\n",
    "device = 'fridge'\n",
    "path = '/mnt/B40864F10864B450/WorkSpace/PHD/PHD_exps/data/{}/{}.h5'.format(d_name,d_name)\n",
    "dates = [\"2013-08-01\",\"2013-10-01\"]\n",
    "building = 1\n",
    "train_dataset = MyChunk(path=path, building=building, window_size=50,\n",
    "                  device=device, dates=dates, sample_period=sample_period)\n",
    "train_loader = DataLoader(train_dataset, batch_size=1024, \n",
    "                          shuffle=False, num_workers=8)"
   ]
  },
  {
   "cell_type": "code",
   "execution_count": 18,
   "id": "exterior-monroe",
   "metadata": {},
   "outputs": [
    {
     "data": {
      "text/plain": [
       "6304.68896484375"
      ]
     },
     "execution_count": 18,
     "metadata": {},
     "output_type": "execute_result"
    }
   ],
   "source": [
    "train_dataset.mmax"
   ]
  },
  {
   "cell_type": "markdown",
   "id": "wireless-slovak",
   "metadata": {},
   "source": [
    "# DATES να το βαλω μεσα στο MyDataset για να το παιρνει το μοντελο"
   ]
  },
  {
   "cell_type": "code",
   "execution_count": 19,
   "id": "cultural-massage",
   "metadata": {},
   "outputs": [],
   "source": [
    "elec1 = train_dataset.elec"
   ]
  },
  {
   "cell_type": "code",
   "execution_count": 21,
   "id": "julian-reservation",
   "metadata": {},
   "outputs": [],
   "source": [
    "mains = elec1.mains()\n",
    "mains = next(mains.power_series(sample_period = 10))"
   ]
  },
  {
   "cell_type": "code",
   "execution_count": 22,
   "id": "homeless-journal",
   "metadata": {},
   "outputs": [
    {
     "data": {
      "text/plain": [
       "2013-08-01 00:00:00+01:00    2523.047119\n",
       "2013-08-01 00:00:10+01:00    2534.217041\n",
       "2013-08-01 00:00:20+01:00    2531.044922\n",
       "2013-08-01 00:00:30+01:00    2533.886963\n",
       "2013-08-01 00:00:40+01:00    2535.766846\n",
       "Freq: 10S, Name: (power, active), dtype: float32"
      ]
     },
     "execution_count": 22,
     "metadata": {},
     "output_type": "execute_result"
    }
   ],
   "source": [
    "mains.head()"
   ]
  },
  {
   "cell_type": "code",
   "execution_count": 7,
   "id": "mounted-period",
   "metadata": {},
   "outputs": [
    {
     "data": {
      "text/plain": [
       "DatetimeIndex(['2013-08-01 00:00:49.500000+01:00',\n",
       "               '2013-08-01 00:00:50.500000+01:00',\n",
       "               '2013-08-01 00:00:51.500000+01:00',\n",
       "               '2013-08-01 00:00:52.400000+01:00',\n",
       "               '2013-08-01 00:00:53.500000+01:00',\n",
       "               '2013-08-01 00:00:54.400000+01:00',\n",
       "               '2013-08-01 00:00:55.500000+01:00',\n",
       "               '2013-08-01 00:00:56.400000+01:00',\n",
       "               '2013-08-01 00:00:57.500000+01:00',\n",
       "               '2013-08-01 00:00:58.500000+01:00',\n",
       "               ...\n",
       "               '2013-09-30 23:59:50.100000+01:00',\n",
       "               '2013-09-30 23:59:51.100000+01:00',\n",
       "               '2013-09-30 23:59:52.100000+01:00',\n",
       "               '2013-09-30 23:59:53.100000+01:00',\n",
       "               '2013-09-30 23:59:54.100000+01:00',\n",
       "               '2013-09-30 23:59:55.100000+01:00',\n",
       "               '2013-09-30 23:59:56.100000+01:00',\n",
       "               '2013-09-30 23:59:57.100000+01:00',\n",
       "               '2013-09-30 23:59:58.100000+01:00',\n",
       "               '2013-09-30 23:59:59.100000+01:00'],\n",
       "              dtype='datetime64[ns, Europe/London]', length=5273805, freq=None)"
      ]
     },
     "execution_count": 7,
     "metadata": {},
     "output_type": "execute_result"
    }
   ],
   "source": [
    "Y_len = len(mains)\n",
    "mains.index[50-1:Y_len]"
   ]
  },
  {
   "cell_type": "code",
   "execution_count": 14,
   "id": "compatible-boost",
   "metadata": {},
   "outputs": [
    {
     "ename": "NameError",
     "evalue": "name 'pred' is not defined",
     "output_type": "error",
     "traceback": [
      "\u001b[0;31m---------------------------------------------------------------------------\u001b[0m",
      "\u001b[0;31mNameError\u001b[0m                                 Traceback (most recent call last)",
      "\u001b[0;32m<ipython-input-14-41b28d25fb4d>\u001b[0m in \u001b[0;36m<module>\u001b[0;34m\u001b[0m\n\u001b[0;32m----> 1\u001b[0;31m \u001b[0mappliance_power\u001b[0m \u001b[0;34m=\u001b[0m \u001b[0mpd\u001b[0m\u001b[0;34m.\u001b[0m\u001b[0mSeries\u001b[0m\u001b[0;34m(\u001b[0m\u001b[0mpred\u001b[0m\u001b[0;34m,\u001b[0m \u001b[0mindex\u001b[0m\u001b[0;34m=\u001b[0m\u001b[0mmains\u001b[0m\u001b[0;34m.\u001b[0m\u001b[0mindex\u001b[0m\u001b[0;34m[\u001b[0m\u001b[0mself\u001b[0m\u001b[0;34m.\u001b[0m\u001b[0mwindow_size\u001b[0m\u001b[0;34m-\u001b[0m\u001b[0;36m1\u001b[0m\u001b[0;34m:\u001b[0m\u001b[0mY_len\u001b[0m\u001b[0;34m]\u001b[0m\u001b[0;34m,\u001b[0m \u001b[0mname\u001b[0m\u001b[0;34m=\u001b[0m\u001b[0;36m0\u001b[0m\u001b[0;34m)\u001b[0m\u001b[0;34m\u001b[0m\u001b[0;34m\u001b[0m\u001b[0m\n\u001b[0m",
      "\u001b[0;31mNameError\u001b[0m: name 'pred' is not defined"
     ]
    }
   ],
   "source": [
    "appliance_power = pd.Series(pred, index=mains.index[self.window_size-1:Y_len], name=0)"
   ]
  },
  {
   "cell_type": "markdown",
   "id": "colored-highlight",
   "metadata": {},
   "source": [
    "# ###################"
   ]
  },
  {
   "cell_type": "code",
   "execution_count": 15,
   "id": "horizontal-milton",
   "metadata": {},
   "outputs": [
    {
     "name": "stdout",
     "output_type": "stream",
     "text": [
      "mains shape  torch.Size([1024, 50]) meter shape  torch.Size([1024])\n"
     ]
    }
   ],
   "source": [
    "for batch in train_loader:\n",
    "    '''x -> mains sequence\n",
    "       y -> target sequence\n",
    "    '''\n",
    "    mains, meter = batch\n",
    "    print('mains shape ', mains.shape, 'meter shape ', meter.shape)\n",
    "    break\n",
    "    "
   ]
  },
  {
   "cell_type": "code",
   "execution_count": 16,
   "id": "radio-chocolate",
   "metadata": {},
   "outputs": [
    {
     "data": {
      "text/plain": [
       "tensor([0.0149, 0.0149, 0.0149,  ..., 0.0000, 0.0000, 0.0000])"
      ]
     },
     "execution_count": 16,
     "metadata": {},
     "output_type": "execute_result"
    }
   ],
   "source": [
    "meter"
   ]
  },
  {
   "cell_type": "code",
   "execution_count": 17,
   "id": "sweet-philadelphia",
   "metadata": {},
   "outputs": [
    {
     "data": {
      "text/plain": [
       "tensor([[0.0154, 0.0154, 0.0154,  ..., 0.0301, 0.0302, 0.0301],\n",
       "        [0.0154, 0.0154, 0.0154,  ..., 0.0302, 0.0301, 0.0300],\n",
       "        [0.0154, 0.0154, 0.0154,  ..., 0.0301, 0.0300, 0.0301],\n",
       "        ...,\n",
       "        [0.0808, 0.0792, 0.0803,  ..., 0.0476, 0.0463, 0.0475],\n",
       "        [0.0792, 0.0803, 0.0402,  ..., 0.0463, 0.0475, 0.0469],\n",
       "        [0.0803, 0.0402, 0.0402,  ..., 0.0475, 0.0469, 0.0476]])"
      ]
     },
     "execution_count": 17,
     "metadata": {},
     "output_type": "execute_result"
    }
   ],
   "source": [
    "mains"
   ]
  },
  {
   "cell_type": "code",
   "execution_count": 30,
   "id": "backed-princeton",
   "metadata": {},
   "outputs": [
    {
     "name": "stdout",
     "output_type": "stream",
     "text": [
      "2523.047\n"
     ]
    },
    {
     "data": {
      "text/plain": [
       "0.9581627121059293"
      ]
     },
     "execution_count": 30,
     "metadata": {},
     "output_type": "execute_result"
    }
   ],
   "source": [
    "import matplotlib.pyplot as plt\n",
    "# plt.plot(meter)\n",
    "# plt.plot(mains[:1024, 10:11])\n",
    "print(mains[0])\n",
    "meter[0]"
   ]
  },
  {
   "cell_type": "code",
   "execution_count": 19,
   "id": "conceptual-bradford",
   "metadata": {},
   "outputs": [
    {
     "data": {
      "text/plain": [
       "(73693, 50)"
      ]
     },
     "execution_count": 19,
     "metadata": {},
     "output_type": "execute_result"
    }
   ],
   "source": [
    "mains = train_dataset.mainchunk\n",
    "m = mains.squeeze()\n",
    "m.shape"
   ]
  },
  {
   "cell_type": "code",
   "execution_count": 20,
   "id": "suspended-comfort",
   "metadata": {},
   "outputs": [
    {
     "data": {
      "text/plain": [
       "[<matplotlib.lines.Line2D at 0x7f95d1e73eb0>]"
      ]
     },
     "execution_count": 20,
     "metadata": {},
     "output_type": "execute_result"
    },
    {
     "data": {
      "image/png": "[encoded data removed]",
      "text/plain": [
       "<Figure size 432x288 with 1 Axes>"
      ]
     },
     "metadata": {
      "needs_background": "light"
     },
     "output_type": "display_data"
    }
   ],
   "source": [
    "plt.plot(m[:100])\n",
    "plt.plot(meter[:100])"
   ]
  },
  {
   "cell_type": "markdown",
   "id": "connected-burlington",
   "metadata": {},
   "source": [
    "# Test loader"
   ]
  },
  {
   "cell_type": "code",
   "execution_count": 23,
   "id": "10441f7f",
   "metadata": {},
   "outputs": [],
   "source": [
    "d_name = 'UKDALE'\n",
    "# device = 'kettle'\n",
    "device = 'fridge'\n",
    "path = '/mnt/B40864F10864B450/WorkSpace/PHD/PHD_exps/data/{}/{}.h5'.format(d_name,d_name)\n",
    "dates = [\"2013-10-01\", \"2013-10-02\"]\n",
    "building = 1\n",
    "window_size = 50\n",
    "test_dataset = MyChunk(path=path, building=building, window_size=window_size,\n",
    "                  device=device, dates=dates, test=True, mmax=train_dataset.mmax, sample_period=sample_period)\n",
    "test_loader = DataLoader(test_dataset, batch_size=1024, \n",
    "                          shuffle=False, num_workers=8)"
   ]
  },
  {
   "cell_type": "code",
   "execution_count": 24,
   "id": "0c72afd4",
   "metadata": {},
   "outputs": [
    {
     "name": "stderr",
     "output_type": "stream",
     "text": [
      "Global seed set to 42\n"
     ]
    },
    {
     "name": "stdout",
     "output_type": "stream",
     "text": [
      "Device: cuda:0\n"
     ]
    }
   ],
   "source": [
    "from S2P import S2P\n",
    "from pytorch_lightning import Trainer"
   ]
  },
  {
   "cell_type": "code",
   "execution_count": 25,
   "id": "80237c6a",
   "metadata": {},
   "outputs": [
    {
     "name": "stderr",
     "output_type": "stream",
     "text": [
      "GPU available: True, used: True\n",
      "TPU available: None, using: 0 TPU cores\n",
      "/home/nick/anaconda3/envs/pytorch_nilm/lib/python3.8/site-packages/pytorch_lightning/utilities/distributed.py:52: UserWarning: you defined a validation_step but have no val_dataloader. Skipping validation loop\n",
      "  warnings.warn(*args, **kwargs)\n",
      "LOCAL_RANK: 0 - CUDA_VISIBLE_DEVICES: [0]\n",
      "\n",
      "  | Name   | Type       | Params\n",
      "--------------------------------------\n",
      "0 | conv   | Sequential | 47.1 K\n",
      "1 | dense  | _Dense     | 2.6 M \n",
      "2 | output | Linear     | 1.0 K \n",
      "--------------------------------------\n",
      "2.6 M     Trainable params\n",
      "0         Non-trainable params\n",
      "2.6 M     Total params\n",
      "10.437    Total estimated model params size (MB)\n"
     ]
    },
    {
     "data": {
      "application/vnd.jupyter.widget-view+json": {
       "model_id": "",
       "version_major": 2,
       "version_minor": 0
      },
      "text/plain": [
       "Validation sanity check: 0it [00:00, ?it/s]"
      ]
     },
     "metadata": {},
     "output_type": "display_data"
    },
    {
     "data": {
      "application/vnd.jupyter.widget-view+json": {
       "model_id": "1b09c76f2b374c55aa1398d906fd30d2",
       "version_major": 2,
       "version_minor": 0
      },
      "text/plain": [
       "Training: 0it [00:00, ?it/s]"
      ]
     },
     "metadata": {},
     "output_type": "display_data"
    },
    {
     "name": "stderr",
     "output_type": "stream",
     "text": [
      "/home/nick/anaconda3/envs/pytorch_nilm/lib/python3.8/site-packages/pytorch_lightning/utilities/distributed.py:52: UserWarning: The {log:dict keyword} was deprecated in 0.9.1 and will be removed in 1.0.0\n",
      "Please use self.log(...) inside the lightningModule instead.\n",
      "# log on a step or aggregate epoch metric to the logger and/or progress bar (inside LightningModule)\n",
      "self.log('train_loss', loss, on_step=True, on_epoch=True, prog_bar=True)\n",
      "  warnings.warn(*args, **kwargs)\n"
     ]
    },
    {
     "data": {
      "text/plain": [
       "1"
      ]
     },
     "execution_count": 25,
     "metadata": {},
     "output_type": "execute_result"
    }
   ],
   "source": [
    "# trainer = Trainer(fast_dev_run=True)\n",
    "trainer = Trainer(gpus=1,max_epochs=1)\n",
    "model = S2P(dropout=0.5)\n",
    "trainer.fit(model, train_loader)"
   ]
  },
  {
   "cell_type": "code",
   "execution_count": 26,
   "id": "hungry-semester",
   "metadata": {
    "scrolled": true
   },
   "outputs": [
    {
     "name": "stderr",
     "output_type": "stream",
     "text": [
      "LOCAL_RANK: 0 - CUDA_VISIBLE_DEVICES: [0]\n"
     ]
    },
    {
     "data": {
      "application/vnd.jupyter.widget-view+json": {
       "model_id": "9cfd99d8fbe54caba91059d26f1a9c89",
       "version_major": 2,
       "version_minor": 0
      },
      "text/plain": [
       "Testing: 0it [00:00, ?it/s]"
      ]
     },
     "metadata": {},
     "output_type": "display_data"
    },
    {
     "name": "stderr",
     "output_type": "stream",
     "text": [
      "/mnt/B40864F10864B450/WorkSpace/PHD/PHD_exps/NewPaper/torch_nilm/S2P.py:119: UserWarning: Using a target size (torch.Size([1024])) that is different to the input size (torch.Size([1024, 1])). This will likely lead to incorrect results due to broadcasting. Please ensure they have the same size.\n",
      "  loss = F.mse_loss(outputs, y)\n",
      "/mnt/B40864F10864B450/WorkSpace/PHD/PHD_exps/NewPaper/torch_nilm/S2P.py:119: UserWarning: Using a target size (torch.Size([399])) that is different to the input size (torch.Size([399, 1])). This will likely lead to incorrect results due to broadcasting. Please ensure they have the same size.\n",
      "  loss = F.mse_loss(outputs, y)\n"
     ]
    },
    {
     "name": "stdout",
     "output_type": "stream",
     "text": [
      "--------------------------------------------------------------------------------\n",
      "DATALOADER:0 TEST RESULTS\n",
      "{'val_loss': 9.301811951445416e-05}\n",
      "--------------------------------------------------------------------------------\n"
     ]
    },
    {
     "data": {
      "text/plain": [
       "[{'val_loss': 9.301811951445416e-05}]"
      ]
     },
     "execution_count": 26,
     "metadata": {},
     "output_type": "execute_result"
    }
   ],
   "source": [
    "# The filename of the resulting datastore\n",
    "disag_filename = 'test.h5' \n",
    "\n",
    "# window_size = 50\n",
    "timeframe = test_dataset.timeframe\n",
    "building = test_dataset.building\n",
    "cols_name = test_dataset.chunk_name\n",
    "mmax = train_dataset.mmax\n",
    "\n",
    "meter_metadata = train_dataset.meter_metadata\n",
    "\n",
    "model.set_disaggregation_meta(building, timeframe, \n",
    "                              cols_name, mmax, disag_filename, meter_metadata)\n",
    "trainer.test(model, test_loader)"
   ]
  },
  {
   "cell_type": "code",
   "execution_count": 27,
   "id": "peripheral-offense",
   "metadata": {},
   "outputs": [
    {
     "data": {
      "text/plain": [
       "8591"
      ]
     },
     "execution_count": 27,
     "metadata": {},
     "output_type": "execute_result"
    }
   ],
   "source": [
    "preds = model.final_preds\n",
    "len(preds)"
   ]
  },
  {
   "cell_type": "code",
   "execution_count": 28,
   "id": "piano-stanley",
   "metadata": {},
   "outputs": [
    {
     "data": {
      "text/plain": [
       "1751"
      ]
     },
     "execution_count": 28,
     "metadata": {},
     "output_type": "execute_result"
    }
   ],
   "source": [
    "len(meter)"
   ]
  },
  {
   "cell_type": "code",
   "execution_count": 31,
   "id": "committed-spotlight",
   "metadata": {},
   "outputs": [
    {
     "data": {
      "text/plain": [
       "[<matplotlib.lines.Line2D at 0x7fe6ec202f10>]"
      ]
     },
     "execution_count": 31,
     "metadata": {},
     "output_type": "execute_result"
    },
    {
     "data": {
      "image/png": "[encoded data removed]",
      "text/plain": [
       "<Figure size 432x288 with 1 Axes>"
      ]
     },
     "metadata": {
      "needs_background": "light"
     },
     "output_type": "display_data"
    }
   ],
   "source": [
    "plt.plot(meter)"
   ]
  },
  {
   "cell_type": "code",
   "execution_count": null,
   "id": "requested-annual",
   "metadata": {},
   "outputs": [],
   "source": [
    "for batch in test_loader:\n",
    "    '''x -> mains sequence\n",
    "       y -> target sequence\n",
    "    '''\n",
    "    aggr, ground_truth = batch\n",
    "    print('aggr shape ', aggr.shape, 'ground_truth shape ', ground_truth.shape)\n",
    "#     print(x, y)\n",
    "    break\n",
    "    "
   ]
  },
  {
   "cell_type": "code",
   "execution_count": null,
   "id": "typical-bridge",
   "metadata": {},
   "outputs": [],
   "source": [
    "preds.shape"
   ]
  },
  {
   "cell_type": "code",
   "execution_count": null,
   "id": "speaking-river",
   "metadata": {},
   "outputs": [],
   "source": [
    "preds[732:832]"
   ]
  },
  {
   "cell_type": "code",
   "execution_count": null,
   "id": "concrete-blast",
   "metadata": {},
   "outputs": [],
   "source": [
    "ground_truth[732:832]"
   ]
  },
  {
   "cell_type": "code",
   "execution_count": null,
   "id": "accepting-snake",
   "metadata": {},
   "outputs": [],
   "source": [
    "import matplotlib.pyplot as plt\n",
    "plt.plot(aggr[732:832,:1])\n",
    "plt.plot(preds[732:832])\n",
    "plt.plot(ground_truth[732:832])"
   ]
  },
  {
   "cell_type": "code",
   "execution_count": 1,
   "id": "downtown-biology",
   "metadata": {},
   "outputs": [
    {
     "ename": "NameError",
     "evalue": "name 'DataSet' is not defined",
     "output_type": "error",
     "traceback": [
      "\u001b[0;31m---------------------------------------------------------------------------\u001b[0m",
      "\u001b[0;31mNameError\u001b[0m                                 Traceback (most recent call last)",
      "\u001b[0;32m<ipython-input-1-ebc6040c36da>\u001b[0m in \u001b[0;36m<module>\u001b[0;34m\u001b[0m\n\u001b[0;32m----> 1\u001b[0;31m \u001b[0mresult\u001b[0m \u001b[0;34m=\u001b[0m \u001b[0mDataSet\u001b[0m\u001b[0;34m(\u001b[0m\u001b[0mdisag_filename\u001b[0m\u001b[0;34m)\u001b[0m\u001b[0;34m\u001b[0m\u001b[0;34m\u001b[0m\u001b[0m\n\u001b[0m\u001b[1;32m      2\u001b[0m \u001b[0mres_elec\u001b[0m \u001b[0;34m=\u001b[0m \u001b[0mresult\u001b[0m\u001b[0;34m.\u001b[0m\u001b[0mbuildings\u001b[0m\u001b[0;34m[\u001b[0m\u001b[0mbuilding\u001b[0m\u001b[0;34m]\u001b[0m\u001b[0;34m.\u001b[0m\u001b[0melec\u001b[0m\u001b[0;34m\u001b[0m\u001b[0;34m\u001b[0m\u001b[0m\n\u001b[1;32m      3\u001b[0m \u001b[0mpredicted\u001b[0m \u001b[0;34m=\u001b[0m \u001b[0mres_elec\u001b[0m\u001b[0;34m[\u001b[0m\u001b[0mdevice\u001b[0m\u001b[0;34m]\u001b[0m\u001b[0;34m\u001b[0m\u001b[0;34m\u001b[0m\u001b[0m\n\u001b[1;32m      4\u001b[0m \u001b[0mprint\u001b[0m\u001b[0;34m(\u001b[0m\u001b[0mtype\u001b[0m\u001b[0;34m(\u001b[0m\u001b[0mpredicted\u001b[0m\u001b[0;34m)\u001b[0m\u001b[0;34m)\u001b[0m\u001b[0;34m\u001b[0m\u001b[0;34m\u001b[0m\u001b[0m\n\u001b[1;32m      5\u001b[0m \u001b[0mground_truth\u001b[0m \u001b[0;34m=\u001b[0m \u001b[0mtest_dataset\u001b[0m\u001b[0;34m.\u001b[0m\u001b[0mmeter_metadata\u001b[0m\u001b[0;34m\u001b[0m\u001b[0;34m\u001b[0m\u001b[0m\n",
      "\u001b[0;31mNameError\u001b[0m: name 'DataSet' is not defined"
     ]
    }
   ],
   "source": [
    "result = DataSet(disag_filename)\n",
    "res_elec = result.buildings[building].elec\n",
    "predicted = res_elec[device]\n",
    "print(type(predicted))\n",
    "ground_truth = test_dataset.meter_metadata\n",
    "\n",
    "import matplotlib.pyplot as plt\n",
    "# predicted.plot()\n",
    "ground_truth.plot()\n",
    "plt.show()\n",
    "\n",
    "rpaf = metrics.recall_precision_accuracy_f1(predicted, ground_truth)\n",
    "\n",
    "print(\"Recall: {}\".format(rpaf[0]))\n",
    "print(\"Precision: {}\".format(rpaf[1]))\n",
    "print(\"Accuracy: {}\".format(rpaf[2]))\n",
    "print(\"F1 Score: {}\".format(rpaf[3]))\n",
    "\n",
    "print(\"Relative error in total energy: {}\".format(metrics.relative_error_total_energy(predicted, ground_truth)))\n",
    "\n",
    "print(\"Mean absolute error(in Watts): {}\".format(metrics.mean_absolute_error(predicted, ground_truth)))"
   ]
  },
  {
   "cell_type": "code",
   "execution_count": null,
   "id": "differential-attendance",
   "metadata": {},
   "outputs": [],
   "source": [
    "# l = model.final_preds\n",
    "# l[0:100]"
   ]
  },
  {
   "cell_type": "code",
   "execution_count": null,
   "id": "another-yemen",
   "metadata": {},
   "outputs": [],
   "source": [
    "\n",
    "# a = torch.randn(1024, 1, 50)  \n",
    "# print(a.size())\n",
    "# a = nn.ZeroPad2d((5,4,0,0))(a)\n",
    "# a = nn.Conv1d(1, 30, kernel_size=10)(a)\n",
    "# print(a.size())\n",
    "# a = nn.ZeroPad2d((3,3,0,0))(a)\n",
    "# a = nn.Conv1d(30, 30, kernel_size=8)(a)\n",
    "# print(a.size())\n",
    "# a = nn.ZeroPad2d((3,3,0,0))(a)\n",
    "# a = nn.Conv1d(30, 40, kernel_size=6)(a)\n",
    "# print(a.size())\n",
    "# a = nn.ZeroPad2d((2,2,0,0))(a)\n",
    "# a = nn.Conv1d(40, 50, kernel_size=5)(a)\n",
    "# print(a.size())\n",
    "# a = nn.ZeroPad2d((2,2,0,0))(a)\n",
    "# a = nn.Conv1d(50, 50, kernel_size=5)(a)\n",
    "# a = nn.Flatten()(a)\n",
    "# print(a.size())"
   ]
  },
  {
   "cell_type": "code",
   "execution_count": null,
   "id": "tender-seattle",
   "metadata": {},
   "outputs": [],
   "source": [
    "# a = torch.randn(1024, 1, 50)  \n",
    "# a[:,:,:-1].shape"
   ]
  },
  {
   "cell_type": "code",
   "execution_count": null,
   "id": "dedicated-despite",
   "metadata": {},
   "outputs": [],
   "source": [
    "# a = torch.randn(1024, 1, 50)  \n",
    "# print(a.size())\n",
    "# a = nn.ZeroPad2d((2,1,0,0))(a)\n",
    "# a = nn.Conv1d(1, 16, kernel_size=4)(a)\n",
    "# print(a.size())"
   ]
  },
  {
   "cell_type": "code",
   "execution_count": null,
   "id": "dependent-surveillance",
   "metadata": {},
   "outputs": [],
   "source": [
    "# a.numpy()"
   ]
  }
 ],
 "metadata": {
  "kernelspec": {
   "display_name": "Python 3",
   "language": "python",
   "name": "python3"
  },
  "language_info": {
   "codemirror_mode": {
    "name": "ipython",
    "version": 3
   },
   "file_extension": ".py",
   "mimetype": "text/x-python",
   "name": "python",
   "nbconvert_exporter": "python",
   "pygments_lexer": "ipython3",
   "version": "3.8.8"
  }
 },
 "nbformat": 4,
 "nbformat_minor": 5
}
