{
 "cells": [
  {
   "cell_type": "code",
   "execution_count": 1,
   "id": "committed-circle",
   "metadata": {},
   "outputs": [],
   "source": [
    "import os\n",
    "import metrics\n",
    "\n",
    "import torch\n",
    "from torch import nn\n",
    "import torch.nn.functional as F\n",
    "from torch.utils.data import Dataset, DataLoader\n",
    "import matplotlib.pyplot as plt\n",
    "import numpy as np\n",
    "import pandas as pd\n",
    "import nilmtk\n",
    "\n",
    "from nilmtk import DataSet, MeterGroup\n",
    "from nilmtk.datastore import HDFDataStore\n",
    "\n",
    "from MyDF import MyChunk\n",
    "# from MyDataSet import MyChunk\n",
    "with torch.no_grad():\n",
    "    torch.cuda.empty_cache() "
   ]
  },
  {
   "cell_type": "code",
   "execution_count": 2,
   "id": "c5333494",
   "metadata": {},
   "outputs": [
    {
     "name": "stdout",
     "output_type": "stream",
     "text": [
      "'Dataset and Model Test_BACKUP.ipynb'   metrics.py     __pycache__   test3.h5\r\n",
      "'Dataset and Model Test.ipynb'\t        MyDataSet.py   README.md\r\n",
      " lightning_logs\t\t\t        MyDF.py        S2P.py\r\n"
     ]
    }
   ],
   "source": [
    "!ls"
   ]
  },
  {
   "cell_type": "code",
   "execution_count": 3,
   "id": "induced-asthma",
   "metadata": {},
   "outputs": [],
   "source": [
    "SAMPLE_PERIOD = 60"
   ]
  },
  {
   "cell_type": "code",
   "execution_count": 4,
   "id": "sudden-service",
   "metadata": {},
   "outputs": [
    {
     "name": "stdout",
     "output_type": "stream",
     "text": [
      "MYDF CHUNK DATASET\n"
     ]
    },
    {
     "name": "stderr",
     "output_type": "stream",
     "text": [
      "<ipython-input-4-0cc2ffae7f3d>:8: FutureWarning: Converting timezone-aware DatetimeArray to timezone-naive ndarray with 'datetime64[ns]' dtype. In the future, this will return an ndarray with 'object' dtype where each element is a 'pandas.Timestamp' with the correct 'tz'.\n",
      "\tTo accept the future behavior, pass 'dtype=object'.\n",
      "\tTo keep the old behavior, pass 'dtype=\"datetime64[ns]\"'.\n",
      "  train_dataset = MyChunk(path=path, building=building, window_size=50,\n"
     ]
    }
   ],
   "source": [
    "sample_period = SAMPLE_PERIOD\n",
    "d_name = 'UKDALE'\n",
    "# device = 'kettle'\n",
    "device = 'fridge'\n",
    "path = '/mnt/B40864F10864B450/WorkSpace/PHD/PHD_exps/data/{}/{}.h5'.format(d_name,d_name)\n",
    "dates = [\"2013-08-01\",\"2013-09-01\"]\n",
    "building = 1\n",
    "train_dataset = MyChunk(path=path, building=building, window_size=50,\n",
    "                  device=device, dates=dates, sample_period=sample_period, test=True)\n",
    "train_loader = DataLoader(train_dataset, batch_size=1024, \n",
    "                          shuffle=False, num_workers=8)"
   ]
  },
  {
   "cell_type": "code",
   "execution_count": 5,
   "id": "impressive-burner",
   "metadata": {},
   "outputs": [
    {
     "name": "stdout",
     "output_type": "stream",
     "text": [
      "mains shape  torch.Size([1024, 50]) meter shape  torch.Size([1024])\n"
     ]
    },
    {
     "data": {
      "text/plain": [
       "(tensor([[0.4406, 0.4409, 0.4411,  ..., 0.0170, 0.0171, 0.0170],\n",
       "         [0.4409, 0.4411, 0.4413,  ..., 0.0171, 0.0170, 0.0170],\n",
       "         [0.4411, 0.4413, 0.4418,  ..., 0.0170, 0.0170, 0.0171],\n",
       "         ...,\n",
       "         [0.0533, 0.0650, 0.0643,  ..., 0.0940, 0.0936, 0.0924],\n",
       "         [0.0650, 0.0643, 0.0640,  ..., 0.0936, 0.0924, 0.0920],\n",
       "         [0.0643, 0.0640, 0.0651,  ..., 0.0924, 0.0920, 0.0920]]),\n",
       " tensor([0.0000, 0.0000, 0.0000,  ..., 0.0167, 0.0166, 0.0166]))"
      ]
     },
     "execution_count": 5,
     "metadata": {},
     "output_type": "execute_result"
    }
   ],
   "source": [
    "for batch in train_loader:\n",
    "    '''x -> mains sequence\n",
    "       y -> target sequence\n",
    "    '''\n",
    "#     mains,mains_index, meter,meter_index = batch\n",
    "    mains, meter = batch\n",
    "    print('mains shape ', mains.shape, 'meter shape ', meter.shape)\n",
    "    break\n",
    "mains, meter"
   ]
  },
  {
   "cell_type": "markdown",
   "id": "connected-burlington",
   "metadata": {},
   "source": [
    "# Test loader"
   ]
  },
  {
   "cell_type": "code",
   "execution_count": 6,
   "id": "10441f7f",
   "metadata": {},
   "outputs": [
    {
     "name": "stdout",
     "output_type": "stream",
     "text": [
      "MYDF CHUNK DATASET\n"
     ]
    },
    {
     "name": "stderr",
     "output_type": "stream",
     "text": [
      "<ipython-input-6-4b57f45501b1>:8: FutureWarning: Converting timezone-aware DatetimeArray to timezone-naive ndarray with 'datetime64[ns]' dtype. In the future, this will return an ndarray with 'object' dtype where each element is a 'pandas.Timestamp' with the correct 'tz'.\n",
      "\tTo accept the future behavior, pass 'dtype=object'.\n",
      "\tTo keep the old behavior, pass 'dtype=\"datetime64[ns]\"'.\n",
      "  test_dataset = MyChunk(path=path, building=building, window_size=window_size,\n"
     ]
    }
   ],
   "source": [
    "d_name = 'UKDALE'\n",
    "# device = 'kettle'\n",
    "device = 'fridge'\n",
    "path = '/mnt/B40864F10864B450/WorkSpace/PHD/PHD_exps/data/{}/{}.h5'.format(d_name,d_name)\n",
    "dates = [\"2013-12-01\", \"2013-12-02\"]\n",
    "building = 1\n",
    "window_size = 50\n",
    "test_dataset = MyChunk(path=path, building=building, window_size=window_size,\n",
    "                  device=device, dates=dates, test=True, mmax=train_dataset.mmax, sample_period=sample_period)\n",
    "test_loader = DataLoader(test_dataset, batch_size=1024, \n",
    "                          shuffle=False, num_workers=8)"
   ]
  },
  {
   "cell_type": "code",
   "execution_count": 7,
   "id": "maritime-temperature",
   "metadata": {},
   "outputs": [
    {
     "data": {
      "text/plain": [
       "array(['2013-12-01T00:49:00.000000000', '2013-12-01T00:50:00.000000000',\n",
       "       '2013-12-01T00:51:00.000000000', ...,\n",
       "       '2013-12-01T23:57:00.000000000', '2013-12-01T23:58:00.000000000',\n",
       "       '2013-12-01T23:59:00.000000000'], dtype='datetime64[ns]')"
      ]
     },
     "execution_count": 7,
     "metadata": {},
     "output_type": "execute_result"
    }
   ],
   "source": [
    "test_dataset.meter_time_index"
   ]
  },
  {
   "cell_type": "code",
   "execution_count": 8,
   "id": "conscious-coverage",
   "metadata": {},
   "outputs": [
    {
     "name": "stdout",
     "output_type": "stream",
     "text": [
      "(1391, 50) (1391,)\n",
      "mains shape  torch.Size([1024, 50]) meter shape  torch.Size([1024])\n"
     ]
    },
    {
     "data": {
      "text/plain": [
       "(tensor([[0.4406, 0.4409, 0.4411,  ..., 0.0170, 0.0171, 0.0170],\n",
       "         [0.4409, 0.4411, 0.4413,  ..., 0.0171, 0.0170, 0.0170],\n",
       "         [0.4411, 0.4413, 0.4418,  ..., 0.0170, 0.0170, 0.0171],\n",
       "         ...,\n",
       "         [0.0533, 0.0650, 0.0643,  ..., 0.0940, 0.0936, 0.0924],\n",
       "         [0.0650, 0.0643, 0.0640,  ..., 0.0936, 0.0924, 0.0920],\n",
       "         [0.0643, 0.0640, 0.0651,  ..., 0.0924, 0.0920, 0.0920]]),\n",
       " tensor([0.0000, 0.0000, 0.0000,  ..., 0.0167, 0.0166, 0.0166]))"
      ]
     },
     "execution_count": 8,
     "metadata": {},
     "output_type": "execute_result"
    }
   ],
   "source": [
    "print(test_dataset.mainchunk.shape, test_dataset.meterchunk.shape)\n",
    "for batch in train_loader:\n",
    "    '''x -> mains sequence\n",
    "       y -> target sequence\n",
    "    '''\n",
    "#     mains,mains_index, meter,meter_index = batch\n",
    "    test_mains, test_meter = batch\n",
    "    print('mains shape ', test_mains.shape, 'meter shape ', test_meter.shape)\n",
    "    break\n",
    "test_mains, test_meter"
   ]
  },
  {
   "cell_type": "code",
   "execution_count": 9,
   "id": "0c72afd4",
   "metadata": {},
   "outputs": [
    {
     "name": "stderr",
     "output_type": "stream",
     "text": [
      "Global seed set to 42\n"
     ]
    },
    {
     "name": "stdout",
     "output_type": "stream",
     "text": [
      "Device: cuda:0\n"
     ]
    }
   ],
   "source": [
    "from S2P import S2P\n",
    "from pytorch_lightning import Trainer"
   ]
  },
  {
   "cell_type": "code",
   "execution_count": 10,
   "id": "80237c6a",
   "metadata": {},
   "outputs": [
    {
     "name": "stderr",
     "output_type": "stream",
     "text": [
      "GPU available: True, used: True\n",
      "TPU available: None, using: 0 TPU cores\n",
      "/home/nick/anaconda3/envs/pytorch_nilm/lib/python3.8/site-packages/pytorch_lightning/utilities/distributed.py:52: UserWarning: you defined a validation_step but have no val_dataloader. Skipping validation loop\n",
      "  warnings.warn(*args, **kwargs)\n",
      "LOCAL_RANK: 0 - CUDA_VISIBLE_DEVICES: [0]\n",
      "\n",
      "  | Name   | Type       | Params\n",
      "--------------------------------------\n",
      "0 | conv   | Sequential | 47.1 K\n",
      "1 | dense  | _Dense     | 2.6 M \n",
      "2 | output | Linear     | 1.0 K \n",
      "--------------------------------------\n",
      "2.6 M     Trainable params\n",
      "0         Non-trainable params\n",
      "2.6 M     Total params\n",
      "10.437    Total estimated model params size (MB)\n"
     ]
    },
    {
     "data": {
      "application/vnd.jupyter.widget-view+json": {
       "model_id": "",
       "version_major": 2,
       "version_minor": 0
      },
      "text/plain": [
       "Validation sanity check: 0it [00:00, ?it/s]"
      ]
     },
     "metadata": {},
     "output_type": "display_data"
    },
    {
     "data": {
      "application/vnd.jupyter.widget-view+json": {
       "model_id": "04ad314a3bc8443480beb47949bf690f",
       "version_major": 2,
       "version_minor": 0
      },
      "text/plain": [
       "Training: 0it [00:00, ?it/s]"
      ]
     },
     "metadata": {},
     "output_type": "display_data"
    },
    {
     "name": "stderr",
     "output_type": "stream",
     "text": [
      "/home/nick/anaconda3/envs/pytorch_nilm/lib/python3.8/site-packages/pytorch_lightning/utilities/distributed.py:52: UserWarning: The {log:dict keyword} was deprecated in 0.9.1 and will be removed in 1.0.0\n",
      "Please use self.log(...) inside the lightningModule instead.\n",
      "# log on a step or aggregate epoch metric to the logger and/or progress bar (inside LightningModule)\n",
      "self.log('train_loss', loss, on_step=True, on_epoch=True, prog_bar=True)\n",
      "  warnings.warn(*args, **kwargs)\n"
     ]
    },
    {
     "data": {
      "text/plain": [
       "1"
      ]
     },
     "execution_count": 10,
     "metadata": {},
     "output_type": "execute_result"
    }
   ],
   "source": [
    "# trainer = Trainer(fast_dev_run=True)\n",
    "trainer = Trainer(gpus=1,max_epochs=1)\n",
    "model = S2P(dropout=0.000)\n",
    "trainer.fit(model, train_loader)"
   ]
  },
  {
   "cell_type": "code",
   "execution_count": 11,
   "id": "hungry-semester",
   "metadata": {
    "scrolled": true
   },
   "outputs": [
    {
     "name": "stderr",
     "output_type": "stream",
     "text": [
      "LOCAL_RANK: 0 - CUDA_VISIBLE_DEVICES: [0]\n"
     ]
    },
    {
     "data": {
      "application/vnd.jupyter.widget-view+json": {
       "model_id": "e94bfe974cf942b49f06d2d7eab2bca6",
       "version_major": 2,
       "version_minor": 0
      },
      "text/plain": [
       "Testing: 0it [00:00, ?it/s]"
      ]
     },
     "metadata": {},
     "output_type": "display_data"
    },
    {
     "name": "stdout",
     "output_type": "stream",
     "text": [
      "--------------------------------------------------------------------------------\n",
      "DATALOADER:0 TEST RESULTS\n",
      "{'val_loss': 9.061011951416731e-05}\n",
      "--------------------------------------------------------------------------------\n"
     ]
    },
    {
     "name": "stderr",
     "output_type": "stream",
     "text": [
      "/mnt/B40864F10864B450/WorkSpace/PHD/PHD_exps/NewPaper/torch_nilm/S2P.py:119: UserWarning: Using a target size (torch.Size([1024])) that is different to the input size (torch.Size([1024, 1])). This will likely lead to incorrect results due to broadcasting. Please ensure they have the same size.\n",
      "  loss = F.mse_loss(outputs, y)\n",
      "/mnt/B40864F10864B450/WorkSpace/PHD/PHD_exps/NewPaper/torch_nilm/S2P.py:119: UserWarning: Using a target size (torch.Size([367])) that is different to the input size (torch.Size([367, 1])). This will likely lead to incorrect results due to broadcasting. Please ensure they have the same size.\n",
      "  loss = F.mse_loss(outputs, y)\n"
     ]
    },
    {
     "data": {
      "text/plain": [
       "[{'val_loss': 9.061011951416731e-05}]"
      ]
     },
     "execution_count": 11,
     "metadata": {},
     "output_type": "execute_result"
    }
   ],
   "source": [
    "# The filename of the resulting datastore\n",
    "disag_filename = 'test3.h5' \n",
    "\n",
    "# window_size = 50\n",
    "timeframe = test_dataset.timeframe\n",
    "building = test_dataset.building\n",
    "cols_name = test_dataset.chunk_name\n",
    "mmax = train_dataset.mmax\n",
    "\n",
    "meter_metadata = train_dataset.meter_metadata\n",
    "\n",
    "model.set_disaggregation_meta(building, timeframe, \n",
    "                              cols_name, mmax, disag_filename, meter_metadata, \n",
    "                              datetime_index=test_dataset.meter_time_index)\n",
    "trainer.test(model, test_loader)"
   ]
  },
  {
   "cell_type": "code",
   "execution_count": 12,
   "id": "united-recording",
   "metadata": {},
   "outputs": [
    {
     "data": {
      "text/plain": [
       "12"
      ]
     },
     "execution_count": 12,
     "metadata": {},
     "output_type": "execute_result"
    }
   ],
   "source": [
    "meter_metadata.instance()"
   ]
  },
  {
   "cell_type": "code",
   "execution_count": 13,
   "id": "peripheral-offense",
   "metadata": {},
   "outputs": [
    {
     "name": "stdout",
     "output_type": "stream",
     "text": [
      "(1391,)\n"
     ]
    }
   ],
   "source": [
    "preds = model.final_preds\n",
    "print(preds.shape)"
   ]
  },
  {
   "cell_type": "code",
   "execution_count": 14,
   "id": "adequate-ordinance",
   "metadata": {},
   "outputs": [
    {
     "name": "stdout",
     "output_type": "stream",
     "text": [
      "(1391, 50) (1391,)\n"
     ]
    }
   ],
   "source": [
    "print(test_dataset.mainchunk.shape, test_dataset.meterchunk.shape)"
   ]
  },
  {
   "cell_type": "code",
   "execution_count": 15,
   "id": "committed-spotlight",
   "metadata": {},
   "outputs": [
    {
     "data": {
      "text/plain": [
       "[<matplotlib.lines.Line2D at 0x7fe3fd5cbaf0>]"
      ]
     },
     "execution_count": 15,
     "metadata": {},
     "output_type": "execute_result"
    },
    {
     "data": {
      "image/png": "[encoded data removed]",
      "text/plain": [
       "<Figure size 432x288 with 1 Axes>"
      ]
     },
     "metadata": {
      "needs_background": "light"
     },
     "output_type": "display_data"
    }
   ],
   "source": [
    "plt.plot(preds[:6000])\n",
    "plt.plot(test_dataset.meterchunk[:6000])"
   ]
  },
  {
   "cell_type": "code",
   "execution_count": 22,
   "id": "conservative-polish",
   "metadata": {},
   "outputs": [
    {
     "name": "stderr",
     "output_type": "stream",
     "text": [
      "/home/nick/anaconda3/envs/pytorch_nilm/lib/python3.8/site-packages/pandas/core/arrays/datetimes.py:1266: UserWarning: Converting to PeriodArray/Index representation will drop timezone information.\n",
      "  warnings.warn(\n"
     ]
    },
    {
     "data": {
      "image/png": "[encoded data removed]",
      "text/plain": [
       "<Figure size 432x288 with 1 Axes>"
      ]
     },
     "metadata": {
      "needs_background": "light"
     },
     "output_type": "display_data"
    },
    {
     "name": "stdout",
     "output_type": "stream",
     "text": [
      "True threshold:  50\n",
      "Pred threshold:  50\n"
     ]
    },
    {
     "ename": "TypeError",
     "evalue": "'NoneType' object is not subscriptable",
     "output_type": "error",
     "traceback": [
      "\u001b[0;31m---------------------------------------------------------------------------\u001b[0m",
      "\u001b[0;31mTypeError\u001b[0m                                 Traceback (most recent call last)",
      "\u001b[0;32m<ipython-input-22-17d79fdd3a88>\u001b[0m in \u001b[0;36m<module>\u001b[0;34m\u001b[0m\n\u001b[1;32m     11\u001b[0m \u001b[0mrpaf\u001b[0m \u001b[0;34m=\u001b[0m \u001b[0mmetrics\u001b[0m\u001b[0;34m.\u001b[0m\u001b[0mrecall_precision_accuracy_f1\u001b[0m\u001b[0;34m(\u001b[0m\u001b[0mpredicted\u001b[0m\u001b[0;34m,\u001b[0m \u001b[0mground_truth\u001b[0m\u001b[0;34m)\u001b[0m\u001b[0;34m\u001b[0m\u001b[0;34m\u001b[0m\u001b[0m\n\u001b[1;32m     12\u001b[0m \u001b[0;34m\u001b[0m\u001b[0m\n\u001b[0;32m---> 13\u001b[0;31m \u001b[0mprint\u001b[0m\u001b[0;34m(\u001b[0m\u001b[0;34m\"Recall: {}\"\u001b[0m\u001b[0;34m.\u001b[0m\u001b[0mformat\u001b[0m\u001b[0;34m(\u001b[0m\u001b[0mrpaf\u001b[0m\u001b[0;34m[\u001b[0m\u001b[0;36m0\u001b[0m\u001b[0;34m]\u001b[0m\u001b[0;34m)\u001b[0m\u001b[0;34m)\u001b[0m\u001b[0;34m\u001b[0m\u001b[0;34m\u001b[0m\u001b[0m\n\u001b[0m\u001b[1;32m     14\u001b[0m \u001b[0mprint\u001b[0m\u001b[0;34m(\u001b[0m\u001b[0;34m\"Precision: {}\"\u001b[0m\u001b[0;34m.\u001b[0m\u001b[0mformat\u001b[0m\u001b[0;34m(\u001b[0m\u001b[0mrpaf\u001b[0m\u001b[0;34m[\u001b[0m\u001b[0;36m1\u001b[0m\u001b[0;34m]\u001b[0m\u001b[0;34m)\u001b[0m\u001b[0;34m)\u001b[0m\u001b[0;34m\u001b[0m\u001b[0;34m\u001b[0m\u001b[0m\n\u001b[1;32m     15\u001b[0m \u001b[0mprint\u001b[0m\u001b[0;34m(\u001b[0m\u001b[0;34m\"Accuracy: {}\"\u001b[0m\u001b[0;34m.\u001b[0m\u001b[0mformat\u001b[0m\u001b[0;34m(\u001b[0m\u001b[0mrpaf\u001b[0m\u001b[0;34m[\u001b[0m\u001b[0;36m2\u001b[0m\u001b[0;34m]\u001b[0m\u001b[0;34m)\u001b[0m\u001b[0;34m)\u001b[0m\u001b[0;34m\u001b[0m\u001b[0;34m\u001b[0m\u001b[0m\n",
      "\u001b[0;31mTypeError\u001b[0m: 'NoneType' object is not subscriptable"
     ]
    }
   ],
   "source": [
    "result = DataSet(disag_filename)\n",
    "res_elec = result.buildings[building].elec\n",
    "predicted = res_elec[device]\n",
    "ground_truth = test_dataset.meter_metadata\n",
    "\n",
    "\n",
    "# predicted.plot()\n",
    "ground_truth.plot()\n",
    "plt.show()\n",
    "\n",
    "rpaf = metrics.recall_precision_accuracy_f1(predicted, ground_truth)\n",
    "\n",
    "print(\"Recall: {}\".format(rpaf[0]))\n",
    "print(\"Precision: {}\".format(rpaf[1]))\n",
    "print(\"Accuracy: {}\".format(rpaf[2]))\n",
    "print(\"F1 Score: {}\".format(rpaf[3]))\n",
    "\n",
    "print(\"Relative error in total energy: {}\".format(metrics.relative_error_total_energy(predicted, ground_truth)))\n",
    "\n",
    "print(\"Mean absolute error(in Watts): {}\".format(metrics.mean_absolute_error(predicted, ground_truth)))"
   ]
  },
  {
   "cell_type": "code",
   "execution_count": 18,
   "id": "cloudy-canvas",
   "metadata": {},
   "outputs": [
    {
     "data": {
      "text/plain": [
       "ElecMeter(instance=12, building=1, dataset='Sequence2Point model', appliances=[Appliance(type='fridge freezer', instance=1)])"
      ]
     },
     "execution_count": 18,
     "metadata": {},
     "output_type": "execute_result"
    }
   ],
   "source": [
    "predicted"
   ]
  },
  {
   "cell_type": "code",
   "execution_count": 21,
   "id": "golden-vector",
   "metadata": {},
   "outputs": [
    {
     "name": "stderr",
     "output_type": "stream",
     "text": [
      "/home/nick/anaconda3/envs/pytorch_nilm/lib/python3.8/site-packages/nilmtk/utils.py:502: UserWarning: Found duplicate index. Keeping first value\n",
      "  warnings.warn(\"Found duplicate index. Keeping first value\")\n"
     ]
    },
    {
     "data": {
      "text/plain": [
       "<matplotlib.axes._subplots.AxesSubplot at 0x7fe3fcb9adf0>"
      ]
     },
     "execution_count": 21,
     "metadata": {},
     "output_type": "execute_result"
    },
    {
     "data": {
      "image/png": "[encoded data removed]",
      "text/plain": [
       "<Figure size 432x288 with 1 Axes>"
      ]
     },
     "metadata": {
      "needs_background": "light"
     },
     "output_type": "display_data"
    }
   ],
   "source": [
    "ground_truth.plot()"
   ]
  },
  {
   "cell_type": "code",
   "execution_count": 20,
   "id": "cleared-intelligence",
   "metadata": {},
   "outputs": [
    {
     "name": "stderr",
     "output_type": "stream",
     "text": [
      "/home/nick/anaconda3/envs/pytorch_nilm/lib/python3.8/site-packages/nilmtk/utils.py:502: UserWarning: Found duplicate index. Keeping first value\n",
      "  warnings.warn(\"Found duplicate index. Keeping first value\")\n"
     ]
    },
    {
     "data": {
      "text/plain": [
       "<matplotlib.axes._subplots.AxesSubplot at 0x7fe3fd561d60>"
      ]
     },
     "execution_count": 20,
     "metadata": {},
     "output_type": "execute_result"
    },
    {
     "data": {
      "image/png": "[encoded data removed]",
      "text/plain": [
       "<Figure size 432x288 with 1 Axes>"
      ]
     },
     "metadata": {
      "needs_background": "light"
     },
     "output_type": "display_data"
    }
   ],
   "source": [
    "predicted.plot()"
   ]
  },
  {
   "cell_type": "code",
   "execution_count": null,
   "id": "confident-airplane",
   "metadata": {},
   "outputs": [],
   "source": [
    "from nilmtk.electric import align_two_meters\n",
    "def recall_precision_accuracy_f1(pred, ground, pr_threshold = None, gr_threshold = None):\n",
    "    aligned_meters = align_two_meters(pred, ground)\n",
    "    if pr_threshold == None:\n",
    "        pr_threshold = ground.on_power_threshold() #If not TH was provided, both sets get TH from ground\n",
    "    if gr_threshold == None:\n",
    "        gr_threshold = ground.on_power_threshold()  # If not TH was provided, both sets get TH from ground\n",
    "    print('True threshold: ',gr_threshold)\n",
    "    print('Pred threshold: ', pr_threshold)\n",
    "    chunk_results = []\n",
    "    sum_samples = 0.0\n",
    "    for chunk in aligned_meters:\n",
    "        sum_samples += len(chunk)\n",
    "        pr = chunk.iloc[:,0].fillna(0) #method='bfill'\n",
    "        gr = chunk.iloc[:,1].fillna(0)\n",
    "        pr = np.array([0 if (p)<pr_threshold else 1 for p in pr])\n",
    "        gr = np.array([0 if p<gr_threshold else 1 for p in gr])\n",
    "\n",
    "#         tp, tn, fp, fn = tp_tn_fp_fn(pr,gr)\n",
    "        tp, tn, fp, fn = tp_tn_fp_fn(gr,pr)\n",
    "        p = sum(pr)\n",
    "        n = len(pr) - p\n",
    "\n",
    "        chunk_results.append([tp,tn,fp,fn,p,n])\n",
    "\n",
    "    if sum_samples == 0:\n",
    "        return None\n",
    "    else:\n",
    "        [tp,tn,fp,fn,p,n] = np.sum(chunk_results, axis=0)\n",
    "\n",
    "        res_recall = recall(tp,fn)\n",
    "        res_precision = precision(tp,fp)\n",
    "        res_f1 = f1(res_precision,res_recall)\n",
    "        res_accuracy = accuracy(tp,tn,p,n)\n",
    "\n",
    "        return (res_recall,res_precision,res_accuracy,res_f1)"
   ]
  },
  {
   "cell_type": "code",
   "execution_count": null,
   "id": "artificial-diameter",
   "metadata": {
    "scrolled": true
   },
   "outputs": [],
   "source": [
    "recall_precision_accuracy_f1(predicted, ground_truth)"
   ]
  },
  {
   "cell_type": "code",
   "execution_count": null,
   "id": "employed-simon",
   "metadata": {},
   "outputs": [],
   "source": [
    "aligned_meters = align_two_meters(predicted, ground_truth)\n",
    "for a in aligned_meters:\n",
    "    print(a)"
   ]
  },
  {
   "cell_type": "code",
   "execution_count": null,
   "id": "eastern-destruction",
   "metadata": {},
   "outputs": [],
   "source": [
    "ground_truth.power_series_all_data().tz_localize(None)"
   ]
  },
  {
   "cell_type": "code",
   "execution_count": null,
   "id": "extraordinary-weekly",
   "metadata": {},
   "outputs": [],
   "source": [
    "predicted.power_series_all_data().tz_localize(None)"
   ]
  },
  {
   "cell_type": "code",
   "execution_count": null,
   "id": "disabled-budget",
   "metadata": {},
   "outputs": [],
   "source": [
    "master = ground_truth\n",
    "func = 'power_series'\n",
    "sections = master.good_sections()\n",
    "master_generator = getattr(master, func)(sections=sections)\n",
    "for master_chunk in master_generator:\n",
    "    print(master_chunk)"
   ]
  },
  {
   "cell_type": "code",
   "execution_count": null,
   "id": "rational-hospital",
   "metadata": {},
   "outputs": [],
   "source": [
    "sections"
   ]
  },
  {
   "cell_type": "code",
   "execution_count": null,
   "id": "fundamental-genre",
   "metadata": {},
   "outputs": [],
   "source": [
    "predicted.good_sections()"
   ]
  }
 ],
 "metadata": {
  "kernelspec": {
   "display_name": "Python 3",
   "language": "python",
   "name": "python3"
  },
  "language_info": {
   "codemirror_mode": {
    "name": "ipython",
    "version": 3
   },
   "file_extension": ".py",
   "mimetype": "text/x-python",
   "name": "python",
   "nbconvert_exporter": "python",
   "pygments_lexer": "ipython3",
   "version": "3.8.8"
  }
 },
 "nbformat": 4,
 "nbformat_minor": 5
}
