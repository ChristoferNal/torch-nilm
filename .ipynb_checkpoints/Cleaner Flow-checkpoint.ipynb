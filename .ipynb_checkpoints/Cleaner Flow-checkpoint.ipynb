{
 "cells": [
  {
   "cell_type": "code",
   "execution_count": 1,
   "id": "creative-detail",
   "metadata": {},
   "outputs": [
    {
     "name": "stderr",
     "output_type": "stream",
     "text": [
      "Global seed set to 42\n"
     ]
    },
    {
     "name": "stdout",
     "output_type": "stream",
     "text": [
      "Device: cuda:0\n"
     ]
    },
    {
     "name": "stderr",
     "output_type": "stream",
     "text": [
      "/mnt/B40864F10864B450/WorkSpace/PHD/PHD_exps/NewPaper/torch_nilm/modules/MyDataSet.py:249: SyntaxWarning: assertion is always true, perhaps remove parentheses?\n",
      "  assert(len(mainlist) == len(meterlist), \"Number of main and meter channels should be equal\")\n"
     ]
    }
   ],
   "source": [
    "import torch\n",
    "from modules.MyTrainer import NILMTrainer\n",
    "from modules.helpers import create_tree_dir, save_report, train_model\n",
    "\n",
    "from torch.utils.data import Dataset, DataLoader\n",
    "\n",
    "from modules.MyDataSet import MyChunk, MyChunkList\n",
    "\n",
    "with torch.no_grad():\n",
    "    torch.cuda.empty_cache() "
   ]
  },
  {
   "cell_type": "markdown",
   "id": "assisted-technology",
   "metadata": {},
   "source": [
    "# Project Settings"
   ]
  },
  {
   "cell_type": "code",
   "execution_count": 2,
   "id": "numerous-hamburg",
   "metadata": {},
   "outputs": [
    {
     "name": "stdout",
     "output_type": "stream",
     "text": [
      "root\n",
      "all clean\n",
      "/mnt/B40864F10864B450/WorkSpace/PHD/PHD_exps/NewPaper/torch_nilm/TEST_TREE\n",
      "1\n"
     ]
    }
   ],
   "source": [
    "clean = True\n",
    "ROOT = 'output'\n",
    "dev_list = ['fridge', 'kettle', ]\n",
    "mod_list = ['SimpleGru','SAED', 'WGRU', 'S2P', ]\n",
    "tree_levels = {'root': 'TEST_TREE', 'l1': ['results'], 'l2': dev_list, 'l3': mod_list}\n",
    "create_tree_dir(tree_levels=tree_levels, clean=clean)"
   ]
  },
  {
   "cell_type": "markdown",
   "id": "contemporary-midwest",
   "metadata": {},
   "source": [
    "# Experiment settings"
   ]
  },
  {
   "cell_type": "code",
   "execution_count": 3,
   "id": "earlier-premium",
   "metadata": {},
   "outputs": [],
   "source": [
    "SAMPLE_PERIOD = 6\n",
    "WINDOW = 50\n",
    "device = 'fridge'\n",
    "BATCH = 1024\n",
    "experiment_name = 'Cat1'\n",
    "EPOCHS = 1\n",
    "ITERATIONS = 3\n",
    "\n",
    "model_hparams={\n",
    "              'SimpleGru':{'hidden_dim':16, 'dropout':0},\n",
    "              'SAED':{},\n",
    "               'WGRU':{'dropout':0},\n",
    "               'S2P': {'window_size':WINDOW, 'dropout':0},\n",
    "               }"
   ]
  },
  {
   "cell_type": "markdown",
   "id": "musical-inspector",
   "metadata": {},
   "source": [
    "# TrainLoader"
   ]
  },
  {
   "cell_type": "code",
   "execution_count": 4,
   "id": "material-convention",
   "metadata": {},
   "outputs": [
    {
     "name": "stdout",
     "output_type": "stream",
     "text": [
      "Implementation of torch dataset using NILMTK\n"
     ]
    },
    {
     "name": "stderr",
     "output_type": "stream",
     "text": [
      "<ipython-input-4-1ff83272af70>:5: FutureWarning: Converting timezone-aware DatetimeArray to timezone-naive ndarray with 'datetime64[ns]' dtype. In the future, this will return an ndarray with 'object' dtype where each element is a 'pandas.Timestamp' with the correct 'tz'.\n",
      "\tTo accept the future behavior, pass 'dtype=object'.\n",
      "\tTo keep the old behavior, pass 'dtype=\"datetime64[ns]\"'.\n",
      "  train_dataset = MyChunk(path=path, building=building, window_size=WINDOW,\n"
     ]
    }
   ],
   "source": [
    "d_name = 'UKDALE'\n",
    "path = '/mnt/B40864F10864B450/WorkSpace/PHD/PHD_exps/data/{}/{}.h5'.format(d_name,d_name)\n",
    "dates = [\"2013-07-15\",\"2013-07-16\"]\n",
    "building = 1\n",
    "train_dataset = MyChunk(path=path, building=building, window_size=WINDOW,\n",
    "                  device=device, dates=dates, sample_period=SAMPLE_PERIOD)\n",
    "train_loader = DataLoader(train_dataset, batch_size=BATCH, \n",
    "                          shuffle=False, num_workers=8)\n",
    "mmax = train_dataset.mmax"
   ]
  },
  {
   "cell_type": "markdown",
   "id": "pointed-providence",
   "metadata": {},
   "source": [
    "# TestLoader"
   ]
  },
  {
   "cell_type": "code",
   "execution_count": 5,
   "id": "protecting-copying",
   "metadata": {},
   "outputs": [
    {
     "name": "stdout",
     "output_type": "stream",
     "text": [
      "Implementation of torch dataset using NILMTK\n"
     ]
    },
    {
     "name": "stderr",
     "output_type": "stream",
     "text": [
      "<ipython-input-5-eb27622b9bff>:5: FutureWarning: Converting timezone-aware DatetimeArray to timezone-naive ndarray with 'datetime64[ns]' dtype. In the future, this will return an ndarray with 'object' dtype where each element is a 'pandas.Timestamp' with the correct 'tz'.\n",
      "\tTo accept the future behavior, pass 'dtype=object'.\n",
      "\tTo keep the old behavior, pass 'dtype=\"datetime64[ns]\"'.\n",
      "  test_dataset = MyChunk(path=path, building=building, window_size=WINDOW,\n"
     ]
    }
   ],
   "source": [
    "d_name = 'UKDALE'\n",
    "path = '/mnt/B40864F10864B450/WorkSpace/PHD/PHD_exps/data/{}/{}.h5'.format(d_name,d_name)\n",
    "dates = [\"2013-08-01\", \"2013-08-02\"]\n",
    "building = 1\n",
    "test_dataset = MyChunk(path=path, building=building, window_size=WINDOW,\n",
    "                  device=device, dates=dates, test=True, mmax=train_dataset.mmax, sample_period=SAMPLE_PERIOD)\n",
    "test_loader = DataLoader(test_dataset, batch_size=BATCH, \n",
    "                          shuffle=False, num_workers=8)\n",
    "ground = test_dataset.meterchunk"
   ]
  },
  {
   "cell_type": "markdown",
   "id": "reverse-confusion",
   "metadata": {},
   "source": [
    "# Run Experiment"
   ]
  },
  {
   "cell_type": "code",
   "execution_count": 6,
   "id": "everyday-bradford",
   "metadata": {
    "scrolled": true
   },
   "outputs": [
    {
     "name": "stderr",
     "output_type": "stream",
     "text": [
      "GPU available: True, used: True\n",
      "TPU available: None, using: 0 TPU cores\n",
      "LOCAL_RANK: 0 - CUDA_VISIBLE_DEVICES: [0]\n"
     ]
    },
    {
     "name": "stdout",
     "output_type": "stream",
     "text": [
      "########################################\n",
      "MODEL:  SimpleGru\n",
      "########################################\n",
      "####################\n",
      "Iteration:  1\n",
      "####################\n"
     ]
    },
    {
     "name": "stderr",
     "output_type": "stream",
     "text": [
      "\n",
      "  | Name  | Type      | Params\n",
      "------------------------------------\n",
      "0 | model | SimpleGru | 39.9 K\n",
      "------------------------------------\n",
      "39.9 K    Trainable params\n",
      "0         Non-trainable params\n",
      "39.9 K    Total params\n",
      "0.160     Total estimated model params size (MB)\n"
     ]
    },
    {
     "data": {
      "application/vnd.jupyter.widget-view+json": {
       "model_id": "5242c307eb9f493487a1c613df4562ee",
       "version_major": 2,
       "version_minor": 0
      },
      "text/plain": [
       "Training: 0it [00:00, ?it/s]"
      ]
     },
     "metadata": {},
     "output_type": "display_data"
    },
    {
     "name": "stderr",
     "output_type": "stream",
     "text": [
      "/home/nick/anaconda3/envs/pytorch_nilm/lib/python3.8/site-packages/pytorch_lightning/utilities/distributed.py:52: UserWarning: The {log:dict keyword} was deprecated in 0.9.1 and will be removed in 1.0.0\n",
      "Please use self.log(...) inside the lightningModule instead.\n",
      "# log on a step or aggregate epoch metric to the logger and/or progress bar (inside LightningModule)\n",
      "self.log('train_loss', loss, on_step=True, on_epoch=True, prog_bar=True)\n",
      "  warnings.warn(*args, **kwargs)\n",
      "LOCAL_RANK: 0 - CUDA_VISIBLE_DEVICES: [0]\n"
     ]
    },
    {
     "data": {
      "application/vnd.jupyter.widget-view+json": {
       "model_id": "a49c27fc2f6947c6812828ff89100a76",
       "version_major": 2,
       "version_minor": 0
      },
      "text/plain": [
       "Testing: 0it [00:00, ?it/s]"
      ]
     },
     "metadata": {},
     "output_type": "display_data"
    },
    {
     "name": "stderr",
     "output_type": "stream",
     "text": [
      "/mnt/B40864F10864B450/WorkSpace/PHD/PHD_exps/NewPaper/torch_nilm/modules/MyTrainer.py:84: UserWarning: Using a target size (torch.Size([1024])) that is different to the input size (torch.Size([1024, 1])). This will likely lead to incorrect results due to broadcasting. Please ensure they have the same size.\n",
      "  loss = F.mse_loss(outputs, y)\n",
      "/mnt/B40864F10864B450/WorkSpace/PHD/PHD_exps/NewPaper/torch_nilm/modules/MyTrainer.py:84: UserWarning: Using a target size (torch.Size([15])) that is different to the input size (torch.Size([15, 1])). This will likely lead to incorrect results due to broadcasting. Please ensure they have the same size.\n",
      "  loss = F.mse_loss(outputs, y)\n"
     ]
    },
    {
     "name": "stdout",
     "output_type": "stream",
     "text": [
      "#### model name: SimpleGru ####\n",
      "metrics: {'recall': 1.0, 'precision': 0.513, 'f1': 0.678, 'accuracy': 0.513, 'MAE': 47.21, 'RETE': 0.446}\n",
      "--------------------------------------------------------------------------------\n",
      "DATALOADER:0 TEST RESULTS\n",
      "{'metrics': {'MAE': 47.21,\n",
      "             'RETE': 0.446,\n",
      "             'accuracy': 0.513,\n",
      "             'f1': 0.678,\n",
      "             'precision': 0.513,\n",
      "             'recall': 1.0},\n",
      " 'model': 'SimpleGru',\n",
      " 'preds': array([0.03301723, 0.03303568, 0.03300985, ..., 0.01971072, 0.01971086,\n",
      "       0.01970913]),\n",
      " 'test_test_avg_loss': 0.00019588226859923452}\n",
      "--------------------------------------------------------------------------------\n"
     ]
    },
    {
     "name": "stderr",
     "output_type": "stream",
     "text": [
      "/home/nick/anaconda3/envs/pytorch_nilm/lib/python3.8/site-packages/pytorch_lightning/utilities/distributed.py:52: UserWarning: The testing_epoch_end should not return anything as of 9.1. To log, use self.log(...) or self.write(...) directly in the LightningModule\n",
      "  warnings.warn(*args, **kwargs)\n"
     ]
    },
    {
     "ename": "NameError",
     "evalue": "name 'os' is not defined",
     "output_type": "error",
     "traceback": [
      "\u001b[0;31m---------------------------------------------------------------------------\u001b[0m",
      "\u001b[0;31mNameError\u001b[0m                                 Traceback (most recent call last)",
      "\u001b[0;32m<ipython-input-6-f0ee0343fe84>\u001b[0m in \u001b[0;36m<module>\u001b[0;34m\u001b[0m\n\u001b[1;32m     18\u001b[0m         save_report(ROOT, model_name, device, experiment_name,\n\u001b[1;32m     19\u001b[0m                     iteration, results, preds, ground)\n\u001b[0;32m---> 20\u001b[0;31m         \u001b[0mprint\u001b[0m\u001b[0;34m(\u001b[0m\u001b[0mos\u001b[0m\u001b[0;34m.\u001b[0m\u001b[0mgetcwd\u001b[0m\u001b[0;34m(\u001b[0m\u001b[0;34m)\u001b[0m\u001b[0;34m)\u001b[0m\u001b[0;34m\u001b[0m\u001b[0;34m\u001b[0m\u001b[0m\n\u001b[0m",
      "\u001b[0;31mNameError\u001b[0m: name 'os' is not defined"
     ]
    }
   ],
   "source": [
    "eval_params={'device':device,\n",
    "             'mmax':mmax,\n",
    "             'groundtruth':ground}\n",
    "for model_name in mod_list:\n",
    "    print('#'*40)\n",
    "    print('MODEL: ', model_name)\n",
    "    print('#'*40)\n",
    "    for iteration in range(1,ITERATIONS+1):\n",
    "        print('#'*20)\n",
    "        print('Iteration: ', iteration)\n",
    "        print('#'*20)\n",
    "        m_hparams, results, preds = train_model(model_name=model_name,\n",
    "                                                model_hparams=model_hparams[model_name],\n",
    "                                                train_loader=train_loader, \n",
    "                                                test_loader=test_loader,\n",
    "                                                epochs=EPOCHS,\n",
    "                                                eval_params=eval_params)\n",
    "        save_report(ROOT, model_name, device, experiment_name,\n",
    "                    iteration, results, preds, ground)"
   ]
  },
  {
   "cell_type": "code",
   "execution_count": null,
   "id": "moving-activation",
   "metadata": {},
   "outputs": [],
   "source": []
  }
 ],
 "metadata": {
  "kernelspec": {
   "display_name": "Python 3",
   "language": "python",
   "name": "python3"
  },
  "language_info": {
   "codemirror_mode": {
    "name": "ipython",
    "version": 3
   },
   "file_extension": ".py",
   "mimetype": "text/x-python",
   "name": "python",
   "nbconvert_exporter": "python",
   "pygments_lexer": "ipython3",
   "version": "3.8.8"
  }
 },
 "nbformat": 4,
 "nbformat_minor": 5
}
