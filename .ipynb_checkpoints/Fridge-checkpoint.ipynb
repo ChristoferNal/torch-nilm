{
 "cells": [
  {
   "cell_type": "code",
   "execution_count": 50,
   "id": "creative-detail",
   "metadata": {},
   "outputs": [],
   "source": [
    "import torch\n",
    "from modules.MyTrainer import NILMTrainer\n",
    "from modules.helpers import create_tree_dir, save_report, train_model, display_res#, train_save\n",
    "\n",
    "from torch.utils.data import Dataset, DataLoader\n",
    "\n",
    "from modules.MyDataSet import MyChunk, MyChunkList\n",
    "\n",
    "with torch.no_grad():\n",
    "    torch.cuda.empty_cache() "
   ]
  },
  {
   "cell_type": "markdown",
   "id": "detailed-consultation",
   "metadata": {},
   "source": [
    "# Project Settings"
   ]
  },
  {
   "cell_type": "code",
   "execution_count": 51,
   "id": "fallen-preference",
   "metadata": {},
   "outputs": [
    {
     "name": "stdout",
     "output_type": "stream",
     "text": [
      "root\n",
      "all clean\n",
      "/mnt/B40864F10864B450/WorkSpace/PHD/PHD_exps/NewPaper/torch_nilm/output\n",
      "1\n"
     ]
    }
   ],
   "source": [
    "clean = True\n",
    "ROOT = 'output'\n",
    "dev_list = ['fridge', \n",
    "            'kettle', \n",
    "            'washing machine',\n",
    "            'washer dryer',\n",
    "            'tumble dryer',\n",
    "            'dish washer',\n",
    "            'microwave',\n",
    "            'television',\n",
    "            'computer',\n",
    "            'electric space heater'\n",
    "           ]\n",
    "mod_list = [\n",
    "            'SF2P',\n",
    "            'S2P',\n",
    "            'SimpleGru',\n",
    "            'FFED',\n",
    "            'SAED',\n",
    "            'FNET',\n",
    "            'WGRU',\n",
    "            ]\n",
    "cat_list = ['Cat'+str(x) for x in range(1,5)]\n",
    "tree_levels = {'root': ROOT, 'l1': ['results'], 'l2': dev_list, 'l3': mod_list, 'experiments':cat_list}\n",
    "create_tree_dir(tree_levels=tree_levels, clean=clean)"
   ]
  },
  {
   "cell_type": "markdown",
   "id": "metallic-rocket",
   "metadata": {},
   "source": [
    "# Experiment settings"
   ]
  },
  {
   "cell_type": "code",
   "execution_count": 40,
   "id": "operational-serum",
   "metadata": {},
   "outputs": [
    {
     "name": "stdout",
     "output_type": "stream",
     "text": [
      "dates\t  Fridge.ipynb\tlightning_logs\toutput\r\n",
      "DW.ipynb  Kettle.ipynb\tmodules\t\tREADME.md\r\n"
     ]
    }
   ],
   "source": [
    "!ls"
   ]
  },
  {
   "cell_type": "code",
   "execution_count": 52,
   "id": "tender-prerequisite",
   "metadata": {},
   "outputs": [
    {
     "data": {
      "text/html": [
       "<div>\n",
       "<style scoped>\n",
       "    .dataframe tbody tr th:only-of-type {\n",
       "        vertical-align: middle;\n",
       "    }\n",
       "\n",
       "    .dataframe tbody tr th {\n",
       "        vertical-align: top;\n",
       "    }\n",
       "\n",
       "    .dataframe thead th {\n",
       "        text-align: right;\n",
       "    }\n",
       "</style>\n",
       "<table border=\"1\" class=\"dataframe\">\n",
       "  <thead>\n",
       "    <tr style=\"text-align: right;\">\n",
       "      <th></th>\n",
       "      <th>test_house</th>\n",
       "      <th>test_set</th>\n",
       "      <th>test_date</th>\n",
       "    </tr>\n",
       "  </thead>\n",
       "  <tbody>\n",
       "    <tr>\n",
       "      <th>0</th>\n",
       "      <td>2</td>\n",
       "      <td>UKDALE</td>\n",
       "      <td>[2013-05-22, 2013-06-22]</td>\n",
       "    </tr>\n",
       "    <tr>\n",
       "      <th>1</th>\n",
       "      <td>4</td>\n",
       "      <td>UKDALE</td>\n",
       "      <td>[2013-05-22, 2013-06-22]</td>\n",
       "    </tr>\n",
       "    <tr>\n",
       "      <th>2</th>\n",
       "      <td>5</td>\n",
       "      <td>UKDALE</td>\n",
       "      <td>[2013-08-01, 2013-09-01]</td>\n",
       "    </tr>\n",
       "    <tr>\n",
       "      <th>3</th>\n",
       "      <td>5</td>\n",
       "      <td>REFIT</td>\n",
       "      <td>[2014-09-01, 2014-10-01]</td>\n",
       "    </tr>\n",
       "    <tr>\n",
       "      <th>4</th>\n",
       "      <td>6</td>\n",
       "      <td>REFIT</td>\n",
       "      <td>[2014-09-01, 2014-10-01]</td>\n",
       "    </tr>\n",
       "    <tr>\n",
       "      <th>5</th>\n",
       "      <td>20</td>\n",
       "      <td>REFIT</td>\n",
       "      <td>[2015-01-01, 2015-02-01]</td>\n",
       "    </tr>\n",
       "  </tbody>\n",
       "</table>\n",
       "</div>"
      ],
      "text/plain": [
       "  test_house test_set                 test_date\n",
       "0          2   UKDALE  [2013-05-22, 2013-06-22]\n",
       "1          4   UKDALE  [2013-05-22, 2013-06-22]\n",
       "2          5   UKDALE  [2013-08-01, 2013-09-01]\n",
       "3          5    REFIT  [2014-09-01, 2014-10-01]\n",
       "4          6    REFIT  [2014-09-01, 2014-10-01]\n",
       "5         20    REFIT  [2015-01-01, 2015-02-01]"
      ]
     },
     "execution_count": 52,
     "metadata": {},
     "output_type": "execute_result"
    }
   ],
   "source": [
    "import pandas as pd\n",
    "test_houses = []\n",
    "test_sets = []\n",
    "test_dates = []\n",
    "\n",
    "device = 'fridge'\n",
    "file = open('dates/baseTestSetsInfo_' + device, 'r')\n",
    "\n",
    "for line in file:    \n",
    "    #take tokens from file\n",
    "    toks = line.split(',')\n",
    "\n",
    "    test_sets.append(toks[0])\n",
    "    test_houses.append(toks[1])\n",
    "    #sets time window of each house\n",
    "    test_dates.append([str(toks[2]),str(toks[3].rstrip(\"\\n\"))])\n",
    "data = {'test_house': test_houses, 'test_set': test_sets, 'test_date': test_dates}\n",
    "tests_params = pd.DataFrame(data)\n",
    "tests_params"
   ]
  },
  {
   "cell_type": "code",
   "execution_count": 42,
   "id": "earlier-premium",
   "metadata": {},
   "outputs": [
    {
     "data": {
      "text/plain": [
       "'multi_train_UKDALE_test_UKDALE'"
      ]
     },
     "execution_count": 42,
     "metadata": {},
     "output_type": "execute_result"
    }
   ],
   "source": [
    "SAMPLE_PERIOD = 6\n",
    "WINDOW = 50\n",
    "device = 'fridge'\n",
    "BATCH = 1024\n",
    "\n",
    "EPOCHS = 5\n",
    "ITERATIONS = 2\n",
    "\n",
    "train_house = 1'\n",
    "train_set = 'REFIT'\n",
    "test_set = 'REFIT'\n",
    "test_house = 1\n",
    "category = 'Cat1'\n",
    "experiment_name = 'train_'+ str(train_house) + '_'  + train_set +\\\n",
    "                  '_test_'+ str(test_house) + '_' + test_set\n",
    "\n",
    "# train_house = '1_4_multi'\n",
    "# train_set = 'UKDALE'\n",
    "# test_set = 'UKDALE'\n",
    "# test_house = 2\n",
    "# category = 'Cat3'\n",
    "# experiment_name = 'multi_train_'+ train_set + '_test_' + test_set\n",
    "\n",
    "model_hparams={\n",
    "              'SimpleGru':{},\n",
    "              'SAED':{'window_size':WINDOW},\n",
    "              'FFED':{},\n",
    "              'WGRU':{'dropout':0.25},\n",
    "              'S2P': {'window_size':WINDOW, 'dropout':0.25},\n",
    "              'SF2P': {'window_size':WINDOW, 'dropout':0.25},\n",
    "              'FNET': {'depth': 2, 'kernel_size':5, 'cnn_dim': 64,\n",
    "                       'input_dim':WINDOW, 'hidden_dim':WINDOW*8, 'dropout':0.25}\n",
    "               }\n",
    "experiment_name"
   ]
  },
  {
   "cell_type": "markdown",
   "id": "musical-inspector",
   "metadata": {},
   "source": [
    "# TrainLoader"
   ]
  },
  {
   "cell_type": "code",
   "execution_count": 43,
   "id": "material-convention",
   "metadata": {},
   "outputs": [],
   "source": [
    "d_name = train_set\n",
    "path = '/mnt/B40864F10864B450/WorkSpace/PHD/PHD_exps/data/{}/{}.h5'.format(d_name,d_name)\n",
    "dates = [\"2013-03-15\",\"2013-07-15\"]\n",
    "building = train_house\n",
    "train_dataset = MyChunk(path=path, building=building, window_size=WINDOW,\n",
    "                  device=device, dates=dates, sample_period=SAMPLE_PERIOD)\n",
    "train_loader = DataLoader(train_dataset, batch_size=BATCH, \n",
    "                          shuffle=False, num_workers=8)\n",
    "mmax = train_dataset.mmax"
   ]
  },
  {
   "cell_type": "code",
   "execution_count": 44,
   "id": "australian-beads",
   "metadata": {},
   "outputs": [
    {
     "name": "stdout",
     "output_type": "stream",
     "text": [
      "2013-03-15 - 2013-06-15\n",
      "\n",
      "2013-03-15 - 2013-04-15\n",
      "\n"
     ]
    },
    {
     "name": "stderr",
     "output_type": "stream",
     "text": [
      "/home/nick/anaconda3/envs/pytorch_nilm/lib/python3.8/site-packages/nilmtk/utils.py:502: UserWarning: Found duplicate index. Keeping first value\n",
      "  warnings.warn(\"Found duplicate index. Keeping first value\")\n"
     ]
    },
    {
     "name": "stdout",
     "output_type": "stream",
     "text": [
      "0\n",
      "1\n"
     ]
    }
   ],
   "source": [
    "# d_name = train_set\n",
    "# filename = 'dates/baseTrainSetsInfo_' + device\n",
    "# train_dataset = MyChunkList(device,filename=filename,\n",
    "#                             window_size=WINDOW, sample_period=SAMPLE_PERIOD)\n",
    "# train_loader = DataLoader(train_dataset, batch_size=BATCH, \n",
    "#                           shuffle=False, num_workers=8)\n",
    "# mmax = train_dataset.mmax"
   ]
  },
  {
   "cell_type": "markdown",
   "id": "pointed-providence",
   "metadata": {},
   "source": [
    "# TestLoader"
   ]
  },
  {
   "cell_type": "code",
   "execution_count": 45,
   "id": "protecting-copying",
   "metadata": {},
   "outputs": [
    {
     "name": "stdout",
     "output_type": "stream",
     "text": [
      "Implementation of torch dataset using NILMTK\n"
     ]
    },
    {
     "name": "stderr",
     "output_type": "stream",
     "text": [
      "<ipython-input-45-b846dba25acc>:5: FutureWarning: Converting timezone-aware DatetimeArray to timezone-naive ndarray with 'datetime64[ns]' dtype. In the future, this will return an ndarray with 'object' dtype where each element is a 'pandas.Timestamp' with the correct 'tz'.\n",
      "\tTo accept the future behavior, pass 'dtype=object'.\n",
      "\tTo keep the old behavior, pass 'dtype=\"datetime64[ns]\"'.\n",
      "  test_dataset = MyChunk(path=path, building=building, window_size=WINDOW,\n"
     ]
    }
   ],
   "source": [
    "d_name = test_set\n",
    "path = '/mnt/B40864F10864B450/WorkSpace/PHD/PHD_exps/data/{}/{}.h5'.format(d_name,d_name)\n",
    "dates = ['2013-05-22', '2013-06-22']#['2014-08-01', '2014-09-01']#[\"2013-08-01\", \"2013-09-01\"]\n",
    "building = test_house\n",
    "test_dataset = MyChunk(path=path, building=building, window_size=WINDOW,\n",
    "                  device=device, dates=dates, test=True, mmax=train_dataset.mmax, sample_period=SAMPLE_PERIOD)\n",
    "test_loader = DataLoader(test_dataset, batch_size=BATCH, \n",
    "                          shuffle=False, num_workers=8)\n",
    "ground = test_dataset.meterchunk"
   ]
  },
  {
   "cell_type": "code",
   "execution_count": 46,
   "id": "representative-publicity",
   "metadata": {},
   "outputs": [
    {
     "data": {
      "text/plain": [
       "[<matplotlib.lines.Line2D at 0x7f8ccd481160>]"
      ]
     },
     "execution_count": 46,
     "metadata": {},
     "output_type": "execute_result"
    },
    {
     "data": {
      "image/png": "[encoded data removed]",
      "text/plain": [
       "<Figure size 432x288 with 1 Axes>"
      ]
     },
     "metadata": {
      "needs_background": "light"
     },
     "output_type": "display_data"
    }
   ],
   "source": [
    "import numpy as np \n",
    "from matplotlib import pyplot as plt \n",
    "\n",
    "plt.plot(ground)"
   ]
  },
  {
   "cell_type": "markdown",
   "id": "included-paper",
   "metadata": {},
   "source": [
    "# Run Experiment"
   ]
  },
  {
   "cell_type": "code",
   "execution_count": 47,
   "id": "split-isolation",
   "metadata": {
    "scrolled": false
   },
   "outputs": [
    {
     "name": "stderr",
     "output_type": "stream",
     "text": [
      "GPU available: True, used: True\n",
      "TPU available: None, using: 0 TPU cores\n",
      "LOCAL_RANK: 0 - CUDA_VISIBLE_DEVICES: [0]\n"
     ]
    },
    {
     "name": "stdout",
     "output_type": "stream",
     "text": [
      "########################################\n",
      "MODEL:  SF2P\n",
      "########################################\n",
      "####################\n",
      "Iteration:  1\n",
      "####################\n"
     ]
    },
    {
     "name": "stderr",
     "output_type": "stream",
     "text": [
      "\n",
      "  | Name  | Type | Params\n",
      "-------------------------------\n",
      "0 | model | SF2P | 2.6 M \n",
      "-------------------------------\n",
      "2.6 M     Trainable params\n",
      "0         Non-trainable params\n",
      "2.6 M     Total params\n",
      "10.437    Total estimated model params size (MB)\n"
     ]
    },
    {
     "data": {
      "application/vnd.jupyter.widget-view+json": {
       "model_id": "47b22b4173754218a94cfb37c3e36f48",
       "version_major": 2,
       "version_minor": 0
      },
      "text/plain": [
       "Training: 0it [00:00, ?it/s]"
      ]
     },
     "metadata": {},
     "output_type": "display_data"
    },
    {
     "name": "stderr",
     "output_type": "stream",
     "text": [
      "/home/nick/anaconda3/envs/pytorch_nilm/lib/python3.8/site-packages/pytorch_lightning/utilities/distributed.py:52: UserWarning: The {log:dict keyword} was deprecated in 0.9.1 and will be removed in 1.0.0\n",
      "Please use self.log(...) inside the lightningModule instead.\n",
      "# log on a step or aggregate epoch metric to the logger and/or progress bar (inside LightningModule)\n",
      "self.log('train_loss', loss, on_step=True, on_epoch=True, prog_bar=True)\n",
      "  warnings.warn(*args, **kwargs)\n",
      "LOCAL_RANK: 0 - CUDA_VISIBLE_DEVICES: [0]\n"
     ]
    },
    {
     "data": {
      "application/vnd.jupyter.widget-view+json": {
       "model_id": "2f60c78e253649988fa558fdb5298747",
       "version_major": 2,
       "version_minor": 0
      },
      "text/plain": [
       "Testing: 0it [00:00, ?it/s]"
      ]
     },
     "metadata": {},
     "output_type": "display_data"
    },
    {
     "name": "stderr",
     "output_type": "stream",
     "text": [
      "/mnt/B40864F10864B450/WorkSpace/PHD/PHD_exps/NewPaper/torch_nilm/modules/MyTrainer.py:87: UserWarning: Using a target size (torch.Size([1024])) that is different to the input size (torch.Size([1024, 1])). This will likely lead to incorrect results due to broadcasting. Please ensure they have the same size.\n",
      "  loss = F.mse_loss(outputs, y)\n",
      "/mnt/B40864F10864B450/WorkSpace/PHD/PHD_exps/NewPaper/torch_nilm/modules/MyTrainer.py:87: UserWarning: Using a target size (torch.Size([911])) that is different to the input size (torch.Size([911, 1])). This will likely lead to incorrect results due to broadcasting. Please ensure they have the same size.\n",
      "  loss = F.mse_loss(outputs, y)\n",
      "/mnt/B40864F10864B450/WorkSpace/PHD/PHD_exps/NewPaper/torch_nilm/modules/NILM_metrics.py:17: RuntimeWarning: invalid value encountered in true_divide\n",
      "  return tp/float(tp+fp)\n",
      "/home/nick/anaconda3/envs/pytorch_nilm/lib/python3.8/site-packages/pytorch_lightning/utilities/distributed.py:52: UserWarning: The testing_epoch_end should not return anything as of 9.1. To log, use self.log(...) or self.write(...) directly in the LightningModule\n",
      "  warnings.warn(*args, **kwargs)\n"
     ]
    },
    {
     "name": "stdout",
     "output_type": "stream",
     "text": [
      "#### model name: SF2P ####\n",
      "metrics: {'recall': 0.0, 'precision': nan, 'f1': nan, 'accuracy': 0.616, 'MAE': 35.379, 'RETE': 0.227}\n",
      "--------------------------------------------------------------------------------\n",
      "DATALOADER:0 TEST RESULTS\n",
      "{'metrics': {'MAE': 35.379,\n",
      "             'RETE': 0.227,\n",
      "             'accuracy': 0.616,\n",
      "             'f1': nan,\n",
      "             'precision': nan,\n",
      "             'recall': 0.0},\n",
      " 'model': 'SF2P',\n",
      " 'preds': array([0.00396749, 0.00396896, 0.00396862, ..., 0.00401673, 0.00401672,\n",
      "       0.00401668]),\n",
      " 'test_test_avg_loss': 3.543033744790591e-05}\n",
      "--------------------------------------------------------------------------------\n",
      "/mnt/B40864F10864B450/WorkSpace/PHD/PHD_exps/NewPaper/torch_nilm/output/results/fridge/SF2P/Cat3/multi_train_UKDALE_test_UKDALE/\n"
     ]
    },
    {
     "name": "stderr",
     "output_type": "stream",
     "text": [
      "GPU available: True, used: True\n",
      "TPU available: None, using: 0 TPU cores\n",
      "LOCAL_RANK: 0 - CUDA_VISIBLE_DEVICES: [0]\n"
     ]
    },
    {
     "name": "stdout",
     "output_type": "stream",
     "text": [
      "########################################\n",
      "MODEL:  S2P\n",
      "########################################\n",
      "####################\n",
      "Iteration:  1\n",
      "####################\n"
     ]
    },
    {
     "name": "stderr",
     "output_type": "stream",
     "text": [
      "\n",
      "  | Name  | Type | Params\n",
      "-------------------------------\n",
      "0 | model | S2P  | 2.6 M \n",
      "-------------------------------\n",
      "2.6 M     Trainable params\n",
      "0         Non-trainable params\n",
      "2.6 M     Total params\n",
      "10.437    Total estimated model params size (MB)\n"
     ]
    },
    {
     "data": {
      "application/vnd.jupyter.widget-view+json": {
       "model_id": "61924c4b766f4b6f969f1f29fe2dddb3",
       "version_major": 2,
       "version_minor": 0
      },
      "text/plain": [
       "Training: 0it [00:00, ?it/s]"
      ]
     },
     "metadata": {},
     "output_type": "display_data"
    },
    {
     "name": "stderr",
     "output_type": "stream",
     "text": [
      "LOCAL_RANK: 0 - CUDA_VISIBLE_DEVICES: [0]\n"
     ]
    },
    {
     "data": {
      "application/vnd.jupyter.widget-view+json": {
       "model_id": "a9089fd040e34220b73bf6e3a85e7d90",
       "version_major": 2,
       "version_minor": 0
      },
      "text/plain": [
       "Testing: 0it [00:00, ?it/s]"
      ]
     },
     "metadata": {},
     "output_type": "display_data"
    },
    {
     "name": "stdout",
     "output_type": "stream",
     "text": [
      "#### model name: S2P ####\n",
      "metrics: {'recall': 0.0, 'precision': nan, 'f1': nan, 'accuracy': 0.616, 'MAE': 36.328, 'RETE': 0.122}\n",
      "--------------------------------------------------------------------------------\n",
      "DATALOADER:0 TEST RESULTS\n",
      "{'metrics': {'MAE': 36.328,\n",
      "             'RETE': 0.122,\n",
      "             'accuracy': 0.616,\n",
      "             'f1': nan,\n",
      "             'precision': nan,\n",
      "             'recall': 0.0},\n",
      " 'model': 'S2P',\n",
      " 'preds': array([0.00458716, 0.00458716, 0.00458716, ..., 0.00458716, 0.00458716,\n",
      "       0.00458716]),\n",
      " 'test_test_avg_loss': 3.4409462386975065e-05}\n",
      "--------------------------------------------------------------------------------\n",
      "/mnt/B40864F10864B450/WorkSpace/PHD/PHD_exps/NewPaper/torch_nilm/output/results/fridge/S2P/Cat3/multi_train_UKDALE_test_UKDALE/\n"
     ]
    },
    {
     "name": "stderr",
     "output_type": "stream",
     "text": [
      "GPU available: True, used: True\n",
      "TPU available: None, using: 0 TPU cores\n",
      "LOCAL_RANK: 0 - CUDA_VISIBLE_DEVICES: [0]\n"
     ]
    },
    {
     "name": "stdout",
     "output_type": "stream",
     "text": [
      "########################################\n",
      "MODEL:  SimpleGru\n",
      "########################################\n",
      "####################\n",
      "Iteration:  1\n",
      "####################\n"
     ]
    },
    {
     "name": "stderr",
     "output_type": "stream",
     "text": [
      "\n",
      "  | Name  | Type      | Params\n",
      "------------------------------------\n",
      "0 | model | SimpleGru | 39.9 K\n",
      "------------------------------------\n",
      "39.9 K    Trainable params\n",
      "0         Non-trainable params\n",
      "39.9 K    Total params\n",
      "0.160     Total estimated model params size (MB)\n"
     ]
    },
    {
     "data": {
      "application/vnd.jupyter.widget-view+json": {
       "model_id": "d55ce3cbf5cf4e4ba4a4c4f7c9e0d7bd",
       "version_major": 2,
       "version_minor": 0
      },
      "text/plain": [
       "Training: 0it [00:00, ?it/s]"
      ]
     },
     "metadata": {},
     "output_type": "display_data"
    },
    {
     "name": "stderr",
     "output_type": "stream",
     "text": [
      "LOCAL_RANK: 0 - CUDA_VISIBLE_DEVICES: [0]\n"
     ]
    },
    {
     "data": {
      "application/vnd.jupyter.widget-view+json": {
       "model_id": "5d71ba3bf61541688e760f2505e76354",
       "version_major": 2,
       "version_minor": 0
      },
      "text/plain": [
       "Testing: 0it [00:00, ?it/s]"
      ]
     },
     "metadata": {},
     "output_type": "display_data"
    },
    {
     "name": "stdout",
     "output_type": "stream",
     "text": [
      "#### model name: SimpleGru ####\n",
      "metrics: {'recall': 0.462, 'precision': 0.627, 'f1': 0.532, 'accuracy': 0.687, 'MAE': 28.488, 'RETE': 0.204}\n",
      "--------------------------------------------------------------------------------\n",
      "DATALOADER:0 TEST RESULTS\n",
      "{'metrics': {'MAE': 28.488,\n",
      "             'RETE': 0.204,\n",
      "             'accuracy': 0.687,\n",
      "             'f1': 0.532,\n",
      "             'precision': 0.627,\n",
      "             'recall': 0.462},\n",
      " 'model': 'SimpleGru',\n",
      " 'preds': array([0.00378301, 0.00378449, 0.00377961, ..., 0.00077162, 0.00077412,\n",
      "       0.00077781]),\n",
      " 'test_test_avg_loss': 4.26280967076309e-05}\n",
      "--------------------------------------------------------------------------------\n",
      "/mnt/B40864F10864B450/WorkSpace/PHD/PHD_exps/NewPaper/torch_nilm/output/results/fridge/SimpleGru/Cat3/multi_train_UKDALE_test_UKDALE/\n"
     ]
    },
    {
     "name": "stderr",
     "output_type": "stream",
     "text": [
      "GPU available: True, used: True\n",
      "TPU available: None, using: 0 TPU cores\n",
      "LOCAL_RANK: 0 - CUDA_VISIBLE_DEVICES: [0]\n"
     ]
    },
    {
     "name": "stdout",
     "output_type": "stream",
     "text": [
      "########################################\n",
      "MODEL:  FFED\n",
      "########################################\n",
      "####################\n",
      "Iteration:  1\n",
      "####################\n"
     ]
    },
    {
     "name": "stderr",
     "output_type": "stream",
     "text": [
      "\n",
      "  | Name  | Type | Params\n",
      "-------------------------------\n",
      "0 | model | FFED | 39.9 K\n",
      "-------------------------------\n",
      "39.9 K    Trainable params\n",
      "0         Non-trainable params\n",
      "39.9 K    Total params\n",
      "0.160     Total estimated model params size (MB)\n"
     ]
    },
    {
     "data": {
      "application/vnd.jupyter.widget-view+json": {
       "model_id": "2ebfd082b319456893ebc1209eb2f893",
       "version_major": 2,
       "version_minor": 0
      },
      "text/plain": [
       "Training: 0it [00:00, ?it/s]"
      ]
     },
     "metadata": {},
     "output_type": "display_data"
    },
    {
     "name": "stderr",
     "output_type": "stream",
     "text": [
      "LOCAL_RANK: 0 - CUDA_VISIBLE_DEVICES: [0]\n"
     ]
    },
    {
     "data": {
      "application/vnd.jupyter.widget-view+json": {
       "model_id": "1cd97b3042574daaab8ffe59efca7b8a",
       "version_major": 2,
       "version_minor": 0
      },
      "text/plain": [
       "Testing: 0it [00:00, ?it/s]"
      ]
     },
     "metadata": {},
     "output_type": "display_data"
    },
    {
     "name": "stdout",
     "output_type": "stream",
     "text": [
      "#### model name: FFED ####\n",
      "metrics: {'recall': 0.427, 'precision': 0.719, 'f1': 0.536, 'accuracy': 0.716, 'MAE': 25.424, 'RETE': 0.236}\n",
      "--------------------------------------------------------------------------------\n",
      "DATALOADER:0 TEST RESULTS\n",
      "{'metrics': {'MAE': 25.424,\n",
      "             'RETE': 0.236,\n",
      "             'accuracy': 0.716,\n",
      "             'f1': 0.536,\n",
      "             'precision': 0.719,\n",
      "             'recall': 0.427},\n",
      " 'model': 'FFED',\n",
      " 'preds': array([0.00217107, 0.00206221, 0.00200033, ..., 0.00129616, 0.00129593,\n",
      "       0.00129665]),\n",
      " 'test_test_avg_loss': 4.819638706976548e-05}\n",
      "--------------------------------------------------------------------------------\n",
      "/mnt/B40864F10864B450/WorkSpace/PHD/PHD_exps/NewPaper/torch_nilm/output/results/fridge/FFED/Cat3/multi_train_UKDALE_test_UKDALE/\n"
     ]
    },
    {
     "name": "stderr",
     "output_type": "stream",
     "text": [
      "GPU available: True, used: True\n",
      "TPU available: None, using: 0 TPU cores\n",
      "LOCAL_RANK: 0 - CUDA_VISIBLE_DEVICES: [0]\n"
     ]
    },
    {
     "name": "stdout",
     "output_type": "stream",
     "text": [
      "########################################\n",
      "MODEL:  SAED\n",
      "########################################\n",
      "####################\n",
      "Iteration:  1\n",
      "####################\n"
     ]
    },
    {
     "name": "stderr",
     "output_type": "stream",
     "text": [
      "\n",
      "  | Name  | Type | Params\n",
      "-------------------------------\n",
      "0 | model | SAED | 44.9 K\n",
      "-------------------------------\n",
      "44.9 K    Trainable params\n",
      "0         Non-trainable params\n",
      "44.9 K    Total params\n",
      "0.180     Total estimated model params size (MB)\n"
     ]
    },
    {
     "data": {
      "application/vnd.jupyter.widget-view+json": {
       "model_id": "148d23e158184968980bc1c35fb60134",
       "version_major": 2,
       "version_minor": 0
      },
      "text/plain": [
       "Training: 0it [00:00, ?it/s]"
      ]
     },
     "metadata": {},
     "output_type": "display_data"
    },
    {
     "name": "stderr",
     "output_type": "stream",
     "text": [
      "LOCAL_RANK: 0 - CUDA_VISIBLE_DEVICES: [0]\n"
     ]
    },
    {
     "data": {
      "application/vnd.jupyter.widget-view+json": {
       "model_id": "ae69887074d543199481658035b8a881",
       "version_major": 2,
       "version_minor": 0
      },
      "text/plain": [
       "Testing: 0it [00:00, ?it/s]"
      ]
     },
     "metadata": {},
     "output_type": "display_data"
    },
    {
     "name": "stdout",
     "output_type": "stream",
     "text": [
      "#### model name: SAED ####\n",
      "metrics: {'recall': 0.484, 'precision': 0.734, 'f1': 0.583, 'accuracy': 0.734, 'MAE': 26.871, 'RETE': 0.286}\n",
      "--------------------------------------------------------------------------------\n",
      "DATALOADER:0 TEST RESULTS\n",
      "{'metrics': {'MAE': 26.871,\n",
      "             'RETE': 0.286,\n",
      "             'accuracy': 0.734,\n",
      "             'f1': 0.583,\n",
      "             'precision': 0.734,\n",
      "             'recall': 0.484},\n",
      " 'model': 'SAED',\n",
      " 'preds': array([0.00226653, 0.00219294, 0.00214715, ..., 0.00061907, 0.00061958,\n",
      "       0.00061943]),\n",
      " 'test_test_avg_loss': 4.765686753671616e-05}\n",
      "--------------------------------------------------------------------------------\n",
      "/mnt/B40864F10864B450/WorkSpace/PHD/PHD_exps/NewPaper/torch_nilm/output/results/fridge/SAED/Cat3/multi_train_UKDALE_test_UKDALE/\n"
     ]
    },
    {
     "name": "stderr",
     "output_type": "stream",
     "text": [
      "GPU available: True, used: True\n",
      "TPU available: None, using: 0 TPU cores\n",
      "LOCAL_RANK: 0 - CUDA_VISIBLE_DEVICES: [0]\n"
     ]
    },
    {
     "name": "stdout",
     "output_type": "stream",
     "text": [
      "########################################\n",
      "MODEL:  FNET\n",
      "########################################\n",
      "####################\n",
      "Iteration:  1\n",
      "####################\n",
      "1600\n"
     ]
    },
    {
     "name": "stderr",
     "output_type": "stream",
     "text": [
      "\n",
      "  | Name  | Type | Params\n",
      "-------------------------------\n",
      "0 | model | FNET | 186 K \n",
      "-------------------------------\n",
      "186 K     Trainable params\n",
      "0         Non-trainable params\n",
      "186 K     Total params\n",
      "0.745     Total estimated model params size (MB)\n"
     ]
    },
    {
     "data": {
      "application/vnd.jupyter.widget-view+json": {
       "model_id": "601ab2ec10694a588dd671601de3d07d",
       "version_major": 2,
       "version_minor": 0
      },
      "text/plain": [
       "Training: 0it [00:00, ?it/s]"
      ]
     },
     "metadata": {},
     "output_type": "display_data"
    },
    {
     "name": "stderr",
     "output_type": "stream",
     "text": [
      "LOCAL_RANK: 0 - CUDA_VISIBLE_DEVICES: [0]\n"
     ]
    },
    {
     "data": {
      "application/vnd.jupyter.widget-view+json": {
       "model_id": "ef0f1c2fcf1245798ddbe4819a2f7638",
       "version_major": 2,
       "version_minor": 0
      },
      "text/plain": [
       "Testing: 0it [00:00, ?it/s]"
      ]
     },
     "metadata": {},
     "output_type": "display_data"
    },
    {
     "name": "stdout",
     "output_type": "stream",
     "text": [
      "#### model name: FNET ####\n",
      "metrics: {'recall': 0.0, 'precision': nan, 'f1': nan, 'accuracy': 0.616, 'MAE': 36.329, 'RETE': 0.122}\n",
      "--------------------------------------------------------------------------------\n",
      "DATALOADER:0 TEST RESULTS\n",
      "{'metrics': {'MAE': 36.329,\n",
      "             'RETE': 0.122,\n",
      "             'accuracy': 0.616,\n",
      "             'f1': nan,\n",
      "             'precision': nan,\n",
      "             'recall': 0.0},\n",
      " 'model': 'FNET',\n",
      " 'preds': array([0.00458794, 0.00458794, 0.00458794, ..., 0.00458794, 0.00458794,\n",
      "       0.00458794]),\n",
      " 'test_test_avg_loss': 3.4408472856739536e-05}\n",
      "--------------------------------------------------------------------------------\n",
      "/mnt/B40864F10864B450/WorkSpace/PHD/PHD_exps/NewPaper/torch_nilm/output/results/fridge/FNET/Cat3/multi_train_UKDALE_test_UKDALE/\n"
     ]
    },
    {
     "name": "stderr",
     "output_type": "stream",
     "text": [
      "GPU available: True, used: True\n",
      "TPU available: None, using: 0 TPU cores\n",
      "/home/nick/anaconda3/envs/pytorch_nilm/lib/python3.8/site-packages/torch/nn/modules/rnn.py:60: UserWarning: dropout option adds dropout after all but last recurrent layer, so non-zero dropout expects num_layers greater than 1, but got dropout=0.25 and num_layers=1\n",
      "  warnings.warn(\"dropout option adds dropout after all but last \"\n",
      "LOCAL_RANK: 0 - CUDA_VISIBLE_DEVICES: [0]\n"
     ]
    },
    {
     "name": "stdout",
     "output_type": "stream",
     "text": [
      "########################################\n",
      "MODEL:  WGRU\n",
      "########################################\n",
      "####################\n",
      "Iteration:  1\n",
      "####################\n"
     ]
    },
    {
     "name": "stderr",
     "output_type": "stream",
     "text": [
      "\n",
      "  | Name  | Type | Params\n",
      "-------------------------------\n",
      "0 | model | WGRU | 698 K \n",
      "-------------------------------\n",
      "698 K     Trainable params\n",
      "0         Non-trainable params\n",
      "698 K     Total params\n",
      "2.794     Total estimated model params size (MB)\n"
     ]
    },
    {
     "data": {
      "application/vnd.jupyter.widget-view+json": {
       "model_id": "8918be3d8e6a46ea8a089d96da0a4724",
       "version_major": 2,
       "version_minor": 0
      },
      "text/plain": [
       "Training: 0it [00:00, ?it/s]"
      ]
     },
     "metadata": {},
     "output_type": "display_data"
    },
    {
     "name": "stderr",
     "output_type": "stream",
     "text": [
      "LOCAL_RANK: 0 - CUDA_VISIBLE_DEVICES: [0]\n"
     ]
    },
    {
     "data": {
      "application/vnd.jupyter.widget-view+json": {
       "model_id": "ca5b1c169dc44744afb8926e0711f9b4",
       "version_major": 2,
       "version_minor": 0
      },
      "text/plain": [
       "Testing: 0it [00:00, ?it/s]"
      ]
     },
     "metadata": {},
     "output_type": "display_data"
    },
    {
     "name": "stdout",
     "output_type": "stream",
     "text": [
      "#### model name: WGRU ####\n",
      "metrics: {'recall': 0.495, 'precision': 0.556, 'f1': 0.524, 'accuracy': 0.654, 'MAE': 30.157, 'RETE': 0.191}\n",
      "--------------------------------------------------------------------------------\n",
      "DATALOADER:0 TEST RESULTS\n",
      "{'metrics': {'MAE': 30.157,\n",
      "             'RETE': 0.191,\n",
      "             'accuracy': 0.654,\n",
      "             'f1': 0.524,\n",
      "             'precision': 0.556,\n",
      "             'recall': 0.495},\n",
      " 'model': 'WGRU',\n",
      " 'preds': array([0.00211977, 0.00211973, 0.00211964, ..., 0.00205872, 0.00205872,\n",
      "       0.00205876]),\n",
      " 'test_test_avg_loss': 4.1588144085835665e-05}\n",
      "--------------------------------------------------------------------------------\n",
      "/mnt/B40864F10864B450/WorkSpace/PHD/PHD_exps/NewPaper/torch_nilm/output/results/fridge/WGRU/Cat3/multi_train_UKDALE_test_UKDALE/\n"
     ]
    }
   ],
   "source": [
    "eval_params={'device':device,\n",
    "             'mmax':mmax,\n",
    "             'groundtruth':ground}\n",
    "for model_name in mod_list:\n",
    "    print('#'*40)\n",
    "    print('MODEL: ', model_name)\n",
    "    print('#'*40)\n",
    "    for iteration in range(1,ITERATIONS+1):\n",
    "        print('#'*20)\n",
    "        print('Iteration: ', iteration)\n",
    "        print('#'*20)\n",
    "        m_hparams, results, preds = train_model(model_name=model_name,\n",
    "                                                model_hparams=model_hparams[model_name],\n",
    "                                                train_loader=train_loader, \n",
    "                                                test_loader=test_loader,\n",
    "                                                epochs=EPOCHS,\n",
    "                                                eval_params=eval_params)\n",
    "        save_report(ROOT, model_name, device, category,experiment_name,\n",
    "                    iteration, results, preds, ground)"
   ]
  },
  {
   "cell_type": "code",
   "execution_count": 48,
   "id": "inner-paraguay",
   "metadata": {},
   "outputs": [
    {
     "data": {
      "text/html": [
       "<div>\n",
       "<style scoped>\n",
       "    .dataframe tbody tr th:only-of-type {\n",
       "        vertical-align: middle;\n",
       "    }\n",
       "\n",
       "    .dataframe tbody tr th {\n",
       "        vertical-align: top;\n",
       "    }\n",
       "\n",
       "    .dataframe thead th {\n",
       "        text-align: right;\n",
       "    }\n",
       "</style>\n",
       "<table border=\"1\" class=\"dataframe\">\n",
       "  <thead>\n",
       "    <tr style=\"text-align: right;\">\n",
       "      <th></th>\n",
       "      <th>recall</th>\n",
       "      <th>f1</th>\n",
       "      <th>precision</th>\n",
       "      <th>accuracy</th>\n",
       "      <th>MAE</th>\n",
       "      <th>RETE</th>\n",
       "    </tr>\n",
       "  </thead>\n",
       "  <tbody>\n",
       "    <tr>\n",
       "      <th>0</th>\n",
       "      <td>0.495</td>\n",
       "      <td>0.524</td>\n",
       "      <td>0.556</td>\n",
       "      <td>0.654</td>\n",
       "      <td>30.157</td>\n",
       "      <td>0.191</td>\n",
       "    </tr>\n",
       "  </tbody>\n",
       "</table>\n",
       "</div>"
      ],
      "text/plain": [
       "   recall     f1  precision  accuracy     MAE   RETE\n",
       "0   0.495  0.524      0.556     0.654  30.157  0.191"
      ]
     },
     "metadata": {},
     "output_type": "display_data"
    },
    {
     "data": {
      "image/png": "[encoded data removed]",
      "text/plain": [
       "<Figure size 432x288 with 1 Axes>"
      ]
     },
     "metadata": {
      "needs_background": "light"
     },
     "output_type": "display_data"
    }
   ],
   "source": [
    "display_res(ROOT, model_name, device, category,experiment_name,\n",
    "            1,low_lim=44000, upper_lim=47000)"
   ]
  },
  {
   "cell_type": "code",
   "execution_count": 49,
   "id": "paperback-plaza",
   "metadata": {},
   "outputs": [
    {
     "data": {
      "text/html": [
       "<div>\n",
       "<style scoped>\n",
       "    .dataframe tbody tr th:only-of-type {\n",
       "        vertical-align: middle;\n",
       "    }\n",
       "\n",
       "    .dataframe tbody tr th {\n",
       "        vertical-align: top;\n",
       "    }\n",
       "\n",
       "    .dataframe thead th {\n",
       "        text-align: right;\n",
       "    }\n",
       "</style>\n",
       "<table border=\"1\" class=\"dataframe\">\n",
       "  <thead>\n",
       "    <tr style=\"text-align: right;\">\n",
       "      <th></th>\n",
       "      <th>recall</th>\n",
       "      <th>f1</th>\n",
       "      <th>precision</th>\n",
       "      <th>accuracy</th>\n",
       "      <th>MAE</th>\n",
       "      <th>RETE</th>\n",
       "    </tr>\n",
       "  </thead>\n",
       "  <tbody>\n",
       "    <tr>\n",
       "      <th>0</th>\n",
       "      <td>0.0</td>\n",
       "      <td>NaN</td>\n",
       "      <td>NaN</td>\n",
       "      <td>0.616</td>\n",
       "      <td>36.329</td>\n",
       "      <td>0.122</td>\n",
       "    </tr>\n",
       "  </tbody>\n",
       "</table>\n",
       "</div>"
      ],
      "text/plain": [
       "   recall  f1  precision  accuracy     MAE   RETE\n",
       "0     0.0 NaN        NaN     0.616  36.329  0.122"
      ]
     },
     "metadata": {},
     "output_type": "display_data"
    },
    {
     "data": {
      "image/png": "[encoded data removed]",
      "text/plain": [
       "<Figure size 432x288 with 1 Axes>"
      ]
     },
     "metadata": {
      "needs_background": "light"
     },
     "output_type": "display_data"
    }
   ],
   "source": [
    "display_res(ROOT, 'FNET', device, category,experiment_name,\n",
    "            1,low_lim=5000, upper_lim=10000)"
   ]
  },
  {
   "cell_type": "code",
   "execution_count": null,
   "id": "quality-death",
   "metadata": {
    "scrolled": false
   },
   "outputs": [],
   "source": [
    "# eval_params={'device':device,\n",
    "#              'mmax':mmax,\n",
    "#              'groundtruth':ground}\n",
    "# for model_name in mod_list:\n",
    "#     print('#'*40)\n",
    "#     print('MODEL: ', model_name)\n",
    "#     print('#'*40)\n",
    "#     for iteration in range(1,ITERATIONS+1):\n",
    "#         print('#'*20)\n",
    "#         print('Iteration: ', iteration)\n",
    "#         print('#'*20)\n",
    "#         m_hparams, results, preds = train_model(model_name=model_name,\n",
    "#                                                 model_hparams=model_hparams[model_name],\n",
    "#                                                 train_loader=train_loader, \n",
    "#                                                 test_loader=test_loader,\n",
    "#                                                 epochs=EPOCHS,\n",
    "#                                                 eval_params=eval_params)\n",
    "#         save_report(ROOT, model_name, device, category,experiment_name,\n",
    "#                     iteration, results, preds, ground)\n",
    "#         display_res(ROOT, model_name, device, category,experiment_name,\n",
    "#             1,low_lim=44000, upper_lim=47000)"
   ]
  }
 ],
 "metadata": {
  "kernelspec": {
   "display_name": "Python 3",
   "language": "python",
   "name": "python3"
  },
  "language_info": {
   "codemirror_mode": {
    "name": "ipython",
    "version": 3
   },
   "file_extension": ".py",
   "mimetype": "text/x-python",
   "name": "python",
   "nbconvert_exporter": "python",
   "pygments_lexer": "ipython3",
   "version": "3.8.8"
  }
 },
 "nbformat": 4,
 "nbformat_minor": 5
}
