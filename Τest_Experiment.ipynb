{
 "cells": [
  {
   "cell_type": "code",
   "execution_count": 1,
   "id": "creative-detail",
   "metadata": {},
   "outputs": [
    {
     "name": "stderr",
     "output_type": "stream",
     "text": [
      "Global seed set to 42\n"
     ]
    },
    {
     "name": "stdout",
     "output_type": "stream",
     "text": [
      "Device: cuda:0\n"
     ]
    }
   ],
   "source": [
    "import torch\n",
    "from modules.MyTrainer import NILMTrainer\n",
    "from modules.helpers import create_tree_dir, save_report, train_model\n",
    "\n",
    "from torch.utils.data import Dataset, DataLoader\n",
    "\n",
    "from modules.MyDataSet import MyChunk, MyChunkList\n",
    "\n",
    "with torch.no_grad():\n",
    "    torch.cuda.empty_cache() "
   ]
  },
  {
   "cell_type": "markdown",
   "id": "detailed-consultation",
   "metadata": {},
   "source": [
    "# Project Settings"
   ]
  },
  {
   "cell_type": "code",
   "execution_count": 2,
   "id": "fallen-preference",
   "metadata": {},
   "outputs": [
    {
     "name": "stdout",
     "output_type": "stream",
     "text": [
      "root\n",
      "all clean\n",
      "/mnt/B40864F10864B450/WorkSpace/PHD/PHD_exps/NewPaper/torch_nilm/TEST_TREE\n",
      "1\n"
     ]
    }
   ],
   "source": [
    "clean = True\n",
    "ROOT = 'output'\n",
    "dev_list = ['fridge', 'kettle', ]\n",
    "mod_list = ['SimpleGru','SAED', 'WGRU', 'S2P', ]\n",
    "tree_levels = {'root': 'TEST_TREE', 'l1': ['results'], 'l2': dev_list, 'l3': mod_list}\n",
    "create_tree_dir(tree_levels=tree_levels, clean=clean)"
   ]
  },
  {
   "cell_type": "markdown",
   "id": "metallic-rocket",
   "metadata": {},
   "source": [
    "# Experiment settings"
   ]
  },
  {
   "cell_type": "code",
   "execution_count": 3,
   "id": "earlier-premium",
   "metadata": {},
   "outputs": [],
   "source": [
    "SAMPLE_PERIOD = 6\n",
    "WINDOW = 50\n",
    "device = 'fridge'\n",
    "BATCH = 1024\n",
    "experiment_name = 'Cat1'\n",
    "EPOCHS = 1\n",
    "ITERATIONS = 3\n",
    "\n",
    "model_hparams={\n",
    "              'SimpleGru':{'hidden_dim':16, 'dropout':0},\n",
    "              'SAED':{},\n",
    "               'WGRU':{'dropout':0},\n",
    "               'S2P': {'window_size':WINDOW, 'dropout':0},\n",
    "               }"
   ]
  },
  {
   "cell_type": "markdown",
   "id": "musical-inspector",
   "metadata": {},
   "source": [
    "# TrainLoader"
   ]
  },
  {
   "cell_type": "code",
   "execution_count": 4,
   "id": "material-convention",
   "metadata": {},
   "outputs": [
    {
     "name": "stdout",
     "output_type": "stream",
     "text": [
      "Implementation of torch dataset using NILMTK\n"
     ]
    },
    {
     "name": "stderr",
     "output_type": "stream",
     "text": [
      "<ipython-input-4-1ff83272af70>:5: FutureWarning: Converting timezone-aware DatetimeArray to timezone-naive ndarray with 'datetime64[ns]' dtype. In the future, this will return an ndarray with 'object' dtype where each element is a 'pandas.Timestamp' with the correct 'tz'.\n",
      "\tTo accept the future behavior, pass 'dtype=object'.\n",
      "\tTo keep the old behavior, pass 'dtype=\"datetime64[ns]\"'.\n",
      "  train_dataset = MyChunk(path=path, building=building, window_size=WINDOW,\n"
     ]
    }
   ],
   "source": [
    "d_name = 'UKDALE'\n",
    "path = '/mnt/B40864F10864B450/WorkSpace/PHD/PHD_exps/data/{}/{}.h5'.format(d_name,d_name)\n",
    "dates = [\"2013-07-15\",\"2013-07-16\"]\n",
    "building = 1\n",
    "train_dataset = MyChunk(path=path, building=building, window_size=WINDOW,\n",
    "                  device=device, dates=dates, sample_period=SAMPLE_PERIOD)\n",
    "train_loader = DataLoader(train_dataset, batch_size=BATCH, \n",
    "                          shuffle=False, num_workers=8)\n",
    "mmax = train_dataset.mmax"
   ]
  },
  {
   "cell_type": "markdown",
   "id": "pointed-providence",
   "metadata": {},
   "source": [
    "# TestLoader"
   ]
  },
  {
   "cell_type": "code",
   "execution_count": 5,
   "id": "protecting-copying",
   "metadata": {},
   "outputs": [
    {
     "name": "stdout",
     "output_type": "stream",
     "text": [
      "Implementation of torch dataset using NILMTK\n"
     ]
    },
    {
     "name": "stderr",
     "output_type": "stream",
     "text": [
      "<ipython-input-5-eb27622b9bff>:5: FutureWarning: Converting timezone-aware DatetimeArray to timezone-naive ndarray with 'datetime64[ns]' dtype. In the future, this will return an ndarray with 'object' dtype where each element is a 'pandas.Timestamp' with the correct 'tz'.\n",
      "\tTo accept the future behavior, pass 'dtype=object'.\n",
      "\tTo keep the old behavior, pass 'dtype=\"datetime64[ns]\"'.\n",
      "  test_dataset = MyChunk(path=path, building=building, window_size=WINDOW,\n"
     ]
    }
   ],
   "source": [
    "d_name = 'UKDALE'\n",
    "path = '/mnt/B40864F10864B450/WorkSpace/PHD/PHD_exps/data/{}/{}.h5'.format(d_name,d_name)\n",
    "dates = [\"2013-08-01\", \"2013-08-02\"]\n",
    "building = 1\n",
    "test_dataset = MyChunk(path=path, building=building, window_size=WINDOW,\n",
    "                  device=device, dates=dates, test=True, mmax=train_dataset.mmax, sample_period=SAMPLE_PERIOD)\n",
    "test_loader = DataLoader(test_dataset, batch_size=BATCH, \n",
    "                          shuffle=False, num_workers=8)\n",
    "ground = test_dataset.meterchunk"
   ]
  },
  {
   "cell_type": "markdown",
   "id": "included-paper",
   "metadata": {},
   "source": [
    "# Run Experiment"
   ]
  },
  {
   "cell_type": "code",
   "execution_count": 6,
   "id": "quality-death",
   "metadata": {
    "scrolled": true
   },
   "outputs": [
    {
     "name": "stderr",
     "output_type": "stream",
     "text": [
      "GPU available: True, used: True\n",
      "TPU available: None, using: 0 TPU cores\n",
      "LOCAL_RANK: 0 - CUDA_VISIBLE_DEVICES: [0]\n"
     ]
    },
    {
     "name": "stdout",
     "output_type": "stream",
     "text": [
      "########################################\n",
      "MODEL:  SimpleGru\n",
      "########################################\n",
      "####################\n",
      "Iteration:  1\n",
      "####################\n"
     ]
    },
    {
     "name": "stderr",
     "output_type": "stream",
     "text": [
      "\n",
      "  | Name  | Type      | Params\n",
      "------------------------------------\n",
      "0 | model | SimpleGru | 39.9 K\n",
      "------------------------------------\n",
      "39.9 K    Trainable params\n",
      "0         Non-trainable params\n",
      "39.9 K    Total params\n",
      "0.160     Total estimated model params size (MB)\n"
     ]
    },
    {
     "data": {
      "application/vnd.jupyter.widget-view+json": {
       "model_id": "73c23ac051e34e328d555252d181a405",
       "version_major": 2,
       "version_minor": 0
      },
      "text/plain": [
       "Training: 0it [00:00, ?it/s]"
      ]
     },
     "metadata": {},
     "output_type": "display_data"
    },
    {
     "name": "stderr",
     "output_type": "stream",
     "text": [
      "/home/nick/anaconda3/envs/pytorch_nilm/lib/python3.8/site-packages/pytorch_lightning/utilities/distributed.py:52: UserWarning: The {log:dict keyword} was deprecated in 0.9.1 and will be removed in 1.0.0\n",
      "Please use self.log(...) inside the lightningModule instead.\n",
      "# log on a step or aggregate epoch metric to the logger and/or progress bar (inside LightningModule)\n",
      "self.log('train_loss', loss, on_step=True, on_epoch=True, prog_bar=True)\n",
      "  warnings.warn(*args, **kwargs)\n",
      "LOCAL_RANK: 0 - CUDA_VISIBLE_DEVICES: [0]\n"
     ]
    },
    {
     "data": {
      "application/vnd.jupyter.widget-view+json": {
       "model_id": "745c50a45ab64b17bec667c05cd2561b",
       "version_major": 2,
       "version_minor": 0
      },
      "text/plain": [
       "Testing: 0it [00:00, ?it/s]"
      ]
     },
     "metadata": {},
     "output_type": "display_data"
    },
    {
     "name": "stderr",
     "output_type": "stream",
     "text": [
      "/mnt/B40864F10864B450/WorkSpace/PHD/PHD_exps/NewPaper/torch_nilm/modules/MyTrainer.py:84: UserWarning: Using a target size (torch.Size([1024])) that is different to the input size (torch.Size([1024, 1])). This will likely lead to incorrect results due to broadcasting. Please ensure they have the same size.\n",
      "  loss = F.mse_loss(outputs, y)\n",
      "/mnt/B40864F10864B450/WorkSpace/PHD/PHD_exps/NewPaper/torch_nilm/modules/MyTrainer.py:84: UserWarning: Using a target size (torch.Size([15])) that is different to the input size (torch.Size([15, 1])). This will likely lead to incorrect results due to broadcasting. Please ensure they have the same size.\n",
      "  loss = F.mse_loss(outputs, y)\n",
      "/home/nick/anaconda3/envs/pytorch_nilm/lib/python3.8/site-packages/pytorch_lightning/utilities/distributed.py:52: UserWarning: The testing_epoch_end should not return anything as of 9.1. To log, use self.log(...) or self.write(...) directly in the LightningModule\n",
      "  warnings.warn(*args, **kwargs)\n",
      "GPU available: True, used: True\n",
      "TPU available: None, using: 0 TPU cores\n",
      "LOCAL_RANK: 0 - CUDA_VISIBLE_DEVICES: [0]\n"
     ]
    },
    {
     "name": "stdout",
     "output_type": "stream",
     "text": [
      "#### model name: SimpleGru ####\n",
      "metrics: {'recall': 1.0, 'precision': 0.513, 'f1': 0.678, 'accuracy': 0.513, 'MAE': 47.21, 'RETE': 0.446}\n",
      "--------------------------------------------------------------------------------\n",
      "DATALOADER:0 TEST RESULTS\n",
      "{'metrics': {'MAE': 47.21,\n",
      "             'RETE': 0.446,\n",
      "             'accuracy': 0.513,\n",
      "             'f1': 0.678,\n",
      "             'precision': 0.513,\n",
      "             'recall': 1.0},\n",
      " 'model': 'SimpleGru',\n",
      " 'preds': array([0.03301723, 0.03303568, 0.03300985, ..., 0.01971072, 0.01971086,\n",
      "       0.01970913]),\n",
      " 'test_test_avg_loss': 0.00019588226859923452}\n",
      "--------------------------------------------------------------------------------\n",
      "####################\n",
      "Iteration:  2\n",
      "####################\n"
     ]
    },
    {
     "name": "stderr",
     "output_type": "stream",
     "text": [
      "\n",
      "  | Name  | Type      | Params\n",
      "------------------------------------\n",
      "0 | model | SimpleGru | 39.9 K\n",
      "------------------------------------\n",
      "39.9 K    Trainable params\n",
      "0         Non-trainable params\n",
      "39.9 K    Total params\n",
      "0.160     Total estimated model params size (MB)\n"
     ]
    },
    {
     "data": {
      "application/vnd.jupyter.widget-view+json": {
       "model_id": "3c365957e0384289bdf6119b3eeb2dd1",
       "version_major": 2,
       "version_minor": 0
      },
      "text/plain": [
       "Training: 0it [00:00, ?it/s]"
      ]
     },
     "metadata": {},
     "output_type": "display_data"
    },
    {
     "name": "stderr",
     "output_type": "stream",
     "text": [
      "LOCAL_RANK: 0 - CUDA_VISIBLE_DEVICES: [0]\n"
     ]
    },
    {
     "data": {
      "application/vnd.jupyter.widget-view+json": {
       "model_id": "bd8a8cef64164060be202995e14c2215",
       "version_major": 2,
       "version_minor": 0
      },
      "text/plain": [
       "Testing: 0it [00:00, ?it/s]"
      ]
     },
     "metadata": {},
     "output_type": "display_data"
    },
    {
     "name": "stderr",
     "output_type": "stream",
     "text": [
      "GPU available: True, used: True\n",
      "TPU available: None, using: 0 TPU cores\n",
      "LOCAL_RANK: 0 - CUDA_VISIBLE_DEVICES: [0]\n"
     ]
    },
    {
     "name": "stdout",
     "output_type": "stream",
     "text": [
      "#### model name: SimpleGru ####\n",
      "metrics: {'recall': 1.0, 'precision': 0.513, 'f1': 0.678, 'accuracy': 0.513, 'MAE': 55.474, 'RETE': 0.522}\n",
      "--------------------------------------------------------------------------------\n",
      "DATALOADER:0 TEST RESULTS\n",
      "{'metrics': {'MAE': 55.474,\n",
      "             'RETE': 0.522,\n",
      "             'accuracy': 0.513,\n",
      "             'f1': 0.678,\n",
      "             'precision': 0.513,\n",
      "             'recall': 1.0},\n",
      " 'model': 'SimpleGru',\n",
      " 'preds': array([0.04031843, 0.04036375, 0.04037423, ..., 0.0227326 , 0.02273338,\n",
      "       0.022733  ]),\n",
      " 'test_test_avg_loss': 0.00026022770907729864}\n",
      "--------------------------------------------------------------------------------\n",
      "####################\n",
      "Iteration:  3\n",
      "####################\n"
     ]
    },
    {
     "name": "stderr",
     "output_type": "stream",
     "text": [
      "\n",
      "  | Name  | Type      | Params\n",
      "------------------------------------\n",
      "0 | model | SimpleGru | 39.9 K\n",
      "------------------------------------\n",
      "39.9 K    Trainable params\n",
      "0         Non-trainable params\n",
      "39.9 K    Total params\n",
      "0.160     Total estimated model params size (MB)\n"
     ]
    },
    {
     "data": {
      "application/vnd.jupyter.widget-view+json": {
       "model_id": "3de0f6f2848a4704869b5f160bb356f1",
       "version_major": 2,
       "version_minor": 0
      },
      "text/plain": [
       "Training: 0it [00:00, ?it/s]"
      ]
     },
     "metadata": {},
     "output_type": "display_data"
    },
    {
     "name": "stderr",
     "output_type": "stream",
     "text": [
      "LOCAL_RANK: 0 - CUDA_VISIBLE_DEVICES: [0]\n"
     ]
    },
    {
     "data": {
      "application/vnd.jupyter.widget-view+json": {
       "model_id": "26551a6f42744331891504820258c0ff",
       "version_major": 2,
       "version_minor": 0
      },
      "text/plain": [
       "Testing: 0it [00:00, ?it/s]"
      ]
     },
     "metadata": {},
     "output_type": "display_data"
    },
    {
     "name": "stderr",
     "output_type": "stream",
     "text": [
      "/mnt/B40864F10864B450/WorkSpace/PHD/PHD_exps/NewPaper/torch_nilm/modules/NILM_metrics.py:17: RuntimeWarning: invalid value encountered in true_divide\n",
      "  return tp/float(tp+fp)\n",
      "GPU available: True, used: True\n",
      "TPU available: None, using: 0 TPU cores\n",
      "LOCAL_RANK: 0 - CUDA_VISIBLE_DEVICES: [0]\n"
     ]
    },
    {
     "name": "stdout",
     "output_type": "stream",
     "text": [
      "#### model name: SimpleGru ####\n",
      "metrics: {'recall': 0.0, 'precision': nan, 'f1': nan, 'accuracy': 0.487, 'MAE': 47.702, 'RETE': 0.678}\n",
      "--------------------------------------------------------------------------------\n",
      "DATALOADER:0 TEST RESULTS\n",
      "{'metrics': {'MAE': 47.702,\n",
      "             'RETE': 0.678,\n",
      "             'accuracy': 0.487,\n",
      "             'f1': nan,\n",
      "             'precision': nan,\n",
      "             'recall': 0.0},\n",
      " 'model': 'SimpleGru',\n",
      " 'preds': array([0.00482281, 0.00479634, 0.00488723, ..., 0.00357166, 0.00356954,\n",
      "       0.00357231]),\n",
      " 'test_test_avg_loss': 0.00019183155382052064}\n",
      "--------------------------------------------------------------------------------\n",
      "########################################\n",
      "MODEL:  SAED\n",
      "########################################\n",
      "####################\n",
      "Iteration:  1\n",
      "####################\n"
     ]
    },
    {
     "name": "stderr",
     "output_type": "stream",
     "text": [
      "\n",
      "  | Name  | Type | Params\n",
      "-------------------------------\n",
      "0 | model | SAED | 41.0 K\n",
      "-------------------------------\n",
      "41.0 K    Trainable params\n",
      "0         Non-trainable params\n",
      "41.0 K    Total params\n",
      "0.164     Total estimated model params size (MB)\n"
     ]
    },
    {
     "data": {
      "application/vnd.jupyter.widget-view+json": {
       "model_id": "9f186d9a18344817a7226c696dfbcbb8",
       "version_major": 2,
       "version_minor": 0
      },
      "text/plain": [
       "Training: 0it [00:00, ?it/s]"
      ]
     },
     "metadata": {},
     "output_type": "display_data"
    },
    {
     "name": "stderr",
     "output_type": "stream",
     "text": [
      "LOCAL_RANK: 0 - CUDA_VISIBLE_DEVICES: [0]\n"
     ]
    },
    {
     "data": {
      "application/vnd.jupyter.widget-view+json": {
       "model_id": "9249d6e3154d41e7a8c854453060b676",
       "version_major": 2,
       "version_minor": 0
      },
      "text/plain": [
       "Testing: 0it [00:00, ?it/s]"
      ]
     },
     "metadata": {},
     "output_type": "display_data"
    },
    {
     "name": "stderr",
     "output_type": "stream",
     "text": [
      "GPU available: True, used: True\n",
      "TPU available: None, using: 0 TPU cores\n",
      "LOCAL_RANK: 0 - CUDA_VISIBLE_DEVICES: [0]\n"
     ]
    },
    {
     "name": "stdout",
     "output_type": "stream",
     "text": [
      "#### model name: SAED ####\n",
      "metrics: {'recall': 1.0, 'precision': 0.513, 'f1': 0.678, 'accuracy': 0.513, 'MAE': 48.444, 'RETE': 0.481}\n",
      "--------------------------------------------------------------------------------\n",
      "DATALOADER:0 TEST RESULTS\n",
      "{'metrics': {'MAE': 48.444,\n",
      "             'RETE': 0.481,\n",
      "             'accuracy': 0.513,\n",
      "             'f1': 0.678,\n",
      "             'precision': 0.513,\n",
      "             'recall': 1.0},\n",
      " 'model': 'SAED',\n",
      " 'preds': array([0.02225711, 0.02225763, 0.0222574 , ..., 0.02128886, 0.02128885,\n",
      "       0.02128881]),\n",
      " 'test_test_avg_loss': 0.00021781804389320314}\n",
      "--------------------------------------------------------------------------------\n",
      "####################\n",
      "Iteration:  2\n",
      "####################\n"
     ]
    },
    {
     "name": "stderr",
     "output_type": "stream",
     "text": [
      "\n",
      "  | Name  | Type | Params\n",
      "-------------------------------\n",
      "0 | model | SAED | 41.0 K\n",
      "-------------------------------\n",
      "41.0 K    Trainable params\n",
      "0         Non-trainable params\n",
      "41.0 K    Total params\n",
      "0.164     Total estimated model params size (MB)\n"
     ]
    },
    {
     "data": {
      "application/vnd.jupyter.widget-view+json": {
       "model_id": "c7a7df2c1ad24e59bd5d6dca5f7fb05f",
       "version_major": 2,
       "version_minor": 0
      },
      "text/plain": [
       "Training: 0it [00:00, ?it/s]"
      ]
     },
     "metadata": {},
     "output_type": "display_data"
    },
    {
     "name": "stderr",
     "output_type": "stream",
     "text": [
      "LOCAL_RANK: 0 - CUDA_VISIBLE_DEVICES: [0]\n"
     ]
    },
    {
     "data": {
      "application/vnd.jupyter.widget-view+json": {
       "model_id": "058152d6fccb4a12a6948fb96ffe7b33",
       "version_major": 2,
       "version_minor": 0
      },
      "text/plain": [
       "Testing: 0it [00:00, ?it/s]"
      ]
     },
     "metadata": {},
     "output_type": "display_data"
    },
    {
     "name": "stderr",
     "output_type": "stream",
     "text": [
      "GPU available: True, used: True\n",
      "TPU available: None, using: 0 TPU cores\n",
      "LOCAL_RANK: 0 - CUDA_VISIBLE_DEVICES: [0]\n"
     ]
    },
    {
     "name": "stdout",
     "output_type": "stream",
     "text": [
      "#### model name: SAED ####\n",
      "metrics: {'recall': 0.0, 'precision': nan, 'f1': nan, 'accuracy': 0.487, 'MAE': 47.969, 'RETE': 0.855}\n",
      "--------------------------------------------------------------------------------\n",
      "DATALOADER:0 TEST RESULTS\n",
      "{'metrics': {'MAE': 47.969,\n",
      "             'RETE': 0.855,\n",
      "             'accuracy': 0.487,\n",
      "             'f1': nan,\n",
      "             'precision': nan,\n",
      "             'recall': 0.0},\n",
      " 'model': 'SAED',\n",
      " 'preds': array([0.00300023, 0.00299938, 0.00299971, ..., 0.00152719, 0.00152719,\n",
      "       0.00152723]),\n",
      " 'test_test_avg_loss': 0.00022770973737351596}\n",
      "--------------------------------------------------------------------------------\n",
      "####################\n",
      "Iteration:  3\n",
      "####################\n"
     ]
    },
    {
     "name": "stderr",
     "output_type": "stream",
     "text": [
      "\n",
      "  | Name  | Type | Params\n",
      "-------------------------------\n",
      "0 | model | SAED | 41.0 K\n",
      "-------------------------------\n",
      "41.0 K    Trainable params\n",
      "0         Non-trainable params\n",
      "41.0 K    Total params\n",
      "0.164     Total estimated model params size (MB)\n"
     ]
    },
    {
     "data": {
      "application/vnd.jupyter.widget-view+json": {
       "model_id": "6b7f62e50db545a4bb4dc4289112fac1",
       "version_major": 2,
       "version_minor": 0
      },
      "text/plain": [
       "Training: 0it [00:00, ?it/s]"
      ]
     },
     "metadata": {},
     "output_type": "display_data"
    },
    {
     "name": "stderr",
     "output_type": "stream",
     "text": [
      "LOCAL_RANK: 0 - CUDA_VISIBLE_DEVICES: [0]\n"
     ]
    },
    {
     "data": {
      "application/vnd.jupyter.widget-view+json": {
       "model_id": "a09e5c3c9c694617a4d0b4ccf3f6e5be",
       "version_major": 2,
       "version_minor": 0
      },
      "text/plain": [
       "Testing: 0it [00:00, ?it/s]"
      ]
     },
     "metadata": {},
     "output_type": "display_data"
    },
    {
     "name": "stderr",
     "output_type": "stream",
     "text": [
      "GPU available: True, used: True\n",
      "TPU available: None, using: 0 TPU cores\n",
      "LOCAL_RANK: 0 - CUDA_VISIBLE_DEVICES: [0]\n"
     ]
    },
    {
     "name": "stdout",
     "output_type": "stream",
     "text": [
      "#### model name: SAED ####\n",
      "metrics: {'recall': 1.0, 'precision': 0.513, 'f1': 0.678, 'accuracy': 0.513, 'MAE': 46.807, 'RETE': 0.357}\n",
      "--------------------------------------------------------------------------------\n",
      "DATALOADER:0 TEST RESULTS\n",
      "{'metrics': {'MAE': 46.807,\n",
      "             'RETE': 0.357,\n",
      "             'accuracy': 0.513,\n",
      "             'f1': 0.678,\n",
      "             'precision': 0.513,\n",
      "             'recall': 1.0},\n",
      " 'model': 'SAED',\n",
      " 'preds': array([0.02985589, 0.02985847, 0.02985946, ..., 0.01636399, 0.016364  ,\n",
      "       0.01636404]),\n",
      " 'test_test_avg_loss': 0.00015814848302397877}\n",
      "--------------------------------------------------------------------------------\n",
      "########################################\n",
      "MODEL:  WGRU\n",
      "########################################\n",
      "####################\n",
      "Iteration:  1\n",
      "####################\n"
     ]
    },
    {
     "name": "stderr",
     "output_type": "stream",
     "text": [
      "\n",
      "  | Name  | Type | Params\n",
      "-------------------------------\n",
      "0 | model | WGRU | 698 K \n",
      "-------------------------------\n",
      "698 K     Trainable params\n",
      "0         Non-trainable params\n",
      "698 K     Total params\n",
      "2.794     Total estimated model params size (MB)\n"
     ]
    },
    {
     "data": {
      "application/vnd.jupyter.widget-view+json": {
       "model_id": "8f5a0cf5170544f285b074218da8e651",
       "version_major": 2,
       "version_minor": 0
      },
      "text/plain": [
       "Training: 0it [00:00, ?it/s]"
      ]
     },
     "metadata": {},
     "output_type": "display_data"
    },
    {
     "name": "stderr",
     "output_type": "stream",
     "text": [
      "LOCAL_RANK: 0 - CUDA_VISIBLE_DEVICES: [0]\n"
     ]
    },
    {
     "data": {
      "application/vnd.jupyter.widget-view+json": {
       "model_id": "c6f4b871edb04de78ac086e6a41c9de7",
       "version_major": 2,
       "version_minor": 0
      },
      "text/plain": [
       "Testing: 0it [00:00, ?it/s]"
      ]
     },
     "metadata": {},
     "output_type": "display_data"
    },
    {
     "name": "stderr",
     "output_type": "stream",
     "text": [
      "GPU available: True, used: True\n",
      "TPU available: None, using: 0 TPU cores\n",
      "LOCAL_RANK: 0 - CUDA_VISIBLE_DEVICES: [0]\n"
     ]
    },
    {
     "name": "stdout",
     "output_type": "stream",
     "text": [
      "#### model name: WGRU ####\n",
      "metrics: {'recall': 1.0, 'precision': 0.513, 'f1': 0.678, 'accuracy': 0.513, 'MAE': 46.619, 'RETE': 0.199}\n",
      "--------------------------------------------------------------------------------\n",
      "DATALOADER:0 TEST RESULTS\n",
      "{'metrics': {'MAE': 46.619,\n",
      "             'RETE': 0.199,\n",
      "             'accuracy': 0.513,\n",
      "             'f1': 0.678,\n",
      "             'precision': 0.513,\n",
      "             'recall': 1.0},\n",
      " 'model': 'WGRU',\n",
      " 'preds': array([0.01509984, 0.01510792, 0.01510206, ..., 0.01378167, 0.01378199,\n",
      "       0.01378191]),\n",
      " 'test_test_avg_loss': 0.00012984494969714433}\n",
      "--------------------------------------------------------------------------------\n",
      "####################\n",
      "Iteration:  2\n",
      "####################\n"
     ]
    },
    {
     "name": "stderr",
     "output_type": "stream",
     "text": [
      "\n",
      "  | Name  | Type | Params\n",
      "-------------------------------\n",
      "0 | model | WGRU | 698 K \n",
      "-------------------------------\n",
      "698 K     Trainable params\n",
      "0         Non-trainable params\n",
      "698 K     Total params\n",
      "2.794     Total estimated model params size (MB)\n"
     ]
    },
    {
     "data": {
      "application/vnd.jupyter.widget-view+json": {
       "model_id": "f225e72d59394ed3a5f1d5a22c09d891",
       "version_major": 2,
       "version_minor": 0
      },
      "text/plain": [
       "Training: 0it [00:00, ?it/s]"
      ]
     },
     "metadata": {},
     "output_type": "display_data"
    },
    {
     "name": "stderr",
     "output_type": "stream",
     "text": [
      "LOCAL_RANK: 0 - CUDA_VISIBLE_DEVICES: [0]\n"
     ]
    },
    {
     "data": {
      "application/vnd.jupyter.widget-view+json": {
       "model_id": "4c15acde29b34c238fea0147893c9af4",
       "version_major": 2,
       "version_minor": 0
      },
      "text/plain": [
       "Testing: 0it [00:00, ?it/s]"
      ]
     },
     "metadata": {},
     "output_type": "display_data"
    },
    {
     "name": "stderr",
     "output_type": "stream",
     "text": [
      "GPU available: True, used: True\n",
      "TPU available: None, using: 0 TPU cores\n",
      "LOCAL_RANK: 0 - CUDA_VISIBLE_DEVICES: [0]\n"
     ]
    },
    {
     "name": "stdout",
     "output_type": "stream",
     "text": [
      "#### model name: WGRU ####\n",
      "metrics: {'recall': 0.0, 'precision': nan, 'f1': nan, 'accuracy': 0.487, 'MAE': 48.195, 'RETE': 0.684}\n",
      "--------------------------------------------------------------------------------\n",
      "DATALOADER:0 TEST RESULTS\n",
      "{'metrics': {'MAE': 48.195,\n",
      "             'RETE': 0.684,\n",
      "             'accuracy': 0.487,\n",
      "             'f1': nan,\n",
      "             'precision': nan,\n",
      "             'recall': 0.0},\n",
      " 'model': 'WGRU',\n",
      " 'preds': array([0.00338406, 0.00338637, 0.00338437, ..., 0.00345779, 0.00345787,\n",
      "       0.00345775]),\n",
      " 'test_test_avg_loss': 0.00019365217303857207}\n",
      "--------------------------------------------------------------------------------\n",
      "####################\n",
      "Iteration:  3\n",
      "####################\n"
     ]
    },
    {
     "name": "stderr",
     "output_type": "stream",
     "text": [
      "\n",
      "  | Name  | Type | Params\n",
      "-------------------------------\n",
      "0 | model | WGRU | 698 K \n",
      "-------------------------------\n",
      "698 K     Trainable params\n",
      "0         Non-trainable params\n",
      "698 K     Total params\n",
      "2.794     Total estimated model params size (MB)\n"
     ]
    },
    {
     "data": {
      "application/vnd.jupyter.widget-view+json": {
       "model_id": "004d94dffef94a5591a719cc175b7ff2",
       "version_major": 2,
       "version_minor": 0
      },
      "text/plain": [
       "Training: 0it [00:00, ?it/s]"
      ]
     },
     "metadata": {},
     "output_type": "display_data"
    },
    {
     "name": "stderr",
     "output_type": "stream",
     "text": [
      "LOCAL_RANK: 0 - CUDA_VISIBLE_DEVICES: [0]\n"
     ]
    },
    {
     "data": {
      "application/vnd.jupyter.widget-view+json": {
       "model_id": "6490387a52e94df19411f02c9ce9fa83",
       "version_major": 2,
       "version_minor": 0
      },
      "text/plain": [
       "Testing: 0it [00:00, ?it/s]"
      ]
     },
     "metadata": {},
     "output_type": "display_data"
    },
    {
     "name": "stderr",
     "output_type": "stream",
     "text": [
      "GPU available: True, used: True\n",
      "TPU available: None, using: 0 TPU cores\n",
      "LOCAL_RANK: 0 - CUDA_VISIBLE_DEVICES: [0]\n"
     ]
    },
    {
     "name": "stdout",
     "output_type": "stream",
     "text": [
      "#### model name: WGRU ####\n",
      "metrics: {'recall': 0.0, 'precision': nan, 'f1': nan, 'accuracy': 0.487, 'MAE': 48.212, 'RETE': 0.879}\n",
      "--------------------------------------------------------------------------------\n",
      "DATALOADER:0 TEST RESULTS\n",
      "{'metrics': {'MAE': 48.212,\n",
      "             'RETE': 0.879,\n",
      "             'accuracy': 0.487,\n",
      "             'f1': nan,\n",
      "             'precision': nan,\n",
      "             'recall': 0.0},\n",
      " 'model': 'WGRU',\n",
      " 'preds': array([0.00224103, 0.00224321, 0.00223975, ..., 0.00132556, 0.00132573,\n",
      "       0.00132546]),\n",
      " 'test_test_avg_loss': 0.00023321657499764115}\n",
      "--------------------------------------------------------------------------------\n",
      "########################################\n",
      "MODEL:  S2P\n",
      "########################################\n",
      "####################\n",
      "Iteration:  1\n",
      "####################\n"
     ]
    },
    {
     "name": "stderr",
     "output_type": "stream",
     "text": [
      "\n",
      "  | Name  | Type | Params\n",
      "-------------------------------\n",
      "0 | model | S2P  | 2.6 M \n",
      "-------------------------------\n",
      "2.6 M     Trainable params\n",
      "0         Non-trainable params\n",
      "2.6 M     Total params\n",
      "10.437    Total estimated model params size (MB)\n"
     ]
    },
    {
     "data": {
      "application/vnd.jupyter.widget-view+json": {
       "model_id": "7afb013157dc4e33a0dd60a6ba4ffc2f",
       "version_major": 2,
       "version_minor": 0
      },
      "text/plain": [
       "Training: 0it [00:00, ?it/s]"
      ]
     },
     "metadata": {},
     "output_type": "display_data"
    },
    {
     "name": "stderr",
     "output_type": "stream",
     "text": [
      "LOCAL_RANK: 0 - CUDA_VISIBLE_DEVICES: [0]\n"
     ]
    },
    {
     "data": {
      "application/vnd.jupyter.widget-view+json": {
       "model_id": "2d03eedb45844396a35d11c51be4954e",
       "version_major": 2,
       "version_minor": 0
      },
      "text/plain": [
       "Testing: 0it [00:00, ?it/s]"
      ]
     },
     "metadata": {},
     "output_type": "display_data"
    },
    {
     "name": "stderr",
     "output_type": "stream",
     "text": [
      "GPU available: True, used: True\n",
      "TPU available: None, using: 0 TPU cores\n",
      "LOCAL_RANK: 0 - CUDA_VISIBLE_DEVICES: [0]\n"
     ]
    },
    {
     "name": "stdout",
     "output_type": "stream",
     "text": [
      "#### model name: S2P ####\n",
      "metrics: {'recall': 0.0, 'precision': nan, 'f1': nan, 'accuracy': 0.487, 'MAE': 47.256, 'RETE': 0.107}\n",
      "--------------------------------------------------------------------------------\n",
      "DATALOADER:0 TEST RESULTS\n",
      "{'metrics': {'MAE': 47.256,\n",
      "             'RETE': 0.107,\n",
      "             'accuracy': 0.487,\n",
      "             'f1': nan,\n",
      "             'precision': nan,\n",
      "             'recall': 0.0},\n",
      " 'model': 'S2P',\n",
      " 'preds': array([0.0092879 , 0.00928617, 0.00928651, ..., 0.00993212, 0.00993207,\n",
      "       0.00993206]),\n",
      " 'test_test_avg_loss': 0.00012912342208437622}\n",
      "--------------------------------------------------------------------------------\n",
      "####################\n",
      "Iteration:  2\n",
      "####################\n"
     ]
    },
    {
     "name": "stderr",
     "output_type": "stream",
     "text": [
      "\n",
      "  | Name  | Type | Params\n",
      "-------------------------------\n",
      "0 | model | S2P  | 2.6 M \n",
      "-------------------------------\n",
      "2.6 M     Trainable params\n",
      "0         Non-trainable params\n",
      "2.6 M     Total params\n",
      "10.437    Total estimated model params size (MB)\n"
     ]
    },
    {
     "data": {
      "application/vnd.jupyter.widget-view+json": {
       "model_id": "e7c0680e0550404c84c44c97c54b116c",
       "version_major": 2,
       "version_minor": 0
      },
      "text/plain": [
       "Training: 0it [00:00, ?it/s]"
      ]
     },
     "metadata": {},
     "output_type": "display_data"
    },
    {
     "name": "stderr",
     "output_type": "stream",
     "text": [
      "LOCAL_RANK: 0 - CUDA_VISIBLE_DEVICES: [0]\n"
     ]
    },
    {
     "data": {
      "application/vnd.jupyter.widget-view+json": {
       "model_id": "5072c56e938d43bdbafe0efe0968912f",
       "version_major": 2,
       "version_minor": 0
      },
      "text/plain": [
       "Testing: 0it [00:00, ?it/s]"
      ]
     },
     "metadata": {},
     "output_type": "display_data"
    },
    {
     "name": "stderr",
     "output_type": "stream",
     "text": [
      "GPU available: True, used: True\n",
      "TPU available: None, using: 0 TPU cores\n",
      "LOCAL_RANK: 0 - CUDA_VISIBLE_DEVICES: [0]\n"
     ]
    },
    {
     "name": "stdout",
     "output_type": "stream",
     "text": [
      "#### model name: S2P ####\n",
      "metrics: {'recall': 0.0, 'precision': nan, 'f1': nan, 'accuracy': 0.487, 'MAE': 48.383, 'RETE': 0.741}\n",
      "--------------------------------------------------------------------------------\n",
      "DATALOADER:0 TEST RESULTS\n",
      "{'metrics': {'MAE': 48.383,\n",
      "             'RETE': 0.741,\n",
      "             'accuracy': 0.487,\n",
      "             'f1': nan,\n",
      "             'precision': nan,\n",
      "             'recall': 0.0},\n",
      " 'model': 'S2P',\n",
      " 'preds': array([0.00288593, 0.00288568, 0.00288668, ..., 0.00276637, 0.00276645,\n",
      "       0.00276638]),\n",
      " 'test_test_avg_loss': 0.00020487731671892107}\n",
      "--------------------------------------------------------------------------------\n",
      "####################\n",
      "Iteration:  3\n",
      "####################\n"
     ]
    },
    {
     "name": "stderr",
     "output_type": "stream",
     "text": [
      "\n",
      "  | Name  | Type | Params\n",
      "-------------------------------\n",
      "0 | model | S2P  | 2.6 M \n",
      "-------------------------------\n",
      "2.6 M     Trainable params\n",
      "0         Non-trainable params\n",
      "2.6 M     Total params\n",
      "10.437    Total estimated model params size (MB)\n"
     ]
    },
    {
     "data": {
      "application/vnd.jupyter.widget-view+json": {
       "model_id": "80a22b22948b46a5a230dd1b480c4e20",
       "version_major": 2,
       "version_minor": 0
      },
      "text/plain": [
       "Training: 0it [00:00, ?it/s]"
      ]
     },
     "metadata": {},
     "output_type": "display_data"
    },
    {
     "name": "stderr",
     "output_type": "stream",
     "text": [
      "LOCAL_RANK: 0 - CUDA_VISIBLE_DEVICES: [0]\n"
     ]
    },
    {
     "data": {
      "application/vnd.jupyter.widget-view+json": {
       "model_id": "ac81bd6cd71040eebb7f653acb4ae6da",
       "version_major": 2,
       "version_minor": 0
      },
      "text/plain": [
       "Testing: 0it [00:00, ?it/s]"
      ]
     },
     "metadata": {},
     "output_type": "display_data"
    },
    {
     "name": "stdout",
     "output_type": "stream",
     "text": [
      "#### model name: S2P ####\n",
      "metrics: {'recall': 0.0, 'precision': nan, 'f1': nan, 'accuracy': 0.487, 'MAE': 47.778, 'RETE': 0.601}\n",
      "--------------------------------------------------------------------------------\n",
      "DATALOADER:0 TEST RESULTS\n",
      "{'metrics': {'MAE': 47.778,\n",
      "             'RETE': 0.601,\n",
      "             'accuracy': 0.487,\n",
      "             'f1': nan,\n",
      "             'precision': nan,\n",
      "             'recall': 0.0},\n",
      " 'model': 'S2P',\n",
      " 'preds': array([0.00519349, 0.00519371, 0.00519367, ..., 0.00439823, 0.00439825,\n",
      "       0.00439824]),\n",
      " 'test_test_avg_loss': 0.00017896386270876974}\n",
      "--------------------------------------------------------------------------------\n"
     ]
    }
   ],
   "source": [
    "eval_params={'device':device,\n",
    "             'mmax':mmax,\n",
    "             'groundtruth':ground}\n",
    "for model_name in mod_list:\n",
    "    print('#'*40)\n",
    "    print('MODEL: ', model_name)\n",
    "    print('#'*40)\n",
    "    for iteration in range(1,ITERATIONS+1):\n",
    "        print('#'*20)\n",
    "        print('Iteration: ', iteration)\n",
    "        print('#'*20)\n",
    "        m_hparams, results, preds = train_model(model_name=model_name,\n",
    "                                                model_hparams=model_hparams[model_name],\n",
    "                                                train_loader=train_loader, \n",
    "                                                test_loader=test_loader,\n",
    "                                                epochs=EPOCHS,\n",
    "                                                eval_params=eval_params)\n",
    "        save_report(ROOT, model_name, device, experiment_name,\n",
    "                    iteration, results, preds, ground)"
   ]
  },
  {
   "cell_type": "code",
   "execution_count": null,
   "id": "mighty-anthony",
   "metadata": {},
   "outputs": [],
   "source": []
  }
 ],
 "metadata": {
  "kernelspec": {
   "display_name": "Python 3",
   "language": "python",
   "name": "python3"
  },
  "language_info": {
   "codemirror_mode": {
    "name": "ipython",
    "version": 3
   },
   "file_extension": ".py",
   "mimetype": "text/x-python",
   "name": "python",
   "nbconvert_exporter": "python",
   "pygments_lexer": "ipython3",
   "version": "3.8.8"
  }
 },
 "nbformat": 4,
 "nbformat_minor": 5
}
